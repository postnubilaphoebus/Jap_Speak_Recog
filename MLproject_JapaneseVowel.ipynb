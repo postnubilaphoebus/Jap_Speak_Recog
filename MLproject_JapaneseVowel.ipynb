{
 "cells": [
  {
   "cell_type": "markdown",
   "metadata": {},
   "source": [
    "## Machine Learning Project: Japanese Vowel speaker classification"
   ]
  },
  {
   "cell_type": "markdown",
   "metadata": {},
   "source": [
    "### Importing data into time series arrays "
   ]
  },
  {
   "cell_type": "code",
   "execution_count": 1,
   "metadata": {
    "collapsed": true
   },
   "outputs": [],
   "source": [
    "import numpy as np\n",
    "import pandas as pd\n",
    "import copy"
   ]
  },
  {
   "cell_type": "code",
   "execution_count": 2,
   "metadata": {
    "collapsed": true
   },
   "outputs": [],
   "source": [
    "# importing data sets\n",
    "trainData = np.loadtxt(\"ae.train\")\n",
    "testData = np.loadtxt(\"ae.test\")"
   ]
  },
  {
   "cell_type": "markdown",
   "metadata": {},
   "source": [
    "#### Overview: \n",
    "* Training: 270 (30 utterances by 9 speakers. See file 'size_ae.train'.) \n",
    "* Testing: 370 (24-88 utterances by the same 9 speakers in different opportunities. See file 'size_ae.test'.) "
   ]
  },
  {
   "source": [
    "### Input Formatting"
   ],
   "cell_type": "markdown",
   "metadata": {}
  },
  {
   "cell_type": "code",
   "execution_count": 3,
   "metadata": {
    "collapsed": true
   },
   "outputs": [],
   "source": [
    "# obtaining 270 training time series arrays\n",
    "# arrays are (N x 12); where N is length of time series recording and 12 is number of dimensions (ie channels)\n",
    "trainInputs = np.empty((270,1), dtype=object)\n",
    "readindex = 0\n",
    "\n",
    "for i in range(1,271):\n",
    "    readindex = readindex + 1  \n",
    "    l = 0\n",
    "    while trainData[readindex-1, 1] != 1:\n",
    "        l = l + 1 \n",
    "        readindex = readindex + 1\n",
    "    trainInputs[i-1,0] = trainData[readindex-l-1:readindex-1,:]\n",
    "\n",
    "\n",
    "# obtaining 370 test time series arrays \n",
    "# arrays are (N x 12); where N is length of time series recording and 12 is number of dimensions (ie channels)\n",
    "testInputs = np.empty((370,1), dtype=object)\n",
    "readindex = 0\n",
    "\n",
    "# The last 12 entries of each recording are 1s, indicating 12 channels\n",
    "# They are droppped when reading in the data\n",
    "for i in range(1,371):\n",
    "    readindex = readindex + 1\n",
    "    l = 0 \n",
    "    while testData[readindex-1, 1] != 1:\n",
    "        l = l+1 \n",
    "        readindex = readindex + 1\n",
    "    testInputs[i-1,0] = testData[readindex-l-1:readindex-1,:] "
   ]
  },
  {
   "cell_type": "code",
   "execution_count": 4,
   "metadata": {
    "collapsed": true
   },
   "outputs": [],
   "source": [
    "# obtaining 270 training outputs (speaker targets)\n",
    "# arrays are (N x 9); where N is length of time series recording and 9 is number of different speakers\n",
    "# the speaker is indicated with a '1'\n",
    "trainOutputs = np.empty((270,1), dtype=object)\n",
    "\n",
    "for i in range(1,271):\n",
    "    l = np.size(trainInputs[i-1,0],0)\n",
    "    teacher = np.zeros((l,9))\n",
    "    speakerIndex = np.ceil(i/30)\n",
    "    teacher[:,np.int(speakerIndex)-1] = 1 \n",
    "    trainOutputs[i-1,0] = teacher\n",
    "\n",
    "# obtaining 370 test outputs (speaker targets)\n",
    "# arrays are (N x 9); where N is length of time series recording and 9 is number of different speakers\n",
    "# the speaker is indicated with a '1'\n",
    "testOutputs = np.empty((370,1), dtype=object)\n",
    "speakerIndex = 1\n",
    "blockCounter = 0\n",
    "blockLengthes = [31, 35, 88, 44, 29, 24, 40, 50, 29]\n",
    "for i in range(1, 371):\n",
    "    blockCounter = blockCounter + 1 \n",
    "    if blockCounter == blockLengthes[speakerIndex-1] + 1:\n",
    "        speakerIndex = speakerIndex + 1\n",
    "        blockCounter = 1\n",
    "    l = np.size(testInputs[i-1,0], 0)\n",
    "    teacher = np.zeros((l,9))\n",
    "    teacher[:,np.int(speakerIndex)-1] = 1   \n",
    "    testOutputs[i-1, 0] = teacher"
   ]
  },
  {
   "source": [
    "### Transforms the trainOutputs & testOutputs in classes 1-9"
   ],
   "cell_type": "markdown",
   "metadata": {}
  },
  {
   "cell_type": "code",
   "execution_count": 5,
   "metadata": {},
   "outputs": [],
   "source": [
    "# Transforms the trainOutputs in classes 1-9\n",
    "trainOutputsNew = np.empty((270,1), dtype=object)\n",
    "idxx = 0\n",
    "for elements in trainOutputs:\n",
    "    for i in range(len(elements[0][0])):\n",
    "       if elements[0][0][i] == 1:\n",
    "           trainOutputsNew[idxx] = i + 1\n",
    "           idxx = idxx + 1\n",
    "        \n",
    "trainOutputsNew = np.ravel(trainOutputsNew)\n",
    "trainOutputsNew = trainOutputsNew.astype('int')\n",
    "\n",
    "# Transform the testOutputs in classes 1 - 9\n",
    "testOutputsNew = np.empty((370,1), dtype=object)\n",
    "idxx = 0\n",
    "for elements in testOutputs:\n",
    "    for i in range(len(elements[0][0])):\n",
    "       if elements[0][0][i] == 1:\n",
    "           testOutputsNew[idxx] = i + 1\n",
    "           idxx = idxx + 1\n",
    "        \n",
    "testOutputsNew = np.ravel(testOutputsNew)\n",
    "testOutputsNew = testOutputsNew.astype('int')"
   ]
  },
  {
   "cell_type": "code",
   "execution_count": 6,
   "metadata": {
    "tags": []
   },
   "outputs": [
    {
     "output_type": "display_data",
     "data": {
      "text/plain": "<Figure size 432x288 with 1 Axes>",
      "image/svg+xml": "<?xml version=\"1.0\" encoding=\"utf-8\" standalone=\"no\"?>\n<!DOCTYPE svg PUBLIC \"-//W3C//DTD SVG 1.1//EN\"\n  \"http://www.w3.org/Graphics/SVG/1.1/DTD/svg11.dtd\">\n<!-- Created with matplotlib (https://matplotlib.org/) -->\n<svg height=\"277.314375pt\" version=\"1.1\" viewBox=\"0 0 382.603125 277.314375\" width=\"382.603125pt\" xmlns=\"http://www.w3.org/2000/svg\" xmlns:xlink=\"http://www.w3.org/1999/xlink\">\n <defs>\n  <style type=\"text/css\">\n*{stroke-linecap:butt;stroke-linejoin:round;}\n  </style>\n </defs>\n <g id=\"figure_1\">\n  <g id=\"patch_1\">\n   <path d=\"M 0 277.314375 \nL 382.603125 277.314375 \nL 382.603125 0 \nL 0 0 \nz\n\" style=\"fill:none;\"/>\n  </g>\n  <g id=\"axes_1\">\n   <g id=\"patch_2\">\n    <path d=\"M 40.603125 239.758125 \nL 375.403125 239.758125 \nL 375.403125 22.318125 \nL 40.603125 22.318125 \nz\n\" style=\"fill:#ffffff;\"/>\n   </g>\n   <g id=\"patch_3\">\n    <path clip-path=\"url(#p5f21362804)\" d=\"M 55.821307 239.758125 \nL 71.039489 239.758125 \nL 71.039489 234.707254 \nL 55.821307 234.707254 \nz\n\" style=\"fill:#1f77b4;stroke:#000000;stroke-linejoin:miter;\"/>\n   </g>\n   <g id=\"patch_4\">\n    <path clip-path=\"url(#p5f21362804)\" d=\"M 71.039489 239.758125 \nL 86.25767 239.758125 \nL 86.25767 239.758125 \nL 71.039489 239.758125 \nz\n\" style=\"fill:#1f77b4;stroke:#000000;stroke-linejoin:miter;\"/>\n   </g>\n   <g id=\"patch_5\">\n    <path clip-path=\"url(#p5f21362804)\" d=\"M 86.25767 239.758125 \nL 101.475852 239.758125 \nL 101.475852 229.656383 \nL 86.25767 229.656383 \nz\n\" style=\"fill:#1f77b4;stroke:#000000;stroke-linejoin:miter;\"/>\n   </g>\n   <g id=\"patch_6\">\n    <path clip-path=\"url(#p5f21362804)\" d=\"M 101.475852 239.758125 \nL 116.694034 239.758125 \nL 116.694034 189.249414 \nL 101.475852 189.249414 \nz\n\" style=\"fill:#1f77b4;stroke:#000000;stroke-linejoin:miter;\"/>\n   </g>\n   <g id=\"patch_7\">\n    <path clip-path=\"url(#p5f21362804)\" d=\"M 116.694034 239.758125 \nL 131.912216 239.758125 \nL 131.912216 148.842446 \nL 116.694034 148.842446 \nz\n\" style=\"fill:#1f77b4;stroke:#000000;stroke-linejoin:miter;\"/>\n   </g>\n   <g id=\"patch_8\">\n    <path clip-path=\"url(#p5f21362804)\" d=\"M 131.912216 239.758125 \nL 147.130398 239.758125 \nL 147.130398 128.638961 \nL 131.912216 128.638961 \nz\n\" style=\"fill:#1f77b4;stroke:#000000;stroke-linejoin:miter;\"/>\n   </g>\n   <g id=\"patch_9\">\n    <path clip-path=\"url(#p5f21362804)\" d=\"M 147.130398 239.758125 \nL 162.34858 239.758125 \nL 162.34858 133.689832 \nL 147.130398 133.689832 \nz\n\" style=\"fill:#1f77b4;stroke:#000000;stroke-linejoin:miter;\"/>\n   </g>\n   <g id=\"patch_10\">\n    <path clip-path=\"url(#p5f21362804)\" d=\"M 162.34858 239.758125 \nL 177.566761 239.758125 \nL 177.566761 128.638961 \nL 162.34858 128.638961 \nz\n\" style=\"fill:#1f77b4;stroke:#000000;stroke-linejoin:miter;\"/>\n   </g>\n   <g id=\"patch_11\">\n    <path clip-path=\"url(#p5f21362804)\" d=\"M 177.566761 239.758125 \nL 192.784943 239.758125 \nL 192.784943 32.672411 \nL 177.566761 32.672411 \nz\n\" style=\"fill:#1f77b4;stroke:#000000;stroke-linejoin:miter;\"/>\n   </g>\n   <g id=\"patch_12\">\n    <path clip-path=\"url(#p5f21362804)\" d=\"M 192.784943 239.758125 \nL 208.003125 239.758125 \nL 208.003125 98.333735 \nL 192.784943 98.333735 \nz\n\" style=\"fill:#1f77b4;stroke:#000000;stroke-linejoin:miter;\"/>\n   </g>\n   <g id=\"patch_13\">\n    <path clip-path=\"url(#p5f21362804)\" d=\"M 208.003125 239.758125 \nL 223.221307 239.758125 \nL 223.221307 103.384606 \nL 208.003125 103.384606 \nz\n\" style=\"fill:#1f77b4;stroke:#000000;stroke-linejoin:miter;\"/>\n   </g>\n   <g id=\"patch_14\">\n    <path clip-path=\"url(#p5f21362804)\" d=\"M 223.221307 239.758125 \nL 238.439489 239.758125 \nL 238.439489 128.638961 \nL 223.221307 128.638961 \nz\n\" style=\"fill:#1f77b4;stroke:#000000;stroke-linejoin:miter;\"/>\n   </g>\n   <g id=\"patch_15\">\n    <path clip-path=\"url(#p5f21362804)\" d=\"M 238.439489 239.758125 \nL 253.65767 239.758125 \nL 253.65767 174.096801 \nL 238.439489 174.096801 \nz\n\" style=\"fill:#1f77b4;stroke:#000000;stroke-linejoin:miter;\"/>\n   </g>\n   <g id=\"patch_16\">\n    <path clip-path=\"url(#p5f21362804)\" d=\"M 253.65767 239.758125 \nL 268.875852 239.758125 \nL 268.875852 199.351156 \nL 253.65767 199.351156 \nz\n\" style=\"fill:#1f77b4;stroke:#000000;stroke-linejoin:miter;\"/>\n   </g>\n   <g id=\"patch_17\">\n    <path clip-path=\"url(#p5f21362804)\" d=\"M 268.875852 239.758125 \nL 284.094034 239.758125 \nL 284.094034 169.04593 \nL 268.875852 169.04593 \nz\n\" style=\"fill:#1f77b4;stroke:#000000;stroke-linejoin:miter;\"/>\n   </g>\n   <g id=\"patch_18\">\n    <path clip-path=\"url(#p5f21362804)\" d=\"M 284.094034 239.758125 \nL 299.312216 239.758125 \nL 299.312216 214.50377 \nL 284.094034 214.50377 \nz\n\" style=\"fill:#1f77b4;stroke:#000000;stroke-linejoin:miter;\"/>\n   </g>\n   <g id=\"patch_19\">\n    <path clip-path=\"url(#p5f21362804)\" d=\"M 299.312216 239.758125 \nL 314.530398 239.758125 \nL 314.530398 184.198543 \nL 299.312216 184.198543 \nz\n\" style=\"fill:#1f77b4;stroke:#000000;stroke-linejoin:miter;\"/>\n   </g>\n   <g id=\"patch_20\">\n    <path clip-path=\"url(#p5f21362804)\" d=\"M 314.530398 239.758125 \nL 329.74858 239.758125 \nL 329.74858 229.656383 \nL 314.530398 229.656383 \nz\n\" style=\"fill:#1f77b4;stroke:#000000;stroke-linejoin:miter;\"/>\n   </g>\n   <g id=\"patch_21\">\n    <path clip-path=\"url(#p5f21362804)\" d=\"M 329.74858 239.758125 \nL 344.966761 239.758125 \nL 344.966761 229.656383 \nL 329.74858 229.656383 \nz\n\" style=\"fill:#1f77b4;stroke:#000000;stroke-linejoin:miter;\"/>\n   </g>\n   <g id=\"patch_22\">\n    <path clip-path=\"url(#p5f21362804)\" d=\"M 344.966761 239.758125 \nL 360.184943 239.758125 \nL 360.184943 234.707254 \nL 344.966761 234.707254 \nz\n\" style=\"fill:#1f77b4;stroke:#000000;stroke-linejoin:miter;\"/>\n   </g>\n   <g id=\"matplotlib.axis_1\">\n    <g id=\"xtick_1\">\n     <g id=\"line2d_1\">\n      <defs>\n       <path d=\"M 0 0 \nL 0 3.5 \n\" id=\"mc02eafa5e6\" style=\"stroke:#000000;stroke-width:0.8;\"/>\n      </defs>\n      <g>\n       <use style=\"stroke:#000000;stroke-width:0.8;\" x=\"63.830876\" xlink:href=\"#mc02eafa5e6\" y=\"239.758125\"/>\n      </g>\n     </g>\n     <g id=\"text_1\">\n      <!-- 7.5 -->\n      <defs>\n       <path d=\"M 8.203125 72.90625 \nL 55.078125 72.90625 \nL 55.078125 68.703125 \nL 28.609375 0 \nL 18.3125 0 \nL 43.21875 64.59375 \nL 8.203125 64.59375 \nz\n\" id=\"DejaVuSans-55\"/>\n       <path d=\"M 10.6875 12.40625 \nL 21 12.40625 \nL 21 0 \nL 10.6875 0 \nz\n\" id=\"DejaVuSans-46\"/>\n       <path d=\"M 10.796875 72.90625 \nL 49.515625 72.90625 \nL 49.515625 64.59375 \nL 19.828125 64.59375 \nL 19.828125 46.734375 \nQ 21.96875 47.46875 24.109375 47.828125 \nQ 26.265625 48.1875 28.421875 48.1875 \nQ 40.625 48.1875 47.75 41.5 \nQ 54.890625 34.8125 54.890625 23.390625 \nQ 54.890625 11.625 47.5625 5.09375 \nQ 40.234375 -1.421875 26.90625 -1.421875 \nQ 22.3125 -1.421875 17.546875 -0.640625 \nQ 12.796875 0.140625 7.71875 1.703125 \nL 7.71875 11.625 \nQ 12.109375 9.234375 16.796875 8.0625 \nQ 21.484375 6.890625 26.703125 6.890625 \nQ 35.15625 6.890625 40.078125 11.328125 \nQ 45.015625 15.765625 45.015625 23.390625 \nQ 45.015625 31 40.078125 35.4375 \nQ 35.15625 39.890625 26.703125 39.890625 \nQ 22.75 39.890625 18.8125 39.015625 \nQ 14.890625 38.140625 10.796875 36.28125 \nz\n\" id=\"DejaVuSans-53\"/>\n      </defs>\n      <g transform=\"translate(55.879314 254.356562)scale(0.1 -0.1)\">\n       <use xlink:href=\"#DejaVuSans-55\"/>\n       <use x=\"63.623047\" xlink:href=\"#DejaVuSans-46\"/>\n       <use x=\"95.410156\" xlink:href=\"#DejaVuSans-53\"/>\n      </g>\n     </g>\n    </g>\n    <g id=\"xtick_2\">\n     <g id=\"line2d_2\">\n      <g>\n       <use style=\"stroke:#000000;stroke-width:0.8;\" x=\"103.878723\" xlink:href=\"#mc02eafa5e6\" y=\"239.758125\"/>\n      </g>\n     </g>\n     <g id=\"text_2\">\n      <!-- 10.0 -->\n      <defs>\n       <path d=\"M 12.40625 8.296875 \nL 28.515625 8.296875 \nL 28.515625 63.921875 \nL 10.984375 60.40625 \nL 10.984375 69.390625 \nL 28.421875 72.90625 \nL 38.28125 72.90625 \nL 38.28125 8.296875 \nL 54.390625 8.296875 \nL 54.390625 0 \nL 12.40625 0 \nz\n\" id=\"DejaVuSans-49\"/>\n       <path d=\"M 31.78125 66.40625 \nQ 24.171875 66.40625 20.328125 58.90625 \nQ 16.5 51.421875 16.5 36.375 \nQ 16.5 21.390625 20.328125 13.890625 \nQ 24.171875 6.390625 31.78125 6.390625 \nQ 39.453125 6.390625 43.28125 13.890625 \nQ 47.125 21.390625 47.125 36.375 \nQ 47.125 51.421875 43.28125 58.90625 \nQ 39.453125 66.40625 31.78125 66.40625 \nz\nM 31.78125 74.21875 \nQ 44.046875 74.21875 50.515625 64.515625 \nQ 56.984375 54.828125 56.984375 36.375 \nQ 56.984375 17.96875 50.515625 8.265625 \nQ 44.046875 -1.421875 31.78125 -1.421875 \nQ 19.53125 -1.421875 13.0625 8.265625 \nQ 6.59375 17.96875 6.59375 36.375 \nQ 6.59375 54.828125 13.0625 64.515625 \nQ 19.53125 74.21875 31.78125 74.21875 \nz\n\" id=\"DejaVuSans-48\"/>\n      </defs>\n      <g transform=\"translate(92.745911 254.356562)scale(0.1 -0.1)\">\n       <use xlink:href=\"#DejaVuSans-49\"/>\n       <use x=\"63.623047\" xlink:href=\"#DejaVuSans-48\"/>\n       <use x=\"127.246094\" xlink:href=\"#DejaVuSans-46\"/>\n       <use x=\"159.033203\" xlink:href=\"#DejaVuSans-48\"/>\n      </g>\n     </g>\n    </g>\n    <g id=\"xtick_3\">\n     <g id=\"line2d_3\">\n      <g>\n       <use style=\"stroke:#000000;stroke-width:0.8;\" x=\"143.92657\" xlink:href=\"#mc02eafa5e6\" y=\"239.758125\"/>\n      </g>\n     </g>\n     <g id=\"text_3\">\n      <!-- 12.5 -->\n      <defs>\n       <path d=\"M 19.1875 8.296875 \nL 53.609375 8.296875 \nL 53.609375 0 \nL 7.328125 0 \nL 7.328125 8.296875 \nQ 12.9375 14.109375 22.625 23.890625 \nQ 32.328125 33.6875 34.8125 36.53125 \nQ 39.546875 41.84375 41.421875 45.53125 \nQ 43.3125 49.21875 43.3125 52.78125 \nQ 43.3125 58.59375 39.234375 62.25 \nQ 35.15625 65.921875 28.609375 65.921875 \nQ 23.96875 65.921875 18.8125 64.3125 \nQ 13.671875 62.703125 7.8125 59.421875 \nL 7.8125 69.390625 \nQ 13.765625 71.78125 18.9375 73 \nQ 24.125 74.21875 28.421875 74.21875 \nQ 39.75 74.21875 46.484375 68.546875 \nQ 53.21875 62.890625 53.21875 53.421875 \nQ 53.21875 48.921875 51.53125 44.890625 \nQ 49.859375 40.875 45.40625 35.40625 \nQ 44.1875 33.984375 37.640625 27.21875 \nQ 31.109375 20.453125 19.1875 8.296875 \nz\n\" id=\"DejaVuSans-50\"/>\n      </defs>\n      <g transform=\"translate(132.793757 254.356562)scale(0.1 -0.1)\">\n       <use xlink:href=\"#DejaVuSans-49\"/>\n       <use x=\"63.623047\" xlink:href=\"#DejaVuSans-50\"/>\n       <use x=\"127.246094\" xlink:href=\"#DejaVuSans-46\"/>\n       <use x=\"159.033203\" xlink:href=\"#DejaVuSans-53\"/>\n      </g>\n     </g>\n    </g>\n    <g id=\"xtick_4\">\n     <g id=\"line2d_4\">\n      <g>\n       <use style=\"stroke:#000000;stroke-width:0.8;\" x=\"183.974417\" xlink:href=\"#mc02eafa5e6\" y=\"239.758125\"/>\n      </g>\n     </g>\n     <g id=\"text_4\">\n      <!-- 15.0 -->\n      <g transform=\"translate(172.841604 254.356562)scale(0.1 -0.1)\">\n       <use xlink:href=\"#DejaVuSans-49\"/>\n       <use x=\"63.623047\" xlink:href=\"#DejaVuSans-53\"/>\n       <use x=\"127.246094\" xlink:href=\"#DejaVuSans-46\"/>\n       <use x=\"159.033203\" xlink:href=\"#DejaVuSans-48\"/>\n      </g>\n     </g>\n    </g>\n    <g id=\"xtick_5\">\n     <g id=\"line2d_5\">\n      <g>\n       <use style=\"stroke:#000000;stroke-width:0.8;\" x=\"224.022264\" xlink:href=\"#mc02eafa5e6\" y=\"239.758125\"/>\n      </g>\n     </g>\n     <g id=\"text_5\">\n      <!-- 17.5 -->\n      <g transform=\"translate(212.889451 254.356562)scale(0.1 -0.1)\">\n       <use xlink:href=\"#DejaVuSans-49\"/>\n       <use x=\"63.623047\" xlink:href=\"#DejaVuSans-55\"/>\n       <use x=\"127.246094\" xlink:href=\"#DejaVuSans-46\"/>\n       <use x=\"159.033203\" xlink:href=\"#DejaVuSans-53\"/>\n      </g>\n     </g>\n    </g>\n    <g id=\"xtick_6\">\n     <g id=\"line2d_6\">\n      <g>\n       <use style=\"stroke:#000000;stroke-width:0.8;\" x=\"264.070111\" xlink:href=\"#mc02eafa5e6\" y=\"239.758125\"/>\n      </g>\n     </g>\n     <g id=\"text_6\">\n      <!-- 20.0 -->\n      <g transform=\"translate(252.937298 254.356562)scale(0.1 -0.1)\">\n       <use xlink:href=\"#DejaVuSans-50\"/>\n       <use x=\"63.623047\" xlink:href=\"#DejaVuSans-48\"/>\n       <use x=\"127.246094\" xlink:href=\"#DejaVuSans-46\"/>\n       <use x=\"159.033203\" xlink:href=\"#DejaVuSans-48\"/>\n      </g>\n     </g>\n    </g>\n    <g id=\"xtick_7\">\n     <g id=\"line2d_7\">\n      <g>\n       <use style=\"stroke:#000000;stroke-width:0.8;\" x=\"304.117958\" xlink:href=\"#mc02eafa5e6\" y=\"239.758125\"/>\n      </g>\n     </g>\n     <g id=\"text_7\">\n      <!-- 22.5 -->\n      <g transform=\"translate(292.985145 254.356562)scale(0.1 -0.1)\">\n       <use xlink:href=\"#DejaVuSans-50\"/>\n       <use x=\"63.623047\" xlink:href=\"#DejaVuSans-50\"/>\n       <use x=\"127.246094\" xlink:href=\"#DejaVuSans-46\"/>\n       <use x=\"159.033203\" xlink:href=\"#DejaVuSans-53\"/>\n      </g>\n     </g>\n    </g>\n    <g id=\"xtick_8\">\n     <g id=\"line2d_8\">\n      <g>\n       <use style=\"stroke:#000000;stroke-width:0.8;\" x=\"344.165804\" xlink:href=\"#mc02eafa5e6\" y=\"239.758125\"/>\n      </g>\n     </g>\n     <g id=\"text_8\">\n      <!-- 25.0 -->\n      <g transform=\"translate(333.032992 254.356562)scale(0.1 -0.1)\">\n       <use xlink:href=\"#DejaVuSans-50\"/>\n       <use x=\"63.623047\" xlink:href=\"#DejaVuSans-53\"/>\n       <use x=\"127.246094\" xlink:href=\"#DejaVuSans-46\"/>\n       <use x=\"159.033203\" xlink:href=\"#DejaVuSans-48\"/>\n      </g>\n     </g>\n    </g>\n    <g id=\"text_9\">\n     <!-- Timeseries length -->\n     <defs>\n      <path d=\"M -0.296875 72.90625 \nL 61.375 72.90625 \nL 61.375 64.59375 \nL 35.5 64.59375 \nL 35.5 0 \nL 25.59375 0 \nL 25.59375 64.59375 \nL -0.296875 64.59375 \nz\n\" id=\"DejaVuSans-84\"/>\n      <path d=\"M 9.421875 54.6875 \nL 18.40625 54.6875 \nL 18.40625 0 \nL 9.421875 0 \nz\nM 9.421875 75.984375 \nL 18.40625 75.984375 \nL 18.40625 64.59375 \nL 9.421875 64.59375 \nz\n\" id=\"DejaVuSans-105\"/>\n      <path d=\"M 52 44.1875 \nQ 55.375 50.25 60.0625 53.125 \nQ 64.75 56 71.09375 56 \nQ 79.640625 56 84.28125 50.015625 \nQ 88.921875 44.046875 88.921875 33.015625 \nL 88.921875 0 \nL 79.890625 0 \nL 79.890625 32.71875 \nQ 79.890625 40.578125 77.09375 44.375 \nQ 74.3125 48.1875 68.609375 48.1875 \nQ 61.625 48.1875 57.5625 43.546875 \nQ 53.515625 38.921875 53.515625 30.90625 \nL 53.515625 0 \nL 44.484375 0 \nL 44.484375 32.71875 \nQ 44.484375 40.625 41.703125 44.40625 \nQ 38.921875 48.1875 33.109375 48.1875 \nQ 26.21875 48.1875 22.15625 43.53125 \nQ 18.109375 38.875 18.109375 30.90625 \nL 18.109375 0 \nL 9.078125 0 \nL 9.078125 54.6875 \nL 18.109375 54.6875 \nL 18.109375 46.1875 \nQ 21.1875 51.21875 25.484375 53.609375 \nQ 29.78125 56 35.6875 56 \nQ 41.65625 56 45.828125 52.96875 \nQ 50 49.953125 52 44.1875 \nz\n\" id=\"DejaVuSans-109\"/>\n      <path d=\"M 56.203125 29.59375 \nL 56.203125 25.203125 \nL 14.890625 25.203125 \nQ 15.484375 15.921875 20.484375 11.0625 \nQ 25.484375 6.203125 34.421875 6.203125 \nQ 39.59375 6.203125 44.453125 7.46875 \nQ 49.3125 8.734375 54.109375 11.28125 \nL 54.109375 2.78125 \nQ 49.265625 0.734375 44.1875 -0.34375 \nQ 39.109375 -1.421875 33.890625 -1.421875 \nQ 20.796875 -1.421875 13.15625 6.1875 \nQ 5.515625 13.8125 5.515625 26.8125 \nQ 5.515625 40.234375 12.765625 48.109375 \nQ 20.015625 56 32.328125 56 \nQ 43.359375 56 49.78125 48.890625 \nQ 56.203125 41.796875 56.203125 29.59375 \nz\nM 47.21875 32.234375 \nQ 47.125 39.59375 43.09375 43.984375 \nQ 39.0625 48.390625 32.421875 48.390625 \nQ 24.90625 48.390625 20.390625 44.140625 \nQ 15.875 39.890625 15.1875 32.171875 \nz\n\" id=\"DejaVuSans-101\"/>\n      <path d=\"M 44.28125 53.078125 \nL 44.28125 44.578125 \nQ 40.484375 46.53125 36.375 47.5 \nQ 32.28125 48.484375 27.875 48.484375 \nQ 21.1875 48.484375 17.84375 46.4375 \nQ 14.5 44.390625 14.5 40.28125 \nQ 14.5 37.15625 16.890625 35.375 \nQ 19.28125 33.59375 26.515625 31.984375 \nL 29.59375 31.296875 \nQ 39.15625 29.25 43.1875 25.515625 \nQ 47.21875 21.78125 47.21875 15.09375 \nQ 47.21875 7.46875 41.1875 3.015625 \nQ 35.15625 -1.421875 24.609375 -1.421875 \nQ 20.21875 -1.421875 15.453125 -0.5625 \nQ 10.6875 0.296875 5.421875 2 \nL 5.421875 11.28125 \nQ 10.40625 8.6875 15.234375 7.390625 \nQ 20.0625 6.109375 24.8125 6.109375 \nQ 31.15625 6.109375 34.5625 8.28125 \nQ 37.984375 10.453125 37.984375 14.40625 \nQ 37.984375 18.0625 35.515625 20.015625 \nQ 33.0625 21.96875 24.703125 23.78125 \nL 21.578125 24.515625 \nQ 13.234375 26.265625 9.515625 29.90625 \nQ 5.8125 33.546875 5.8125 39.890625 \nQ 5.8125 47.609375 11.28125 51.796875 \nQ 16.75 56 26.8125 56 \nQ 31.78125 56 36.171875 55.265625 \nQ 40.578125 54.546875 44.28125 53.078125 \nz\n\" id=\"DejaVuSans-115\"/>\n      <path d=\"M 41.109375 46.296875 \nQ 39.59375 47.171875 37.8125 47.578125 \nQ 36.03125 48 33.890625 48 \nQ 26.265625 48 22.1875 43.046875 \nQ 18.109375 38.09375 18.109375 28.8125 \nL 18.109375 0 \nL 9.078125 0 \nL 9.078125 54.6875 \nL 18.109375 54.6875 \nL 18.109375 46.1875 \nQ 20.953125 51.171875 25.484375 53.578125 \nQ 30.03125 56 36.53125 56 \nQ 37.453125 56 38.578125 55.875 \nQ 39.703125 55.765625 41.0625 55.515625 \nz\n\" id=\"DejaVuSans-114\"/>\n      <path id=\"DejaVuSans-32\"/>\n      <path d=\"M 9.421875 75.984375 \nL 18.40625 75.984375 \nL 18.40625 0 \nL 9.421875 0 \nz\n\" id=\"DejaVuSans-108\"/>\n      <path d=\"M 54.890625 33.015625 \nL 54.890625 0 \nL 45.90625 0 \nL 45.90625 32.71875 \nQ 45.90625 40.484375 42.875 44.328125 \nQ 39.84375 48.1875 33.796875 48.1875 \nQ 26.515625 48.1875 22.3125 43.546875 \nQ 18.109375 38.921875 18.109375 30.90625 \nL 18.109375 0 \nL 9.078125 0 \nL 9.078125 54.6875 \nL 18.109375 54.6875 \nL 18.109375 46.1875 \nQ 21.34375 51.125 25.703125 53.5625 \nQ 30.078125 56 35.796875 56 \nQ 45.21875 56 50.046875 50.171875 \nQ 54.890625 44.34375 54.890625 33.015625 \nz\n\" id=\"DejaVuSans-110\"/>\n      <path d=\"M 45.40625 27.984375 \nQ 45.40625 37.75 41.375 43.109375 \nQ 37.359375 48.484375 30.078125 48.484375 \nQ 22.859375 48.484375 18.828125 43.109375 \nQ 14.796875 37.75 14.796875 27.984375 \nQ 14.796875 18.265625 18.828125 12.890625 \nQ 22.859375 7.515625 30.078125 7.515625 \nQ 37.359375 7.515625 41.375 12.890625 \nQ 45.40625 18.265625 45.40625 27.984375 \nz\nM 54.390625 6.78125 \nQ 54.390625 -7.171875 48.1875 -13.984375 \nQ 42 -20.796875 29.203125 -20.796875 \nQ 24.46875 -20.796875 20.265625 -20.09375 \nQ 16.0625 -19.390625 12.109375 -17.921875 \nL 12.109375 -9.1875 \nQ 16.0625 -11.328125 19.921875 -12.34375 \nQ 23.78125 -13.375 27.78125 -13.375 \nQ 36.625 -13.375 41.015625 -8.765625 \nQ 45.40625 -4.15625 45.40625 5.171875 \nL 45.40625 9.625 \nQ 42.625 4.78125 38.28125 2.390625 \nQ 33.9375 0 27.875 0 \nQ 17.828125 0 11.671875 7.65625 \nQ 5.515625 15.328125 5.515625 27.984375 \nQ 5.515625 40.671875 11.671875 48.328125 \nQ 17.828125 56 27.875 56 \nQ 33.9375 56 38.28125 53.609375 \nQ 42.625 51.21875 45.40625 46.390625 \nL 45.40625 54.6875 \nL 54.390625 54.6875 \nz\n\" id=\"DejaVuSans-103\"/>\n      <path d=\"M 18.3125 70.21875 \nL 18.3125 54.6875 \nL 36.8125 54.6875 \nL 36.8125 47.703125 \nL 18.3125 47.703125 \nL 18.3125 18.015625 \nQ 18.3125 11.328125 20.140625 9.421875 \nQ 21.96875 7.515625 27.59375 7.515625 \nL 36.8125 7.515625 \nL 36.8125 0 \nL 27.59375 0 \nQ 17.1875 0 13.234375 3.875 \nQ 9.28125 7.765625 9.28125 18.015625 \nL 9.28125 47.703125 \nL 2.6875 47.703125 \nL 2.6875 54.6875 \nL 9.28125 54.6875 \nL 9.28125 70.21875 \nz\n\" id=\"DejaVuSans-116\"/>\n      <path d=\"M 54.890625 33.015625 \nL 54.890625 0 \nL 45.90625 0 \nL 45.90625 32.71875 \nQ 45.90625 40.484375 42.875 44.328125 \nQ 39.84375 48.1875 33.796875 48.1875 \nQ 26.515625 48.1875 22.3125 43.546875 \nQ 18.109375 38.921875 18.109375 30.90625 \nL 18.109375 0 \nL 9.078125 0 \nL 9.078125 75.984375 \nL 18.109375 75.984375 \nL 18.109375 46.1875 \nQ 21.34375 51.125 25.703125 53.5625 \nQ 30.078125 56 35.796875 56 \nQ 45.21875 56 50.046875 50.171875 \nQ 54.890625 44.34375 54.890625 33.015625 \nz\n\" id=\"DejaVuSans-104\"/>\n     </defs>\n     <g transform=\"translate(163.282031 268.034687)scale(0.1 -0.1)\">\n      <use xlink:href=\"#DejaVuSans-84\"/>\n      <use x=\"61.037109\" xlink:href=\"#DejaVuSans-105\"/>\n      <use x=\"88.820312\" xlink:href=\"#DejaVuSans-109\"/>\n      <use x=\"186.232422\" xlink:href=\"#DejaVuSans-101\"/>\n      <use x=\"247.755859\" xlink:href=\"#DejaVuSans-115\"/>\n      <use x=\"299.855469\" xlink:href=\"#DejaVuSans-101\"/>\n      <use x=\"361.378906\" xlink:href=\"#DejaVuSans-114\"/>\n      <use x=\"402.492188\" xlink:href=\"#DejaVuSans-105\"/>\n      <use x=\"430.275391\" xlink:href=\"#DejaVuSans-101\"/>\n      <use x=\"491.798828\" xlink:href=\"#DejaVuSans-115\"/>\n      <use x=\"543.898438\" xlink:href=\"#DejaVuSans-32\"/>\n      <use x=\"575.685547\" xlink:href=\"#DejaVuSans-108\"/>\n      <use x=\"603.46875\" xlink:href=\"#DejaVuSans-101\"/>\n      <use x=\"664.992188\" xlink:href=\"#DejaVuSans-110\"/>\n      <use x=\"728.371094\" xlink:href=\"#DejaVuSans-103\"/>\n      <use x=\"791.847656\" xlink:href=\"#DejaVuSans-116\"/>\n      <use x=\"831.056641\" xlink:href=\"#DejaVuSans-104\"/>\n     </g>\n    </g>\n   </g>\n   <g id=\"matplotlib.axis_2\">\n    <g id=\"ytick_1\">\n     <g id=\"line2d_9\">\n      <defs>\n       <path d=\"M 0 0 \nL -3.5 0 \n\" id=\"mcde2d5f0ff\" style=\"stroke:#000000;stroke-width:0.8;\"/>\n      </defs>\n      <g>\n       <use style=\"stroke:#000000;stroke-width:0.8;\" x=\"40.603125\" xlink:href=\"#mcde2d5f0ff\" y=\"239.758125\"/>\n      </g>\n     </g>\n     <g id=\"text_10\">\n      <!-- 0 -->\n      <g transform=\"translate(27.240625 243.557344)scale(0.1 -0.1)\">\n       <use xlink:href=\"#DejaVuSans-48\"/>\n      </g>\n     </g>\n    </g>\n    <g id=\"ytick_2\">\n     <g id=\"line2d_10\">\n      <g>\n       <use style=\"stroke:#000000;stroke-width:0.8;\" x=\"40.603125\" xlink:href=\"#mcde2d5f0ff\" y=\"214.50377\"/>\n      </g>\n     </g>\n     <g id=\"text_11\">\n      <!-- 5 -->\n      <g transform=\"translate(27.240625 218.302988)scale(0.1 -0.1)\">\n       <use xlink:href=\"#DejaVuSans-53\"/>\n      </g>\n     </g>\n    </g>\n    <g id=\"ytick_3\">\n     <g id=\"line2d_11\">\n      <g>\n       <use style=\"stroke:#000000;stroke-width:0.8;\" x=\"40.603125\" xlink:href=\"#mcde2d5f0ff\" y=\"189.249414\"/>\n      </g>\n     </g>\n     <g id=\"text_12\">\n      <!-- 10 -->\n      <g transform=\"translate(20.878125 193.048633)scale(0.1 -0.1)\">\n       <use xlink:href=\"#DejaVuSans-49\"/>\n       <use x=\"63.623047\" xlink:href=\"#DejaVuSans-48\"/>\n      </g>\n     </g>\n    </g>\n    <g id=\"ytick_4\">\n     <g id=\"line2d_12\">\n      <g>\n       <use style=\"stroke:#000000;stroke-width:0.8;\" x=\"40.603125\" xlink:href=\"#mcde2d5f0ff\" y=\"163.995059\"/>\n      </g>\n     </g>\n     <g id=\"text_13\">\n      <!-- 15 -->\n      <g transform=\"translate(20.878125 167.794278)scale(0.1 -0.1)\">\n       <use xlink:href=\"#DejaVuSans-49\"/>\n       <use x=\"63.623047\" xlink:href=\"#DejaVuSans-53\"/>\n      </g>\n     </g>\n    </g>\n    <g id=\"ytick_5\">\n     <g id=\"line2d_13\">\n      <g>\n       <use style=\"stroke:#000000;stroke-width:0.8;\" x=\"40.603125\" xlink:href=\"#mcde2d5f0ff\" y=\"138.740703\"/>\n      </g>\n     </g>\n     <g id=\"text_14\">\n      <!-- 20 -->\n      <g transform=\"translate(20.878125 142.539922)scale(0.1 -0.1)\">\n       <use xlink:href=\"#DejaVuSans-50\"/>\n       <use x=\"63.623047\" xlink:href=\"#DejaVuSans-48\"/>\n      </g>\n     </g>\n    </g>\n    <g id=\"ytick_6\">\n     <g id=\"line2d_14\">\n      <g>\n       <use style=\"stroke:#000000;stroke-width:0.8;\" x=\"40.603125\" xlink:href=\"#mcde2d5f0ff\" y=\"113.486348\"/>\n      </g>\n     </g>\n     <g id=\"text_15\">\n      <!-- 25 -->\n      <g transform=\"translate(20.878125 117.285567)scale(0.1 -0.1)\">\n       <use xlink:href=\"#DejaVuSans-50\"/>\n       <use x=\"63.623047\" xlink:href=\"#DejaVuSans-53\"/>\n      </g>\n     </g>\n    </g>\n    <g id=\"ytick_7\">\n     <g id=\"line2d_15\">\n      <g>\n       <use style=\"stroke:#000000;stroke-width:0.8;\" x=\"40.603125\" xlink:href=\"#mcde2d5f0ff\" y=\"88.231993\"/>\n      </g>\n     </g>\n     <g id=\"text_16\">\n      <!-- 30 -->\n      <defs>\n       <path d=\"M 40.578125 39.3125 \nQ 47.65625 37.796875 51.625 33 \nQ 55.609375 28.21875 55.609375 21.1875 \nQ 55.609375 10.40625 48.1875 4.484375 \nQ 40.765625 -1.421875 27.09375 -1.421875 \nQ 22.515625 -1.421875 17.65625 -0.515625 \nQ 12.796875 0.390625 7.625 2.203125 \nL 7.625 11.71875 \nQ 11.71875 9.328125 16.59375 8.109375 \nQ 21.484375 6.890625 26.8125 6.890625 \nQ 36.078125 6.890625 40.9375 10.546875 \nQ 45.796875 14.203125 45.796875 21.1875 \nQ 45.796875 27.640625 41.28125 31.265625 \nQ 36.765625 34.90625 28.71875 34.90625 \nL 20.21875 34.90625 \nL 20.21875 43.015625 \nL 29.109375 43.015625 \nQ 36.375 43.015625 40.234375 45.921875 \nQ 44.09375 48.828125 44.09375 54.296875 \nQ 44.09375 59.90625 40.109375 62.90625 \nQ 36.140625 65.921875 28.71875 65.921875 \nQ 24.65625 65.921875 20.015625 65.03125 \nQ 15.375 64.15625 9.8125 62.3125 \nL 9.8125 71.09375 \nQ 15.4375 72.65625 20.34375 73.4375 \nQ 25.25 74.21875 29.59375 74.21875 \nQ 40.828125 74.21875 47.359375 69.109375 \nQ 53.90625 64.015625 53.90625 55.328125 \nQ 53.90625 49.265625 50.4375 45.09375 \nQ 46.96875 40.921875 40.578125 39.3125 \nz\n\" id=\"DejaVuSans-51\"/>\n      </defs>\n      <g transform=\"translate(20.878125 92.031211)scale(0.1 -0.1)\">\n       <use xlink:href=\"#DejaVuSans-51\"/>\n       <use x=\"63.623047\" xlink:href=\"#DejaVuSans-48\"/>\n      </g>\n     </g>\n    </g>\n    <g id=\"ytick_8\">\n     <g id=\"line2d_16\">\n      <g>\n       <use style=\"stroke:#000000;stroke-width:0.8;\" x=\"40.603125\" xlink:href=\"#mcde2d5f0ff\" y=\"62.977637\"/>\n      </g>\n     </g>\n     <g id=\"text_17\">\n      <!-- 35 -->\n      <g transform=\"translate(20.878125 66.776856)scale(0.1 -0.1)\">\n       <use xlink:href=\"#DejaVuSans-51\"/>\n       <use x=\"63.623047\" xlink:href=\"#DejaVuSans-53\"/>\n      </g>\n     </g>\n    </g>\n    <g id=\"ytick_9\">\n     <g id=\"line2d_17\">\n      <g>\n       <use style=\"stroke:#000000;stroke-width:0.8;\" x=\"40.603125\" xlink:href=\"#mcde2d5f0ff\" y=\"37.723282\"/>\n      </g>\n     </g>\n     <g id=\"text_18\">\n      <!-- 40 -->\n      <defs>\n       <path d=\"M 37.796875 64.3125 \nL 12.890625 25.390625 \nL 37.796875 25.390625 \nz\nM 35.203125 72.90625 \nL 47.609375 72.90625 \nL 47.609375 25.390625 \nL 58.015625 25.390625 \nL 58.015625 17.1875 \nL 47.609375 17.1875 \nL 47.609375 0 \nL 37.796875 0 \nL 37.796875 17.1875 \nL 4.890625 17.1875 \nL 4.890625 26.703125 \nz\n\" id=\"DejaVuSans-52\"/>\n      </defs>\n      <g transform=\"translate(20.878125 41.522501)scale(0.1 -0.1)\">\n       <use xlink:href=\"#DejaVuSans-52\"/>\n       <use x=\"63.623047\" xlink:href=\"#DejaVuSans-48\"/>\n      </g>\n     </g>\n    </g>\n    <g id=\"text_19\">\n     <!-- Frequency -->\n     <defs>\n      <path d=\"M 9.8125 72.90625 \nL 51.703125 72.90625 \nL 51.703125 64.59375 \nL 19.671875 64.59375 \nL 19.671875 43.109375 \nL 48.578125 43.109375 \nL 48.578125 34.8125 \nL 19.671875 34.8125 \nL 19.671875 0 \nL 9.8125 0 \nz\n\" id=\"DejaVuSans-70\"/>\n      <path d=\"M 14.796875 27.296875 \nQ 14.796875 17.390625 18.875 11.75 \nQ 22.953125 6.109375 30.078125 6.109375 \nQ 37.203125 6.109375 41.296875 11.75 \nQ 45.40625 17.390625 45.40625 27.296875 \nQ 45.40625 37.203125 41.296875 42.84375 \nQ 37.203125 48.484375 30.078125 48.484375 \nQ 22.953125 48.484375 18.875 42.84375 \nQ 14.796875 37.203125 14.796875 27.296875 \nz\nM 45.40625 8.203125 \nQ 42.578125 3.328125 38.25 0.953125 \nQ 33.9375 -1.421875 27.875 -1.421875 \nQ 17.96875 -1.421875 11.734375 6.484375 \nQ 5.515625 14.40625 5.515625 27.296875 \nQ 5.515625 40.1875 11.734375 48.09375 \nQ 17.96875 56 27.875 56 \nQ 33.9375 56 38.25 53.625 \nQ 42.578125 51.265625 45.40625 46.390625 \nL 45.40625 54.6875 \nL 54.390625 54.6875 \nL 54.390625 -20.796875 \nL 45.40625 -20.796875 \nz\n\" id=\"DejaVuSans-113\"/>\n      <path d=\"M 8.5 21.578125 \nL 8.5 54.6875 \nL 17.484375 54.6875 \nL 17.484375 21.921875 \nQ 17.484375 14.15625 20.5 10.265625 \nQ 23.53125 6.390625 29.59375 6.390625 \nQ 36.859375 6.390625 41.078125 11.03125 \nQ 45.3125 15.671875 45.3125 23.6875 \nL 45.3125 54.6875 \nL 54.296875 54.6875 \nL 54.296875 0 \nL 45.3125 0 \nL 45.3125 8.40625 \nQ 42.046875 3.421875 37.71875 1 \nQ 33.40625 -1.421875 27.6875 -1.421875 \nQ 18.265625 -1.421875 13.375 4.4375 \nQ 8.5 10.296875 8.5 21.578125 \nz\nM 31.109375 56 \nz\n\" id=\"DejaVuSans-117\"/>\n      <path d=\"M 48.78125 52.59375 \nL 48.78125 44.1875 \nQ 44.96875 46.296875 41.140625 47.34375 \nQ 37.3125 48.390625 33.40625 48.390625 \nQ 24.65625 48.390625 19.8125 42.84375 \nQ 14.984375 37.3125 14.984375 27.296875 \nQ 14.984375 17.28125 19.8125 11.734375 \nQ 24.65625 6.203125 33.40625 6.203125 \nQ 37.3125 6.203125 41.140625 7.25 \nQ 44.96875 8.296875 48.78125 10.40625 \nL 48.78125 2.09375 \nQ 45.015625 0.34375 40.984375 -0.53125 \nQ 36.96875 -1.421875 32.421875 -1.421875 \nQ 20.0625 -1.421875 12.78125 6.34375 \nQ 5.515625 14.109375 5.515625 27.296875 \nQ 5.515625 40.671875 12.859375 48.328125 \nQ 20.21875 56 33.015625 56 \nQ 37.15625 56 41.109375 55.140625 \nQ 45.0625 54.296875 48.78125 52.59375 \nz\n\" id=\"DejaVuSans-99\"/>\n      <path d=\"M 32.171875 -5.078125 \nQ 28.375 -14.84375 24.75 -17.8125 \nQ 21.140625 -20.796875 15.09375 -20.796875 \nL 7.90625 -20.796875 \nL 7.90625 -13.28125 \nL 13.1875 -13.28125 \nQ 16.890625 -13.28125 18.9375 -11.515625 \nQ 21 -9.765625 23.484375 -3.21875 \nL 25.09375 0.875 \nL 2.984375 54.6875 \nL 12.5 54.6875 \nL 29.59375 11.921875 \nL 46.6875 54.6875 \nL 56.203125 54.6875 \nz\n\" id=\"DejaVuSans-121\"/>\n     </defs>\n     <g transform=\"translate(14.798438 157.335781)rotate(-90)scale(0.1 -0.1)\">\n      <use xlink:href=\"#DejaVuSans-70\"/>\n      <use x=\"57.410156\" xlink:href=\"#DejaVuSans-114\"/>\n      <use x=\"98.492188\" xlink:href=\"#DejaVuSans-101\"/>\n      <use x=\"160.015625\" xlink:href=\"#DejaVuSans-113\"/>\n      <use x=\"223.492188\" xlink:href=\"#DejaVuSans-117\"/>\n      <use x=\"286.871094\" xlink:href=\"#DejaVuSans-101\"/>\n      <use x=\"348.394531\" xlink:href=\"#DejaVuSans-110\"/>\n      <use x=\"411.773438\" xlink:href=\"#DejaVuSans-99\"/>\n      <use x=\"466.753906\" xlink:href=\"#DejaVuSans-121\"/>\n     </g>\n    </g>\n   </g>\n   <g id=\"patch_23\">\n    <path d=\"M 40.603125 239.758125 \nL 40.603125 22.318125 \n\" style=\"fill:none;stroke:#000000;stroke-linecap:square;stroke-linejoin:miter;stroke-width:0.8;\"/>\n   </g>\n   <g id=\"patch_24\">\n    <path d=\"M 375.403125 239.758125 \nL 375.403125 22.318125 \n\" style=\"fill:none;stroke:#000000;stroke-linecap:square;stroke-linejoin:miter;stroke-width:0.8;\"/>\n   </g>\n   <g id=\"patch_25\">\n    <path d=\"M 40.603125 239.758125 \nL 375.403125 239.758125 \n\" style=\"fill:none;stroke:#000000;stroke-linecap:square;stroke-linejoin:miter;stroke-width:0.8;\"/>\n   </g>\n   <g id=\"patch_26\">\n    <path d=\"M 40.603125 22.318125 \nL 375.403125 22.318125 \n\" style=\"fill:none;stroke:#000000;stroke-linecap:square;stroke-linejoin:miter;stroke-width:0.8;\"/>\n   </g>\n   <g id=\"text_20\">\n    <!-- Counting timeseries length (total 270) -->\n    <defs>\n     <path d=\"M 64.40625 67.28125 \nL 64.40625 56.890625 \nQ 59.421875 61.53125 53.78125 63.8125 \nQ 48.140625 66.109375 41.796875 66.109375 \nQ 29.296875 66.109375 22.65625 58.46875 \nQ 16.015625 50.828125 16.015625 36.375 \nQ 16.015625 21.96875 22.65625 14.328125 \nQ 29.296875 6.6875 41.796875 6.6875 \nQ 48.140625 6.6875 53.78125 8.984375 \nQ 59.421875 11.28125 64.40625 15.921875 \nL 64.40625 5.609375 \nQ 59.234375 2.09375 53.4375 0.328125 \nQ 47.65625 -1.421875 41.21875 -1.421875 \nQ 24.65625 -1.421875 15.125 8.703125 \nQ 5.609375 18.84375 5.609375 36.375 \nQ 5.609375 53.953125 15.125 64.078125 \nQ 24.65625 74.21875 41.21875 74.21875 \nQ 47.75 74.21875 53.53125 72.484375 \nQ 59.328125 70.75 64.40625 67.28125 \nz\n\" id=\"DejaVuSans-67\"/>\n     <path d=\"M 30.609375 48.390625 \nQ 23.390625 48.390625 19.1875 42.75 \nQ 14.984375 37.109375 14.984375 27.296875 \nQ 14.984375 17.484375 19.15625 11.84375 \nQ 23.34375 6.203125 30.609375 6.203125 \nQ 37.796875 6.203125 41.984375 11.859375 \nQ 46.1875 17.53125 46.1875 27.296875 \nQ 46.1875 37.015625 41.984375 42.703125 \nQ 37.796875 48.390625 30.609375 48.390625 \nz\nM 30.609375 56 \nQ 42.328125 56 49.015625 48.375 \nQ 55.71875 40.765625 55.71875 27.296875 \nQ 55.71875 13.875 49.015625 6.21875 \nQ 42.328125 -1.421875 30.609375 -1.421875 \nQ 18.84375 -1.421875 12.171875 6.21875 \nQ 5.515625 13.875 5.515625 27.296875 \nQ 5.515625 40.765625 12.171875 48.375 \nQ 18.84375 56 30.609375 56 \nz\n\" id=\"DejaVuSans-111\"/>\n     <path d=\"M 31 75.875 \nQ 24.46875 64.65625 21.28125 53.65625 \nQ 18.109375 42.671875 18.109375 31.390625 \nQ 18.109375 20.125 21.3125 9.0625 \nQ 24.515625 -2 31 -13.1875 \nL 23.1875 -13.1875 \nQ 15.875 -1.703125 12.234375 9.375 \nQ 8.59375 20.453125 8.59375 31.390625 \nQ 8.59375 42.28125 12.203125 53.3125 \nQ 15.828125 64.359375 23.1875 75.875 \nz\n\" id=\"DejaVuSans-40\"/>\n     <path d=\"M 34.28125 27.484375 \nQ 23.390625 27.484375 19.1875 25 \nQ 14.984375 22.515625 14.984375 16.5 \nQ 14.984375 11.71875 18.140625 8.90625 \nQ 21.296875 6.109375 26.703125 6.109375 \nQ 34.1875 6.109375 38.703125 11.40625 \nQ 43.21875 16.703125 43.21875 25.484375 \nL 43.21875 27.484375 \nz\nM 52.203125 31.203125 \nL 52.203125 0 \nL 43.21875 0 \nL 43.21875 8.296875 \nQ 40.140625 3.328125 35.546875 0.953125 \nQ 30.953125 -1.421875 24.3125 -1.421875 \nQ 15.921875 -1.421875 10.953125 3.296875 \nQ 6 8.015625 6 15.921875 \nQ 6 25.140625 12.171875 29.828125 \nQ 18.359375 34.515625 30.609375 34.515625 \nL 43.21875 34.515625 \nL 43.21875 35.40625 \nQ 43.21875 41.609375 39.140625 45 \nQ 35.0625 48.390625 27.6875 48.390625 \nQ 23 48.390625 18.546875 47.265625 \nQ 14.109375 46.140625 10.015625 43.890625 \nL 10.015625 52.203125 \nQ 14.9375 54.109375 19.578125 55.046875 \nQ 24.21875 56 28.609375 56 \nQ 40.484375 56 46.34375 49.84375 \nQ 52.203125 43.703125 52.203125 31.203125 \nz\n\" id=\"DejaVuSans-97\"/>\n     <path d=\"M 8.015625 75.875 \nL 15.828125 75.875 \nQ 23.140625 64.359375 26.78125 53.3125 \nQ 30.421875 42.28125 30.421875 31.390625 \nQ 30.421875 20.453125 26.78125 9.375 \nQ 23.140625 -1.703125 15.828125 -13.1875 \nL 8.015625 -13.1875 \nQ 14.5 -2 17.703125 9.0625 \nQ 20.90625 20.125 20.90625 31.390625 \nQ 20.90625 42.671875 17.703125 53.65625 \nQ 14.5 64.65625 8.015625 75.875 \nz\n\" id=\"DejaVuSans-41\"/>\n    </defs>\n    <g transform=\"translate(92.976562 16.318125)scale(0.12 -0.12)\">\n     <use xlink:href=\"#DejaVuSans-67\"/>\n     <use x=\"69.824219\" xlink:href=\"#DejaVuSans-111\"/>\n     <use x=\"131.005859\" xlink:href=\"#DejaVuSans-117\"/>\n     <use x=\"194.384766\" xlink:href=\"#DejaVuSans-110\"/>\n     <use x=\"257.763672\" xlink:href=\"#DejaVuSans-116\"/>\n     <use x=\"296.972656\" xlink:href=\"#DejaVuSans-105\"/>\n     <use x=\"324.755859\" xlink:href=\"#DejaVuSans-110\"/>\n     <use x=\"388.134766\" xlink:href=\"#DejaVuSans-103\"/>\n     <use x=\"451.611328\" xlink:href=\"#DejaVuSans-32\"/>\n     <use x=\"483.398438\" xlink:href=\"#DejaVuSans-116\"/>\n     <use x=\"522.607422\" xlink:href=\"#DejaVuSans-105\"/>\n     <use x=\"550.390625\" xlink:href=\"#DejaVuSans-109\"/>\n     <use x=\"647.802734\" xlink:href=\"#DejaVuSans-101\"/>\n     <use x=\"709.326172\" xlink:href=\"#DejaVuSans-115\"/>\n     <use x=\"761.425781\" xlink:href=\"#DejaVuSans-101\"/>\n     <use x=\"822.949219\" xlink:href=\"#DejaVuSans-114\"/>\n     <use x=\"864.0625\" xlink:href=\"#DejaVuSans-105\"/>\n     <use x=\"891.845703\" xlink:href=\"#DejaVuSans-101\"/>\n     <use x=\"953.369141\" xlink:href=\"#DejaVuSans-115\"/>\n     <use x=\"1005.46875\" xlink:href=\"#DejaVuSans-32\"/>\n     <use x=\"1037.255859\" xlink:href=\"#DejaVuSans-108\"/>\n     <use x=\"1065.039062\" xlink:href=\"#DejaVuSans-101\"/>\n     <use x=\"1126.5625\" xlink:href=\"#DejaVuSans-110\"/>\n     <use x=\"1189.941406\" xlink:href=\"#DejaVuSans-103\"/>\n     <use x=\"1253.417969\" xlink:href=\"#DejaVuSans-116\"/>\n     <use x=\"1292.626953\" xlink:href=\"#DejaVuSans-104\"/>\n     <use x=\"1356.005859\" xlink:href=\"#DejaVuSans-32\"/>\n     <use x=\"1387.792969\" xlink:href=\"#DejaVuSans-40\"/>\n     <use x=\"1426.806641\" xlink:href=\"#DejaVuSans-116\"/>\n     <use x=\"1466.015625\" xlink:href=\"#DejaVuSans-111\"/>\n     <use x=\"1527.197266\" xlink:href=\"#DejaVuSans-116\"/>\n     <use x=\"1566.40625\" xlink:href=\"#DejaVuSans-97\"/>\n     <use x=\"1627.685547\" xlink:href=\"#DejaVuSans-108\"/>\n     <use x=\"1655.46875\" xlink:href=\"#DejaVuSans-32\"/>\n     <use x=\"1687.255859\" xlink:href=\"#DejaVuSans-50\"/>\n     <use x=\"1750.878906\" xlink:href=\"#DejaVuSans-55\"/>\n     <use x=\"1814.501953\" xlink:href=\"#DejaVuSans-48\"/>\n     <use x=\"1878.125\" xlink:href=\"#DejaVuSans-41\"/>\n    </g>\n   </g>\n  </g>\n </g>\n <defs>\n  <clipPath id=\"p5f21362804\">\n   <rect height=\"217.44\" width=\"334.8\" x=\"40.603125\" y=\"22.318125\"/>\n  </clipPath>\n </defs>\n</svg>\n",
      "image/png": "[encoded data removed]"
     },
     "metadata": {
      "needs_background": "light"
     }
    }
   ],
   "source": [
    "# Prints histogram of timeseries length (exploratory analysis)\n",
    "import matplotlib.pyplot as plt\n",
    "\n",
    "histos = np.zeros(270)\n",
    "\n",
    "for i in range(270):\n",
    "    histos[i] = (len(trainInputs[i, 0]))\n",
    "\n",
    "#print(histos)\n",
    "plt.title('Counting timeseries length (total 270)')\n",
    "plt.xlabel('Timeseries length')\n",
    "plt.ylabel('Frequency')\n",
    "plt.hist(histos, bins = 20, ec='black')\n",
    "plt.show()"
   ]
  },
  {
   "cell_type": "markdown",
   "metadata": {},
   "source": [
    "### Add length of each recording as a feature"
   ]
  },
  {
   "cell_type": "code",
   "execution_count": 7,
   "metadata": {},
   "outputs": [],
   "source": [
    "# Add length of each recording for TRAINING data \n",
    "# ----------------------------------------------\n",
    "\n",
    "testLen = np.zeros(370)\n",
    "\n",
    "for i in range(270):\n",
    "    testLen[i] = len(trainInputs[i, 0]) / 26\n",
    "#print(RecordingLength)\n",
    "\n",
    "for i in range(270):\n",
    "    lenArray = len(trainInputs[i][0])\n",
    "    rec = np.full(lenArray, testLen[i])\n",
    "    newArray = np.column_stack((trainInputs[i][0][:], rec))\n",
    "    trainInputs[i][0] = newArray\n",
    "\n",
    "# Add length of each recording for TESTING data \n",
    "# ----------------------------------------------\n",
    "\n",
    "trainLen = np.zeros(370)\n",
    "# Maximum Length is 29\n",
    "for i in range(370):\n",
    "    trainLen[i] = len(testInputs[i, 0]) / 29\n",
    "\n",
    "for i in range(370):\n",
    "    lenArray = len(testInputs[i][0])\n",
    "    rec = np.full(lenArray, trainLen[i])\n",
    "    newArray = np.column_stack((testInputs[i][0][:], rec))\n",
    "    testInputs[i][0] = newArray"
   ]
  },
  {
   "source": [
    "## Data Preprocessing: Polynomial approximation (training and testing)¶"
   ],
   "cell_type": "markdown",
   "metadata": {}
  },
  {
   "source": [
    "### 1) Flattening & Reshaping the Test Data and Training Data. Both are padded using PREpadding. Padding is dropped in the polynomial approximation phase"
   ],
   "cell_type": "markdown",
   "metadata": {}
  },
  {
   "cell_type": "code",
   "execution_count": 8,
   "metadata": {},
   "outputs": [],
   "source": [
    "#------ For TRAINING data ------------------------------\n",
    "\n",
    "size_train = 13 * 26\n",
    "PrePaddingTrain = np.empty((270,size_train), dtype=object)\n",
    "PostPaddingTrain = np.empty((270,size_train), dtype=object)\n",
    "\n",
    "idx = 0 \n",
    "for element in trainInputs:\n",
    "    # Pad zeros before  \n",
    "    elements = element\n",
    "    elements = np.pad(elements, (size_train - len(elements), 0), 'constant')\n",
    "    PrePaddingTrain[idx] = elements\n",
    "\n",
    "    # Pad zeros after\n",
    "    element = np.ndarray.flatten(element[0])\n",
    "    shape = np.shape(element)\n",
    "    padded_array = np.zeros(size_train)\n",
    "    padded_array[:shape[0]] = element  \n",
    "    element = padded_array\n",
    "    PostPaddingTrain[idx] = element\n",
    "    idx = idx + 1\n",
    "\n",
    "# Reshape ---------------------------------------------\n",
    "PrePaddingTrain = PrePaddingTrain.reshape(270, 26, 13)\n",
    "PostPaddingTrain = PostPaddingTrain.reshape(270, 26, 13)\n",
    "\n",
    "#------ For TESTING data ------------------------------\n",
    "\n",
    "size_test = 13 * 29\n",
    "PrePaddingTest = np.empty((370,size_test), dtype=object)\n",
    "PostPaddingTest = np.empty((370,size_test), dtype=object)\n",
    "\n",
    "idx = 0 \n",
    "for element in testInputs:\n",
    "    # Pad zeros before\n",
    "    # ----------------\n",
    "    elements = element\n",
    "    elements = np.pad(elements, (size_test - len(elements), 0), 'constant')\n",
    "    PrePaddingTest[idx] = elements\n",
    "\n",
    "    # Pad zeros after\n",
    "    # --------------\n",
    "    element = np.ndarray.flatten(element[0])\n",
    "    shape = np.shape(element)\n",
    "    padded_array = np.zeros(size_test)\n",
    "    padded_array[:shape[0]] = element  \n",
    "    element = padded_array\n",
    "    PostPaddingTest[idx] = element\n",
    "    idx = idx + 1\n",
    "\n",
    "# Reshape -------------------------------------------\n",
    "PrePaddingTest = PrePaddingTest.reshape(370, 29, 13)\n",
    "PostPaddingTest = PostPaddingTest.reshape(370, 29, 13)"
   ]
  },
  {
   "source": [
    "### 2) Polynomial approximation (Resampling from the data using a polynomial approximation). Zeros are replaced with polynomial approximations."
   ],
   "cell_type": "markdown",
   "metadata": {}
  },
  {
   "cell_type": "code",
   "execution_count": 9,
   "metadata": {},
   "outputs": [],
   "source": [
    "from scipy.interpolate import interp1d\n",
    "from scipy import interpolate\n",
    "\n",
    "# Function: polyApprox \n",
    "# ------------------------------------------------------------------\n",
    "# This function performs cubic polynomial approximation on a 3D input \n",
    "# that has an unequal amount of values per sample\n",
    "# ------------------------------------------------------------------\n",
    "# Parameters:\n",
    "# ---------\n",
    "# inputData: A 3D input array with uniform length across each sample\n",
    "# The last channel stores the length of a recording\n",
    "# ---------\n",
    "# sampleLen: Number of samples (eg 270)\n",
    "# ---------\n",
    "# recordingLen: The length of each recording. The input data is formatted s.t. each \n",
    "# sample has the maximum channel length and smaller recordings are padded with zeros (prepadding)\n",
    "# ---------\n",
    "# channelNum: The number of channels (eg 13)\n",
    "# ---------\n",
    "# finalLength: the length the input should be adjusted to. When this is smaller than recordingLength\n",
    "# we have under- and oversampling.\n",
    "# ---------\n",
    "\n",
    "def interpol(xValues, yValues, x):\n",
    "    cs = interpolate.splrep(xValues, yValues, k = 3)\n",
    "    return interpolate.splev(x, cs)\n",
    "\n",
    "def polyApprox(inputData, sampleLen, recordingLen, channelNum, finalLength):\n",
    "    PolyAugmentArray = np.zeros((sampleLen, finalLength, channelNum))\n",
    "\n",
    "    for i in range(sampleLen):\n",
    "        for j in range(channelNum):\n",
    "            if j == channelNum - 1:\n",
    "                for m in range(finalLength):\n",
    "                    PolyAugmentArray[i][m][channelNum - 1] = inputData[i][0][channelNum - 1]\n",
    "            else:\n",
    "                recordingLength = round(inputData[i][0][channelNum - 1] * recordingLen)\n",
    "                paddingLength = recordingLen - recordingLength\n",
    "                yValues = np.zeros(recordingLength)\n",
    "                xValues = np.zeros(recordingLength)\n",
    "                zValues = np.zeros(finalLength)\n",
    "\n",
    "                for k in range(recordingLength):\n",
    "                    xValues[k] = k + 1\n",
    "                    yValues[k] = inputData[i][k][j]\n",
    "                for l in range(finalLength):\n",
    "                    zValues[l] = 1 + l * ((recordingLength - 1)/(finalLength - 1))\n",
    "                #print(recordingLength)\n",
    "                #print(xValues)\n",
    "                #print(\"yValues: \")\n",
    "                #print(yValues)\n",
    "                #print(zValues)\n",
    "                predictedValues = interpol(xValues, yValues, zValues)\n",
    "                #print(\"predictValues: \")\n",
    "                #print(predictedValues)\n",
    "                for m in range(finalLength):\n",
    "                    PolyAugmentArray[i][m][j] = predictedValues[m]\n",
    "    return PolyAugmentArray"
   ]
  },
  {
   "cell_type": "code",
   "execution_count": 10,
   "metadata": {},
   "outputs": [],
   "source": [
    "# Datasets resampled to different lengths (from 10 up to 26)\n",
    "# Len = 26:\n",
    "train_Resampled_26 = polyApprox(PostPaddingTrain, 270, 26, 13, 26)\n",
    "test_Resampled_26 = polyApprox(PostPaddingTest, 370, 29, 13, 26)\n",
    "# Len = 25:\n",
    "train_Resampled_25 = polyApprox(PostPaddingTrain, 270, 26, 13, 25)\n",
    "test_Resampled_25 = polyApprox(PostPaddingTest, 370, 29, 13, 25)\n",
    "# Len = 24:\n",
    "train_Resampled_24 = polyApprox(PostPaddingTrain, 270, 26, 13, 24)\n",
    "test_Resampled_24 = polyApprox(PostPaddingTest, 370, 29, 13, 24)\n",
    "# Len = 23:\n",
    "train_Resampled_23 = polyApprox(PostPaddingTrain, 270, 26, 13, 23)\n",
    "test_Resampled_23 = polyApprox(PostPaddingTest, 370, 29, 13, 23)\n",
    "# Len = 22:\n",
    "train_Resampled_22 = polyApprox(PostPaddingTrain, 270, 26, 13, 22)\n",
    "test_Resampled_22 = polyApprox(PostPaddingTest, 370, 29, 13, 22)\n",
    "# Len = 21:\n",
    "train_Resampled_21 = polyApprox(PostPaddingTrain, 270, 26, 13, 21)\n",
    "test_Resampled_21 = polyApprox(PostPaddingTest, 370, 29, 13, 21)\n",
    "# Len = 20:\n",
    "train_Resampled_20 = polyApprox(PostPaddingTrain, 270, 26, 13, 20)\n",
    "test_Resampled_20 = polyApprox(PostPaddingTest, 370, 29, 13, 20)\n",
    "# Len = 19:\n",
    "train_Resampled_19 = polyApprox(PostPaddingTrain, 270, 26, 13, 19)\n",
    "test_Resampled_19 = polyApprox(PostPaddingTest, 370, 29, 13, 19)\n",
    "# Len = 18:\n",
    "train_Resampled_18 = polyApprox(PostPaddingTrain, 270, 26, 13, 18)\n",
    "test_Resampled_18 = polyApprox(PostPaddingTest, 370, 29, 13, 18)\n",
    "# Len = 17:\n",
    "train_Resampled_17 = polyApprox(PostPaddingTrain, 270, 26, 13, 17)\n",
    "test_Resampled_17 = polyApprox(PostPaddingTest, 370, 29, 13, 17)\n",
    "# Len = 16:\n",
    "train_Resampled_16 = polyApprox(PostPaddingTrain, 270, 26, 13, 16)\n",
    "test_Resampled_16 = polyApprox(PostPaddingTest, 370, 29, 13, 16)\n",
    "# Len = 15:\n",
    "train_Resampled_15 = polyApprox(PostPaddingTrain, 270, 26, 13, 15)\n",
    "test_Resampled_15 = polyApprox(PostPaddingTest, 370, 29, 13, 15)\n",
    "# Len = 14: \n",
    "train_Resampled_14 = polyApprox(PostPaddingTrain, 270, 26, 13, 14)\n",
    "test_Resampled_14 = polyApprox(PostPaddingTest, 370, 29, 13, 14)\n",
    "# Len = 13: \n",
    "train_Resampled_13 = polyApprox(PostPaddingTrain, 270, 26, 13, 13)\n",
    "test_Resampled_13 = polyApprox(PostPaddingTest, 370, 29, 13, 13)\n",
    "# Len = 12:\n",
    "train_Resampled_12 = polyApprox(PostPaddingTrain, 270, 26, 13, 12)\n",
    "test_Resampled_12 = polyApprox(PostPaddingTest, 370, 29, 13, 12)\n",
    "# Len = 11:\n",
    "train_Resampled_11 = polyApprox(PostPaddingTrain, 270, 26, 13, 11)\n",
    "test_Resampled_11 = polyApprox(PostPaddingTest, 370, 29, 13, 11)\n",
    "# Len = 10:\n",
    "train_Resampled_10 = polyApprox(PostPaddingTrain, 270, 26, 13, 10)\n",
    "test_Resampled_10 = polyApprox(PostPaddingTest, 370, 29, 13, 10)"
   ]
  },
  {
   "source": [
    "## 3) Normalisation (of training and testing (resampled)) between 0 and 1"
   ],
   "cell_type": "markdown",
   "metadata": {}
  },
  {
   "cell_type": "code",
   "execution_count": 11,
   "metadata": {},
   "outputs": [],
   "source": [
    "def normal(inputData, sampleLen, recordingLen, channelNum):\n",
    "\n",
    "    # Find Minimum value and Maximum value of each channel for each sample\n",
    "    minResample = np.zeros(channelNum - 1)\n",
    "    maxResample = np.zeros(channelNum - 1)\n",
    "\n",
    "    for i in range(sampleLen):\n",
    "        for j in range(channelNum - 1):\n",
    "            for k in range(recordingLen):\n",
    "                if inputData[i][k][j] < minResample[j]:\n",
    "                    minResample[j] = inputData[i][k][j]\n",
    "                if inputData[i][k][j] > maxResample[j]:\n",
    "                    maxResample[j] = inputData[i][k][j]\n",
    "\n",
    "    # Subtract minimum channel value from the respective sample values \n",
    "    # AND divide by maximum value\n",
    "\n",
    "    for i in range(sampleLen):\n",
    "        for j in range(channelNum - 1):\n",
    "            for k in range(recordingLen):\n",
    "                inputData[i][k][j] = (inputData[i][k][j] - minResample[j]) / maxResample[j]\n",
    "                \n",
    "    return inputData"
   ]
  },
  {
   "cell_type": "code",
   "execution_count": 12,
   "metadata": {},
   "outputs": [],
   "source": [
    "# Normalised datasets for different lengths\n",
    "# Len = 26:\n",
    "train_Resampled_26 = normal(train_Resampled_26, 270, 26, 13)\n",
    "test_Resampled_26 = normal(test_Resampled_26, 370, 26, 13)\n",
    "# Len = 25:\n",
    "train_Resampled_25 = normal(train_Resampled_25, 270, 25, 13)\n",
    "test_Resampled_25 = normal(test_Resampled_25, 370, 25, 13)\n",
    "# Len = 24:\n",
    "train_Resampled_24 = normal(train_Resampled_24, 270, 24, 13)\n",
    "test_Resampled_24 = normal(test_Resampled_24, 370, 24, 13)\n",
    "# Len = 23:\n",
    "train_Resampled_23 = normal(train_Resampled_23, 270, 23, 13)\n",
    "test_Resampled_23 = normal(test_Resampled_23, 370, 23, 13)\n",
    "# Len = 22:\n",
    "train_Resampled_22 = normal(train_Resampled_22, 270, 22, 13)\n",
    "test_Resampled_22 = normal(test_Resampled_22, 370, 22, 13)\n",
    "# Len = 21:\n",
    "train_Resampled_21 = normal(train_Resampled_21, 270, 21, 13)\n",
    "test_Resampled_21 = normal(test_Resampled_21, 370, 21, 13)\n",
    "# Len = 20:\n",
    "train_Resampled_20 = normal(train_Resampled_20, 270, 20, 13)\n",
    "test_Resampled_20 = normal(test_Resampled_20, 370, 20, 13)\n",
    "# Len = 19:\n",
    "train_Resampled_19 = normal(train_Resampled_19, 270, 19, 13)\n",
    "test_Resampled_19 = normal(test_Resampled_19, 370, 19, 13)\n",
    "# Len = 18:\n",
    "train_Resampled_18 = normal(train_Resampled_18, 270, 18, 13)\n",
    "test_Resampled_18 = normal(test_Resampled_18, 370, 18, 13)\n",
    "# Len = 17:\n",
    "train_Resampled_17 = normal(train_Resampled_17, 270, 17, 13)\n",
    "test_Resampled_17 = normal(test_Resampled_17, 370, 17, 13)\n",
    "# Len = 16:\n",
    "train_Resampled_16 = normal(train_Resampled_16, 270, 16, 13)\n",
    "test_Resampled_16 = normal(test_Resampled_16, 370, 16, 13)\n",
    "# Len = 15:\n",
    "train_Resampled_15 = normal(train_Resampled_15, 270, 15, 13)\n",
    "test_Resampled_15 = normal(test_Resampled_15, 370, 15, 13)\n",
    "# Len = 14: \n",
    "train_Resampled_14 = normal(train_Resampled_14, 270, 14, 13)\n",
    "test_Resampled_14 = normal(test_Resampled_14, 370, 14, 13)\n",
    "# Len = 13:\n",
    "train_Resampled_13 = normal(train_Resampled_13, 270, 13, 13)\n",
    "test_Resampled_13 = normal(test_Resampled_13, 370, 13, 13)\n",
    "# Len = 12:\n",
    "train_Resampled_12 = normal(train_Resampled_12, 270, 12, 13)\n",
    "test_Resampled_12 = normal(test_Resampled_12, 370, 12, 13)\n",
    "# Len = 11:\n",
    "train_Resampled_11 = normal(train_Resampled_11, 270, 11, 13)\n",
    "test_Resampled_11 = normal(test_Resampled_11, 370, 11, 13)\n",
    "# Len = 10: \n",
    "train_Resampled_10 = normal(train_Resampled_10, 270, 10, 13)\n",
    "test_Resampled_10 = normal(test_Resampled_10, 370, 10, 13)"
   ]
  },
  {
   "cell_type": "code",
   "execution_count": 13,
   "metadata": {},
   "outputs": [],
   "source": [
    "# train3D has 17 elements\n",
    "train3D = [train_Resampled_26, train_Resampled_25, train_Resampled_24, train_Resampled_23, train_Resampled_22, train_Resampled_21, train_Resampled_20, train_Resampled_19, train_Resampled_18, train_Resampled_17, train_Resampled_16, train_Resampled_15, train_Resampled_14, train_Resampled_13, train_Resampled_12, train_Resampled_11, train_Resampled_10]"
   ]
  },
  {
   "source": [
    "## Reshaping arrays for use with SVM and ESN"
   ],
   "cell_type": "markdown",
   "metadata": {}
  },
  {
   "cell_type": "code",
   "execution_count": 14,
   "metadata": {},
   "outputs": [],
   "source": [
    "# Reshape Training Data to 2D array for SVM:\n",
    "train_Resampled_26_2D = train_Resampled_26.reshape(270, 338)\n",
    "train_Resampled_25_2D = train_Resampled_25.reshape(270, 325)\n",
    "train_Resampled_24_2D = train_Resampled_24.reshape(270, 312)\n",
    "train_Resampled_23_2D = train_Resampled_23.reshape(270, 299)\n",
    "train_Resampled_22_2D = train_Resampled_22.reshape(270, 286)\n",
    "train_Resampled_21_2D = train_Resampled_21.reshape(270, 273)\n",
    "train_Resampled_20_2D = train_Resampled_20.reshape(270, 260)\n",
    "train_Resampled_19_2D = train_Resampled_19.reshape(270, 247)\n",
    "train_Resampled_18_2D = train_Resampled_18.reshape(270, 234)\n",
    "train_Resampled_17_2D = train_Resampled_17.reshape(270, 221)\n",
    "train_Resampled_16_2D = train_Resampled_16.reshape(270, 208)\n",
    "train_Resampled_15_2D = train_Resampled_15.reshape(270, 195)\n",
    "train_Resampled_14_2D = train_Resampled_14.reshape(270, 182)\n",
    "train_Resampled_13_2D = train_Resampled_13.reshape(270, 169)\n",
    "train_Resampled_12_2D = train_Resampled_12.reshape(270, 156)\n",
    "train_Resampled_11_2D = train_Resampled_11.reshape(270, 143)\n",
    "train_Resampled_10_2D = train_Resampled_10.reshape(270, 130)\n",
    "\n",
    "\n",
    "#this is for umap:\n",
    "test_Resampled_26_2D = test_Resampled_26.reshape(370, 338)"
   ]
  },
  {
   "cell_type": "code",
   "execution_count": 15,
   "metadata": {},
   "outputs": [],
   "source": [
    "# train2D has 17 elements\n",
    "train2D = [train_Resampled_26_2D, train_Resampled_25_2D, train_Resampled_24_2D, train_Resampled_23_2D, train_Resampled_22_2D, train_Resampled_21_2D, train_Resampled_20_2D ,train_Resampled_19_2D, train_Resampled_18_2D, train_Resampled_17_2D, train_Resampled_16_2D, train_Resampled_15_2D, train_Resampled_14_2D, train_Resampled_13_2D, train_Resampled_12_2D, train_Resampled_11_2D, train_Resampled_10_2D]"
   ]
  },
  {
   "cell_type": "code",
   "execution_count": 16,
   "metadata": {
    "tags": []
   },
   "outputs": [
    {
     "output_type": "stream",
     "name": "stdout",
     "text": [
      "Length inputs_train: 216\nLength outputs_train: 216\nLength inputs_test: 270\nLength trainOutputsNew: 270\n"
     ]
    }
   ],
   "source": [
    "# Crossvalidation. Currently only splitting in train-test data. Ideally, we want a validation set as well (e.g. 80 - 10 - 10 or 60 - 20 - 20)\n",
    "# Function taken from my Intro to Data Science assignment 3 code\n",
    "from sklearn.model_selection import train_test_split\n",
    "\n",
    "def splitData(inputs, outputs):   \n",
    "    # To avoid overfitting, we divide the dataset into a part for training and a part for testing\n",
    "    # We split the dataset into 80% training data and 20% testing data\n",
    "    inputs_train, inputs_test, outputs_train, outputs_test = train_test_split(\n",
    "            inputs, outputs, test_size=0.20) \n",
    "    \n",
    "    return inputs_train, inputs_test, outputs_train, outputs_test\n",
    "\n",
    "inputs_train, inputs_test, outputs_train, outputs_test = splitData(train_Resampled_26, trainOutputsNew)\n",
    "\n",
    "print('Length inputs_train:', len(inputs_train))\n",
    "print('Length outputs_train:', len(outputs_train))\n",
    "print('Length inputs_test:', len(trainOutputsNew))\n",
    "print('Length trainOutputsNew:', len(trainOutputsNew))\n"
   ]
  },
  {
   "cell_type": "code",
   "execution_count": 17,
   "metadata": {
    "tags": []
   },
   "outputs": [
    {
     "output_type": "stream",
     "name": "stdout",
     "text": [
      "Go\n",
      "Accuracy for 26 size arrays: 96.29629629629629\n",
      "Accuracy for 25 size arrays: 94.44444444444444\n",
      "Accuracy for 24 size arrays: 98.14814814814815\n",
      "Accuracy for 23 size arrays: 98.14814814814815\n",
      "Accuracy for 22 size arrays: 92.5925925925926\n",
      "Accuracy for 21 size arrays: 100.0\n",
      "Accuracy for 20 size arrays: 94.44444444444444\n",
      "Accuracy for 19 size arrays: 94.44444444444444\n",
      "Accuracy for 18 size arrays: 96.29629629629629\n",
      "Accuracy for 17 size arrays: 98.14814814814815\n",
      "Accuracy for 16 size arrays: 96.29629629629629\n",
      "Accuracy for 15 size arrays: 100.0\n",
      "Accuracy for 14 size arrays: 96.29629629629629\n",
      "Accuracy for 13 size arrays: 96.29629629629629\n",
      "Accuracy for 12 size arrays: 96.29629629629629\n",
      "Accuracy for 11 size arrays: 96.29629629629629\n",
      "Accuracy for 10 size arrays: 100.0\n"
     ]
    }
   ],
   "source": [
    "from sklearn import svm\n",
    "from sklearn.neural_network import MLPClassifier\n",
    "from sklearn.linear_model import LogisticRegression\n",
    "\n",
    "# Implementation Support Vector Machine\n",
    "def SVM(inputs_train, outputs_train, inputs_test):    \n",
    "    # Create a classifier \n",
    "    classifier = svm.SVC(kernel='linear')    \n",
    "    outputs_train = outputs_train.astype('int')\n",
    "    classifier.fit(inputs_train, outputs_train)\n",
    "    \n",
    "    # Predict the test data\n",
    "    labels_prediction = classifier.predict(inputs_test)\n",
    "\n",
    "    return labels_prediction\n",
    "\n",
    "\n",
    "# Implementation Multilayer Perceptron\n",
    "def MLP(inputs_train, outputs_train, inputs_test):\n",
    "    classifier = MLPClassifier(hidden_layer_sizes=(30, 20, 20), \n",
    "                               max_iter=2000, activation = 'relu',solver='adam',random_state=1)\n",
    "    outputs_train = outputs_train.astype('int')\n",
    "    classifier.fit(inputs_train, outputs_train)\n",
    "    \n",
    "    # Predict the test data\n",
    "    labels_prediction = classifier.predict(inputs_test)\n",
    "\n",
    "    return labels_prediction\n",
    "\n",
    "def simpleLogisticRegression(inputs_train, outputs_train, inputs_test):\n",
    "    model = LogisticRegression(max_iter=500)\n",
    "    outputs_train = outputs_train.astype('int')\n",
    "\n",
    "    model.fit(inputs_train, outputs_train)\n",
    "\n",
    "    labels_prediction = model.predict(inputs_test)\n",
    "    #print(labels_prediction)\n",
    "    \n",
    "    return labels_prediction\n",
    "\n",
    "\n",
    "from sklearn.ensemble import RandomForestClassifier, VotingClassifier\n",
    "\n",
    "\"\"\" Creates ensemble classifier with our best performing classifiers\"\"\"\n",
    "# Code based on code from assignment of IDS.\n",
    "def createEnsemble():\n",
    "    # Our best performing classifiers\n",
    "    classifier1 = svm.SVC(kernel='linear')  \n",
    "    # classifier2 = LogisticRegression(max_iter=500)\n",
    "    \n",
    "    classifier3 = MLPClassifier(hidden_layer_sizes=(30, 20, 20), \n",
    "                               max_iter=2000, activation = 'relu',solver='adam',random_state=1)\n",
    "    classifier4 = svm.SVC(kernel='poly')\n",
    "    \n",
    "    ensemble = VotingClassifier(estimators = [('SVM_linear', classifier1),  \n",
    "                                              ('mlp', classifier3), ('SVM_poly', classifier4), \n",
    "                                              ], voting = 'hard')\n",
    "    \n",
    "    return ensemble\n",
    "\n",
    "\"\"\" Returns prediction from ensemble classifier\"\"\"   \n",
    "def ensemble(inputs_train, outputs_train, inputs_test):\n",
    "    ensemble = createEnsemble()\n",
    "    ensemble.fit(inputs_train, outputs_train) \n",
    "    \n",
    "    # Predict the test data\n",
    "    labels_prediction = ensemble.predict(inputs_test)\n",
    "    \n",
    "    return labels_prediction\n",
    "\n",
    "\n",
    "def predictLabels(trainInputs, trainOutputs):\n",
    "    inputs_train, inputs_test, outputs_train, outputs_test = splitData(trainInputs, trainOutputs)\n",
    "\n",
    "    # Predict the test labels\n",
    "    prediction = ensemble(inputs_train, outputs_train, inputs_test)\n",
    "\n",
    "    # Print results\n",
    "    wrong = 0\n",
    "    length = len(prediction)\n",
    "    for i in range(length):\n",
    "        #print(prediction[i], np.ravel(outputs_test)[i])\n",
    "        if(prediction[i] != np.ravel(outputs_test)[i]):\n",
    "            wrong = wrong + 1\n",
    "\n",
    "    return ((length - wrong) / length) * 100\n",
    "\n",
    "print('Go')\n",
    "\n",
    "no_iterations = 1\n",
    "\n",
    "sampleNum = 26\n",
    "for data in train2D:\n",
    "    accuracy_train = np.zeros(no_iterations)\n",
    "    for i in range(no_iterations):\n",
    "        accuracy_train = predictLabels(data, trainOutputsNew)\n",
    "    print(\"Accuracy for {} size arrays: {}\".format(sampleNum, np.mean(accuracy_train)))\n",
    "    sampleNum = sampleNum - 1"
   ]
  },
  {
   "cell_type": "code",
   "execution_count": 18,
   "metadata": {
    "scrolled": true,
    "tags": []
   },
   "outputs": [
    {
     "output_type": "stream",
     "name": "stdout",
     "text": [
      "[0.23202787 0.17793327 0.14309941 0.08366848 0.06759882]\n[0.22816307 0.18267962 0.14594464 0.0833315  0.06700641]\n[0.22854679 0.18715673 0.14675818 0.08259109 0.06594227]\n[0.23199978 0.19194311 0.14666289 0.08067748 0.06463066]\n[0.23179666 0.19866892 0.14642862 0.07993615 0.06357806]\n[0.24017349 0.19901803 0.14348114 0.07870564 0.06289534]\n"
     ]
    }
   ],
   "source": [
    "# Perform preprocessing: PCA\n",
    "from sklearn.decomposition import PCA\n",
    "import pandas as pd\n",
    "import matplotlib.pyplot as plt\n",
    "\n",
    "# Try: all data in one vector\n",
    "trainInputsList = [train_Resampled_26_2D, train_Resampled_24_2D, train_Resampled_22_2D, train_Resampled_20_2D, train_Resampled_18_2D, train_Resampled_16_2D]\n",
    "Outputs = np.reshape(trainOutputsNew, (270,1))\n",
    "for PCAInputs in trainInputsList:\n",
    "    #print(Outputs)\n",
    "    allTrainInputs = np.concatenate([PCAInputs,Outputs],axis=1)\n",
    "    \n",
    "    datasetPCA = pd.DataFrame(allTrainInputs)\n",
    "    \n",
    "    pca = PCA(n_components=5)\n",
    "    pca.fit(datasetPCA)\n",
    "    principalComponents = pca.fit_transform(datasetPCA)\n",
    "\n",
    "    print(pca.explained_variance_ratio_)"
   ]
  },
  {
   "cell_type": "code",
   "execution_count": 19,
   "metadata": {},
   "outputs": [
    {
     "output_type": "stream",
     "name": "stdout",
     "text": [
      "Explained variation per principal component: [0.26519573 0.18908973]\n"
     ]
    },
    {
     "output_type": "display_data",
     "data": {
      "text/plain": "<Figure size 864x864 with 1 Axes>",
      "image/svg+xml": "<?xml version=\"1.0\" encoding=\"utf-8\" standalone=\"no\"?>\n<!DOCTYPE svg PUBLIC \"-//W3C//DTD SVG 1.1//EN\"\n  \"http://www.w3.org/Graphics/SVG/1.1/DTD/svg11.dtd\">\n<!-- Created with matplotlib (https://matplotlib.org/) -->\n<svg height=\"723.112188pt\" version=\"1.1\" viewBox=\"0 0 724.259375 723.112188\" width=\"724.259375pt\" xmlns=\"http://www.w3.org/2000/svg\" xmlns:xlink=\"http://www.w3.org/1999/xlink\">\n <defs>\n  <style type=\"text/css\">\n*{stroke-linecap:butt;stroke-linejoin:round;}\n  </style>\n </defs>\n <g id=\"figure_1\">\n  <g id=\"patch_1\">\n   <path d=\"M 0 723.112188 \nL 724.259375 723.112188 \nL 724.259375 0 \nL 0 0 \nz\n\" style=\"fill:none;\"/>\n  </g>\n  <g id=\"axes_1\">\n   <g id=\"patch_2\">\n    <path d=\"M 47.459375 680.716875 \nL 717.059375 680.716875 \nL 717.059375 28.396875 \nL 47.459375 28.396875 \nz\n\" style=\"fill:#ffffff;\"/>\n   </g>\n   <g id=\"PathCollection_1\">\n    <defs>\n     <path d=\"M 0 3.535534 \nC 0.937635 3.535534 1.836992 3.163008 2.5 2.5 \nC 3.163008 1.836992 3.535534 0.937635 3.535534 0 \nC 3.535534 -0.937635 3.163008 -1.836992 2.5 -2.5 \nC 1.836992 -3.163008 0.937635 -3.535534 0 -3.535534 \nC -0.937635 -3.535534 -1.836992 -3.163008 -2.5 -2.5 \nC -3.163008 -1.836992 -3.535534 -0.937635 -3.535534 0 \nC -3.535534 0.937635 -3.163008 1.836992 -2.5 2.5 \nC -1.836992 3.163008 -0.937635 3.535534 0 3.535534 \nz\n\" id=\"m1a7e8a9197\" style=\"stroke:#ff0000;\"/>\n    </defs>\n    <g clip-path=\"url(#p645e42c192)\">\n     <use style=\"fill:#ff0000;stroke:#ff0000;\" x=\"459.142322\" xlink:href=\"#m1a7e8a9197\" y=\"599.953707\"/>\n     <use style=\"fill:#ff0000;stroke:#ff0000;\" x=\"323.687148\" xlink:href=\"#m1a7e8a9197\" y=\"426.760161\"/>\n     <use style=\"fill:#ff0000;stroke:#ff0000;\" x=\"399.188199\" xlink:href=\"#m1a7e8a9197\" y=\"614.658342\"/>\n     <use style=\"fill:#ff0000;stroke:#ff0000;\" x=\"281.472901\" xlink:href=\"#m1a7e8a9197\" y=\"539.621977\"/>\n     <use style=\"fill:#ff0000;stroke:#ff0000;\" x=\"361.995139\" xlink:href=\"#m1a7e8a9197\" y=\"419.211054\"/>\n     <use style=\"fill:#ff0000;stroke:#ff0000;\" x=\"277.571131\" xlink:href=\"#m1a7e8a9197\" y=\"477.135693\"/>\n     <use style=\"fill:#ff0000;stroke:#ff0000;\" x=\"310.665529\" xlink:href=\"#m1a7e8a9197\" y=\"431.384999\"/>\n     <use style=\"fill:#ff0000;stroke:#ff0000;\" x=\"356.554894\" xlink:href=\"#m1a7e8a9197\" y=\"472.034594\"/>\n     <use style=\"fill:#ff0000;stroke:#ff0000;\" x=\"170.473234\" xlink:href=\"#m1a7e8a9197\" y=\"650.839451\"/>\n     <use style=\"fill:#ff0000;stroke:#ff0000;\" x=\"304.947843\" xlink:href=\"#m1a7e8a9197\" y=\"455.763415\"/>\n     <use style=\"fill:#ff0000;stroke:#ff0000;\" x=\"248.433322\" xlink:href=\"#m1a7e8a9197\" y=\"378.778754\"/>\n     <use style=\"fill:#ff0000;stroke:#ff0000;\" x=\"686.187295\" xlink:href=\"#m1a7e8a9197\" y=\"468.291996\"/>\n     <use style=\"fill:#ff0000;stroke:#ff0000;\" x=\"396.117441\" xlink:href=\"#m1a7e8a9197\" y=\"487.124972\"/>\n     <use style=\"fill:#ff0000;stroke:#ff0000;\" x=\"305.864317\" xlink:href=\"#m1a7e8a9197\" y=\"410.257523\"/>\n     <use style=\"fill:#ff0000;stroke:#ff0000;\" x=\"574.990057\" xlink:href=\"#m1a7e8a9197\" y=\"472.495511\"/>\n     <use style=\"fill:#ff0000;stroke:#ff0000;\" x=\"503.780421\" xlink:href=\"#m1a7e8a9197\" y=\"457.653995\"/>\n     <use style=\"fill:#ff0000;stroke:#ff0000;\" x=\"326.128336\" xlink:href=\"#m1a7e8a9197\" y=\"498.044165\"/>\n     <use style=\"fill:#ff0000;stroke:#ff0000;\" x=\"432.364068\" xlink:href=\"#m1a7e8a9197\" y=\"487.913973\"/>\n     <use style=\"fill:#ff0000;stroke:#ff0000;\" x=\"503.333891\" xlink:href=\"#m1a7e8a9197\" y=\"526.654658\"/>\n     <use style=\"fill:#ff0000;stroke:#ff0000;\" x=\"431.573467\" xlink:href=\"#m1a7e8a9197\" y=\"556.286759\"/>\n     <use style=\"fill:#ff0000;stroke:#ff0000;\" x=\"174.487865\" xlink:href=\"#m1a7e8a9197\" y=\"495.219058\"/>\n     <use style=\"fill:#ff0000;stroke:#ff0000;\" x=\"424.898471\" xlink:href=\"#m1a7e8a9197\" y=\"591.22025\"/>\n     <use style=\"fill:#ff0000;stroke:#ff0000;\" x=\"384.364434\" xlink:href=\"#m1a7e8a9197\" y=\"533.179688\"/>\n     <use style=\"fill:#ff0000;stroke:#ff0000;\" x=\"427.830858\" xlink:href=\"#m1a7e8a9197\" y=\"639.639659\"/>\n     <use style=\"fill:#ff0000;stroke:#ff0000;\" x=\"346.296297\" xlink:href=\"#m1a7e8a9197\" y=\"624.295514\"/>\n     <use style=\"fill:#ff0000;stroke:#ff0000;\" x=\"499.93601\" xlink:href=\"#m1a7e8a9197\" y=\"401.739208\"/>\n     <use style=\"fill:#ff0000;stroke:#ff0000;\" x=\"483.109839\" xlink:href=\"#m1a7e8a9197\" y=\"512.524088\"/>\n     <use style=\"fill:#ff0000;stroke:#ff0000;\" x=\"314.995511\" xlink:href=\"#m1a7e8a9197\" y=\"441.859593\"/>\n     <use style=\"fill:#ff0000;stroke:#ff0000;\" x=\"418.444361\" xlink:href=\"#m1a7e8a9197\" y=\"521.827932\"/>\n     <use style=\"fill:#ff0000;stroke:#ff0000;\" x=\"312.620512\" xlink:href=\"#m1a7e8a9197\" y=\"603.450236\"/>\n    </g>\n   </g>\n   <g id=\"PathCollection_2\">\n    <defs>\n     <path d=\"M 0 3.535534 \nC 0.937635 3.535534 1.836992 3.163008 2.5 2.5 \nC 3.163008 1.836992 3.535534 0.937635 3.535534 0 \nC 3.535534 -0.937635 3.163008 -1.836992 2.5 -2.5 \nC 1.836992 -3.163008 0.937635 -3.535534 0 -3.535534 \nC -0.937635 -3.535534 -1.836992 -3.163008 -2.5 -2.5 \nC -3.163008 -1.836992 -3.535534 -0.937635 -3.535534 0 \nC -3.535534 0.937635 -3.163008 1.836992 -2.5 2.5 \nC -1.836992 3.163008 -0.937635 3.535534 0 3.535534 \nz\n\" id=\"mcab20100a9\" style=\"stroke:#008000;\"/>\n    </defs>\n    <g clip-path=\"url(#p645e42c192)\">\n     <use style=\"fill:#008000;stroke:#008000;\" x=\"273.35716\" xlink:href=\"#mcab20100a9\" y=\"220.008686\"/>\n     <use style=\"fill:#008000;stroke:#008000;\" x=\"462.52412\" xlink:href=\"#mcab20100a9\" y=\"176.77289\"/>\n     <use style=\"fill:#008000;stroke:#008000;\" x=\"331.238266\" xlink:href=\"#mcab20100a9\" y=\"254.39854\"/>\n     <use style=\"fill:#008000;stroke:#008000;\" x=\"451.377598\" xlink:href=\"#mcab20100a9\" y=\"271.360753\"/>\n     <use style=\"fill:#008000;stroke:#008000;\" x=\"448.945148\" xlink:href=\"#mcab20100a9\" y=\"176.028493\"/>\n     <use style=\"fill:#008000;stroke:#008000;\" x=\"227.484656\" xlink:href=\"#mcab20100a9\" y=\"157.65496\"/>\n     <use style=\"fill:#008000;stroke:#008000;\" x=\"392.289449\" xlink:href=\"#mcab20100a9\" y=\"141.824912\"/>\n     <use style=\"fill:#008000;stroke:#008000;\" x=\"330.453361\" xlink:href=\"#mcab20100a9\" y=\"99.203346\"/>\n     <use style=\"fill:#008000;stroke:#008000;\" x=\"482.285023\" xlink:href=\"#mcab20100a9\" y=\"231.559787\"/>\n     <use style=\"fill:#008000;stroke:#008000;\" x=\"432.297888\" xlink:href=\"#mcab20100a9\" y=\"147.600262\"/>\n     <use style=\"fill:#008000;stroke:#008000;\" x=\"94.708533\" xlink:href=\"#mcab20100a9\" y=\"216.614329\"/>\n     <use style=\"fill:#008000;stroke:#008000;\" x=\"399.138465\" xlink:href=\"#mcab20100a9\" y=\"159.056666\"/>\n     <use style=\"fill:#008000;stroke:#008000;\" x=\"404.513499\" xlink:href=\"#mcab20100a9\" y=\"59.672492\"/>\n     <use style=\"fill:#008000;stroke:#008000;\" x=\"422.699864\" xlink:href=\"#mcab20100a9\" y=\"182.471212\"/>\n     <use style=\"fill:#008000;stroke:#008000;\" x=\"231.280304\" xlink:href=\"#mcab20100a9\" y=\"194.387419\"/>\n     <use style=\"fill:#008000;stroke:#008000;\" x=\"137.347107\" xlink:href=\"#mcab20100a9\" y=\"188.102976\"/>\n     <use style=\"fill:#008000;stroke:#008000;\" x=\"479.088666\" xlink:href=\"#mcab20100a9\" y=\"135.067537\"/>\n     <use style=\"fill:#008000;stroke:#008000;\" x=\"431.141353\" xlink:href=\"#mcab20100a9\" y=\"250.850804\"/>\n     <use style=\"fill:#008000;stroke:#008000;\" x=\"487.248024\" xlink:href=\"#mcab20100a9\" y=\"190.40997\"/>\n     <use style=\"fill:#008000;stroke:#008000;\" x=\"255.629206\" xlink:href=\"#mcab20100a9\" y=\"163.947304\"/>\n     <use style=\"fill:#008000;stroke:#008000;\" x=\"430.455069\" xlink:href=\"#mcab20100a9\" y=\"258.147635\"/>\n     <use style=\"fill:#008000;stroke:#008000;\" x=\"275.725439\" xlink:href=\"#mcab20100a9\" y=\"125.997784\"/>\n     <use style=\"fill:#008000;stroke:#008000;\" x=\"268.167951\" xlink:href=\"#mcab20100a9\" y=\"164.988184\"/>\n     <use style=\"fill:#008000;stroke:#008000;\" x=\"400.116551\" xlink:href=\"#mcab20100a9\" y=\"142.033418\"/>\n     <use style=\"fill:#008000;stroke:#008000;\" x=\"308.728726\" xlink:href=\"#mcab20100a9\" y=\"208.671295\"/>\n     <use style=\"fill:#008000;stroke:#008000;\" x=\"358.674906\" xlink:href=\"#mcab20100a9\" y=\"117.966286\"/>\n     <use style=\"fill:#008000;stroke:#008000;\" x=\"80.896106\" xlink:href=\"#mcab20100a9\" y=\"245.261707\"/>\n     <use style=\"fill:#008000;stroke:#008000;\" x=\"391.590829\" xlink:href=\"#mcab20100a9\" y=\"113.696871\"/>\n     <use style=\"fill:#008000;stroke:#008000;\" x=\"305.630561\" xlink:href=\"#mcab20100a9\" y=\"169.915847\"/>\n     <use style=\"fill:#008000;stroke:#008000;\" x=\"414.256547\" xlink:href=\"#mcab20100a9\" y=\"229.281167\"/>\n    </g>\n   </g>\n   <g id=\"PathCollection_3\">\n    <defs>\n     <path d=\"M 0 3.535534 \nC 0.937635 3.535534 1.836992 3.163008 2.5 2.5 \nC 3.163008 1.836992 3.535534 0.937635 3.535534 0 \nC 3.535534 -0.937635 3.163008 -1.836992 2.5 -2.5 \nC 1.836992 -3.163008 0.937635 -3.535534 0 -3.535534 \nC -0.937635 -3.535534 -1.836992 -3.163008 -2.5 -2.5 \nC -3.163008 -1.836992 -3.535534 -0.937635 -3.535534 0 \nC -3.535534 0.937635 -3.163008 1.836992 -2.5 2.5 \nC -1.836992 3.163008 -0.937635 3.535534 0 3.535534 \nz\n\" id=\"m5a40b70ac7\" style=\"stroke:#0000ff;\"/>\n    </defs>\n    <g clip-path=\"url(#p645e42c192)\">\n     <use style=\"fill:#0000ff;stroke:#0000ff;\" x=\"260.408092\" xlink:href=\"#m5a40b70ac7\" y=\"555.919183\"/>\n     <use style=\"fill:#0000ff;stroke:#0000ff;\" x=\"340.565016\" xlink:href=\"#m5a40b70ac7\" y=\"456.049116\"/>\n     <use style=\"fill:#0000ff;stroke:#0000ff;\" x=\"550.750387\" xlink:href=\"#m5a40b70ac7\" y=\"356.558911\"/>\n     <use style=\"fill:#0000ff;stroke:#0000ff;\" x=\"272.070395\" xlink:href=\"#m5a40b70ac7\" y=\"366.635657\"/>\n     <use style=\"fill:#0000ff;stroke:#0000ff;\" x=\"281.003928\" xlink:href=\"#m5a40b70ac7\" y=\"400.803748\"/>\n     <use style=\"fill:#0000ff;stroke:#0000ff;\" x=\"267.03161\" xlink:href=\"#m5a40b70ac7\" y=\"459.86684\"/>\n     <use style=\"fill:#0000ff;stroke:#0000ff;\" x=\"264.609883\" xlink:href=\"#m5a40b70ac7\" y=\"338.027744\"/>\n     <use style=\"fill:#0000ff;stroke:#0000ff;\" x=\"359.149852\" xlink:href=\"#m5a40b70ac7\" y=\"368.69201\"/>\n     <use style=\"fill:#0000ff;stroke:#0000ff;\" x=\"221.329324\" xlink:href=\"#m5a40b70ac7\" y=\"464.912066\"/>\n     <use style=\"fill:#0000ff;stroke:#0000ff;\" x=\"433.368983\" xlink:href=\"#m5a40b70ac7\" y=\"372.743423\"/>\n     <use style=\"fill:#0000ff;stroke:#0000ff;\" x=\"338.079012\" xlink:href=\"#m5a40b70ac7\" y=\"492.599271\"/>\n     <use style=\"fill:#0000ff;stroke:#0000ff;\" x=\"173.935068\" xlink:href=\"#m5a40b70ac7\" y=\"368.895631\"/>\n     <use style=\"fill:#0000ff;stroke:#0000ff;\" x=\"299.732504\" xlink:href=\"#m5a40b70ac7\" y=\"392.171689\"/>\n     <use style=\"fill:#0000ff;stroke:#0000ff;\" x=\"226.723375\" xlink:href=\"#m5a40b70ac7\" y=\"508.166013\"/>\n     <use style=\"fill:#0000ff;stroke:#0000ff;\" x=\"425.103222\" xlink:href=\"#m5a40b70ac7\" y=\"419.08973\"/>\n     <use style=\"fill:#0000ff;stroke:#0000ff;\" x=\"282.036856\" xlink:href=\"#m5a40b70ac7\" y=\"387.254499\"/>\n     <use style=\"fill:#0000ff;stroke:#0000ff;\" x=\"514.852925\" xlink:href=\"#m5a40b70ac7\" y=\"358.388833\"/>\n     <use style=\"fill:#0000ff;stroke:#0000ff;\" x=\"329.796275\" xlink:href=\"#m5a40b70ac7\" y=\"397.449951\"/>\n     <use style=\"fill:#0000ff;stroke:#0000ff;\" x=\"456.236848\" xlink:href=\"#m5a40b70ac7\" y=\"361.870944\"/>\n     <use style=\"fill:#0000ff;stroke:#0000ff;\" x=\"440.400078\" xlink:href=\"#m5a40b70ac7\" y=\"492.367137\"/>\n     <use style=\"fill:#0000ff;stroke:#0000ff;\" x=\"364.913085\" xlink:href=\"#m5a40b70ac7\" y=\"314.990036\"/>\n     <use style=\"fill:#0000ff;stroke:#0000ff;\" x=\"411.595177\" xlink:href=\"#m5a40b70ac7\" y=\"384.333956\"/>\n     <use style=\"fill:#0000ff;stroke:#0000ff;\" x=\"426.080482\" xlink:href=\"#m5a40b70ac7\" y=\"424.032109\"/>\n     <use style=\"fill:#0000ff;stroke:#0000ff;\" x=\"177.154845\" xlink:href=\"#m5a40b70ac7\" y=\"355.292338\"/>\n     <use style=\"fill:#0000ff;stroke:#0000ff;\" x=\"192.455225\" xlink:href=\"#m5a40b70ac7\" y=\"302.515983\"/>\n     <use style=\"fill:#0000ff;stroke:#0000ff;\" x=\"459.337783\" xlink:href=\"#m5a40b70ac7\" y=\"297.678251\"/>\n     <use style=\"fill:#0000ff;stroke:#0000ff;\" x=\"421.858771\" xlink:href=\"#m5a40b70ac7\" y=\"375.091725\"/>\n     <use style=\"fill:#0000ff;stroke:#0000ff;\" x=\"375.6462\" xlink:href=\"#m5a40b70ac7\" y=\"403.709812\"/>\n     <use style=\"fill:#0000ff;stroke:#0000ff;\" x=\"458.217451\" xlink:href=\"#m5a40b70ac7\" y=\"385.305677\"/>\n     <use style=\"fill:#0000ff;stroke:#0000ff;\" x=\"271.948363\" xlink:href=\"#m5a40b70ac7\" y=\"402.475579\"/>\n    </g>\n   </g>\n   <g id=\"matplotlib.axis_1\">\n    <g id=\"xtick_1\">\n     <g id=\"line2d_1\">\n      <path clip-path=\"url(#p645e42c192)\" d=\"M 100.741906 680.716875 \nL 100.741906 28.396875 \n\" style=\"fill:none;stroke:#b0b0b0;stroke-linecap:square;stroke-width:0.8;\"/>\n     </g>\n     <g id=\"line2d_2\">\n      <defs>\n       <path d=\"M 0 0 \nL 0 3.5 \n\" id=\"md74c5ce03f\" style=\"stroke:#000000;stroke-width:0.8;\"/>\n      </defs>\n      <g>\n       <use style=\"stroke:#000000;stroke-width:0.8;\" x=\"100.741906\" xlink:href=\"#md74c5ce03f\" y=\"680.716875\"/>\n      </g>\n     </g>\n     <g id=\"text_1\">\n      <!-- −2 -->\n      <defs>\n       <path d=\"M 10.59375 35.5 \nL 73.1875 35.5 \nL 73.1875 27.203125 \nL 10.59375 27.203125 \nz\n\" id=\"DejaVuSans-8722\"/>\n       <path d=\"M 19.1875 8.296875 \nL 53.609375 8.296875 \nL 53.609375 0 \nL 7.328125 0 \nL 7.328125 8.296875 \nQ 12.9375 14.109375 22.625 23.890625 \nQ 32.328125 33.6875 34.8125 36.53125 \nQ 39.546875 41.84375 41.421875 45.53125 \nQ 43.3125 49.21875 43.3125 52.78125 \nQ 43.3125 58.59375 39.234375 62.25 \nQ 35.15625 65.921875 28.609375 65.921875 \nQ 23.96875 65.921875 18.8125 64.3125 \nQ 13.671875 62.703125 7.8125 59.421875 \nL 7.8125 69.390625 \nQ 13.765625 71.78125 18.9375 73 \nQ 24.125 74.21875 28.421875 74.21875 \nQ 39.75 74.21875 46.484375 68.546875 \nQ 53.21875 62.890625 53.21875 53.421875 \nQ 53.21875 48.921875 51.53125 44.890625 \nQ 49.859375 40.875 45.40625 35.40625 \nQ 44.1875 33.984375 37.640625 27.21875 \nQ 31.109375 20.453125 19.1875 8.296875 \nz\n\" id=\"DejaVuSans-50\"/>\n      </defs>\n      <g transform=\"translate(93.370812 695.315313)scale(0.1 -0.1)\">\n       <use xlink:href=\"#DejaVuSans-8722\"/>\n       <use x=\"83.789062\" xlink:href=\"#DejaVuSans-50\"/>\n      </g>\n     </g>\n    </g>\n    <g id=\"xtick_2\">\n     <g id=\"line2d_3\">\n      <path clip-path=\"url(#p645e42c192)\" d=\"M 183.262785 680.716875 \nL 183.262785 28.396875 \n\" style=\"fill:none;stroke:#b0b0b0;stroke-linecap:square;stroke-width:0.8;\"/>\n     </g>\n     <g id=\"line2d_4\">\n      <g>\n       <use style=\"stroke:#000000;stroke-width:0.8;\" x=\"183.262785\" xlink:href=\"#md74c5ce03f\" y=\"680.716875\"/>\n      </g>\n     </g>\n     <g id=\"text_2\">\n      <!-- −1 -->\n      <defs>\n       <path d=\"M 12.40625 8.296875 \nL 28.515625 8.296875 \nL 28.515625 63.921875 \nL 10.984375 60.40625 \nL 10.984375 69.390625 \nL 28.421875 72.90625 \nL 38.28125 72.90625 \nL 38.28125 8.296875 \nL 54.390625 8.296875 \nL 54.390625 0 \nL 12.40625 0 \nz\n\" id=\"DejaVuSans-49\"/>\n      </defs>\n      <g transform=\"translate(175.891691 695.315313)scale(0.1 -0.1)\">\n       <use xlink:href=\"#DejaVuSans-8722\"/>\n       <use x=\"83.789062\" xlink:href=\"#DejaVuSans-49\"/>\n      </g>\n     </g>\n    </g>\n    <g id=\"xtick_3\">\n     <g id=\"line2d_5\">\n      <path clip-path=\"url(#p645e42c192)\" d=\"M 265.783664 680.716875 \nL 265.783664 28.396875 \n\" style=\"fill:none;stroke:#b0b0b0;stroke-linecap:square;stroke-width:0.8;\"/>\n     </g>\n     <g id=\"line2d_6\">\n      <g>\n       <use style=\"stroke:#000000;stroke-width:0.8;\" x=\"265.783664\" xlink:href=\"#md74c5ce03f\" y=\"680.716875\"/>\n      </g>\n     </g>\n     <g id=\"text_3\">\n      <!-- 0 -->\n      <defs>\n       <path d=\"M 31.78125 66.40625 \nQ 24.171875 66.40625 20.328125 58.90625 \nQ 16.5 51.421875 16.5 36.375 \nQ 16.5 21.390625 20.328125 13.890625 \nQ 24.171875 6.390625 31.78125 6.390625 \nQ 39.453125 6.390625 43.28125 13.890625 \nQ 47.125 21.390625 47.125 36.375 \nQ 47.125 51.421875 43.28125 58.90625 \nQ 39.453125 66.40625 31.78125 66.40625 \nz\nM 31.78125 74.21875 \nQ 44.046875 74.21875 50.515625 64.515625 \nQ 56.984375 54.828125 56.984375 36.375 \nQ 56.984375 17.96875 50.515625 8.265625 \nQ 44.046875 -1.421875 31.78125 -1.421875 \nQ 19.53125 -1.421875 13.0625 8.265625 \nQ 6.59375 17.96875 6.59375 36.375 \nQ 6.59375 54.828125 13.0625 64.515625 \nQ 19.53125 74.21875 31.78125 74.21875 \nz\n\" id=\"DejaVuSans-48\"/>\n      </defs>\n      <g transform=\"translate(262.602414 695.315313)scale(0.1 -0.1)\">\n       <use xlink:href=\"#DejaVuSans-48\"/>\n      </g>\n     </g>\n    </g>\n    <g id=\"xtick_4\">\n     <g id=\"line2d_7\">\n      <path clip-path=\"url(#p645e42c192)\" d=\"M 348.304543 680.716875 \nL 348.304543 28.396875 \n\" style=\"fill:none;stroke:#b0b0b0;stroke-linecap:square;stroke-width:0.8;\"/>\n     </g>\n     <g id=\"line2d_8\">\n      <g>\n       <use style=\"stroke:#000000;stroke-width:0.8;\" x=\"348.304543\" xlink:href=\"#md74c5ce03f\" y=\"680.716875\"/>\n      </g>\n     </g>\n     <g id=\"text_4\">\n      <!-- 1 -->\n      <g transform=\"translate(345.123293 695.315313)scale(0.1 -0.1)\">\n       <use xlink:href=\"#DejaVuSans-49\"/>\n      </g>\n     </g>\n    </g>\n    <g id=\"xtick_5\">\n     <g id=\"line2d_9\">\n      <path clip-path=\"url(#p645e42c192)\" d=\"M 430.825422 680.716875 \nL 430.825422 28.396875 \n\" style=\"fill:none;stroke:#b0b0b0;stroke-linecap:square;stroke-width:0.8;\"/>\n     </g>\n     <g id=\"line2d_10\">\n      <g>\n       <use style=\"stroke:#000000;stroke-width:0.8;\" x=\"430.825422\" xlink:href=\"#md74c5ce03f\" y=\"680.716875\"/>\n      </g>\n     </g>\n     <g id=\"text_5\">\n      <!-- 2 -->\n      <g transform=\"translate(427.644172 695.315313)scale(0.1 -0.1)\">\n       <use xlink:href=\"#DejaVuSans-50\"/>\n      </g>\n     </g>\n    </g>\n    <g id=\"xtick_6\">\n     <g id=\"line2d_11\">\n      <path clip-path=\"url(#p645e42c192)\" d=\"M 513.346301 680.716875 \nL 513.346301 28.396875 \n\" style=\"fill:none;stroke:#b0b0b0;stroke-linecap:square;stroke-width:0.8;\"/>\n     </g>\n     <g id=\"line2d_12\">\n      <g>\n       <use style=\"stroke:#000000;stroke-width:0.8;\" x=\"513.346301\" xlink:href=\"#md74c5ce03f\" y=\"680.716875\"/>\n      </g>\n     </g>\n     <g id=\"text_6\">\n      <!-- 3 -->\n      <defs>\n       <path d=\"M 40.578125 39.3125 \nQ 47.65625 37.796875 51.625 33 \nQ 55.609375 28.21875 55.609375 21.1875 \nQ 55.609375 10.40625 48.1875 4.484375 \nQ 40.765625 -1.421875 27.09375 -1.421875 \nQ 22.515625 -1.421875 17.65625 -0.515625 \nQ 12.796875 0.390625 7.625 2.203125 \nL 7.625 11.71875 \nQ 11.71875 9.328125 16.59375 8.109375 \nQ 21.484375 6.890625 26.8125 6.890625 \nQ 36.078125 6.890625 40.9375 10.546875 \nQ 45.796875 14.203125 45.796875 21.1875 \nQ 45.796875 27.640625 41.28125 31.265625 \nQ 36.765625 34.90625 28.71875 34.90625 \nL 20.21875 34.90625 \nL 20.21875 43.015625 \nL 29.109375 43.015625 \nQ 36.375 43.015625 40.234375 45.921875 \nQ 44.09375 48.828125 44.09375 54.296875 \nQ 44.09375 59.90625 40.109375 62.90625 \nQ 36.140625 65.921875 28.71875 65.921875 \nQ 24.65625 65.921875 20.015625 65.03125 \nQ 15.375 64.15625 9.8125 62.3125 \nL 9.8125 71.09375 \nQ 15.4375 72.65625 20.34375 73.4375 \nQ 25.25 74.21875 29.59375 74.21875 \nQ 40.828125 74.21875 47.359375 69.109375 \nQ 53.90625 64.015625 53.90625 55.328125 \nQ 53.90625 49.265625 50.4375 45.09375 \nQ 46.96875 40.921875 40.578125 39.3125 \nz\n\" id=\"DejaVuSans-51\"/>\n      </defs>\n      <g transform=\"translate(510.165051 695.315313)scale(0.1 -0.1)\">\n       <use xlink:href=\"#DejaVuSans-51\"/>\n      </g>\n     </g>\n    </g>\n    <g id=\"xtick_7\">\n     <g id=\"line2d_13\">\n      <path clip-path=\"url(#p645e42c192)\" d=\"M 595.86718 680.716875 \nL 595.86718 28.396875 \n\" style=\"fill:none;stroke:#b0b0b0;stroke-linecap:square;stroke-width:0.8;\"/>\n     </g>\n     <g id=\"line2d_14\">\n      <g>\n       <use style=\"stroke:#000000;stroke-width:0.8;\" x=\"595.86718\" xlink:href=\"#md74c5ce03f\" y=\"680.716875\"/>\n      </g>\n     </g>\n     <g id=\"text_7\">\n      <!-- 4 -->\n      <defs>\n       <path d=\"M 37.796875 64.3125 \nL 12.890625 25.390625 \nL 37.796875 25.390625 \nz\nM 35.203125 72.90625 \nL 47.609375 72.90625 \nL 47.609375 25.390625 \nL 58.015625 25.390625 \nL 58.015625 17.1875 \nL 47.609375 17.1875 \nL 47.609375 0 \nL 37.796875 0 \nL 37.796875 17.1875 \nL 4.890625 17.1875 \nL 4.890625 26.703125 \nz\n\" id=\"DejaVuSans-52\"/>\n      </defs>\n      <g transform=\"translate(592.68593 695.315313)scale(0.1 -0.1)\">\n       <use xlink:href=\"#DejaVuSans-52\"/>\n      </g>\n     </g>\n    </g>\n    <g id=\"xtick_8\">\n     <g id=\"line2d_15\">\n      <path clip-path=\"url(#p645e42c192)\" d=\"M 678.38806 680.716875 \nL 678.38806 28.396875 \n\" style=\"fill:none;stroke:#b0b0b0;stroke-linecap:square;stroke-width:0.8;\"/>\n     </g>\n     <g id=\"line2d_16\">\n      <g>\n       <use style=\"stroke:#000000;stroke-width:0.8;\" x=\"678.38806\" xlink:href=\"#md74c5ce03f\" y=\"680.716875\"/>\n      </g>\n     </g>\n     <g id=\"text_8\">\n      <!-- 5 -->\n      <defs>\n       <path d=\"M 10.796875 72.90625 \nL 49.515625 72.90625 \nL 49.515625 64.59375 \nL 19.828125 64.59375 \nL 19.828125 46.734375 \nQ 21.96875 47.46875 24.109375 47.828125 \nQ 26.265625 48.1875 28.421875 48.1875 \nQ 40.625 48.1875 47.75 41.5 \nQ 54.890625 34.8125 54.890625 23.390625 \nQ 54.890625 11.625 47.5625 5.09375 \nQ 40.234375 -1.421875 26.90625 -1.421875 \nQ 22.3125 -1.421875 17.546875 -0.640625 \nQ 12.796875 0.140625 7.71875 1.703125 \nL 7.71875 11.625 \nQ 12.109375 9.234375 16.796875 8.0625 \nQ 21.484375 6.890625 26.703125 6.890625 \nQ 35.15625 6.890625 40.078125 11.328125 \nQ 45.015625 15.765625 45.015625 23.390625 \nQ 45.015625 31 40.078125 35.4375 \nQ 35.15625 39.890625 26.703125 39.890625 \nQ 22.75 39.890625 18.8125 39.015625 \nQ 14.890625 38.140625 10.796875 36.28125 \nz\n\" id=\"DejaVuSans-53\"/>\n      </defs>\n      <g transform=\"translate(675.20681 695.315313)scale(0.1 -0.1)\">\n       <use xlink:href=\"#DejaVuSans-53\"/>\n      </g>\n     </g>\n    </g>\n    <g id=\"text_9\">\n     <!-- Principal Component 1 -->\n     <defs>\n      <path d=\"M 19.671875 64.796875 \nL 19.671875 37.40625 \nL 32.078125 37.40625 \nQ 38.96875 37.40625 42.71875 40.96875 \nQ 46.484375 44.53125 46.484375 51.125 \nQ 46.484375 57.671875 42.71875 61.234375 \nQ 38.96875 64.796875 32.078125 64.796875 \nz\nM 9.8125 72.90625 \nL 32.078125 72.90625 \nQ 44.34375 72.90625 50.609375 67.359375 \nQ 56.890625 61.8125 56.890625 51.125 \nQ 56.890625 40.328125 50.609375 34.8125 \nQ 44.34375 29.296875 32.078125 29.296875 \nL 19.671875 29.296875 \nL 19.671875 0 \nL 9.8125 0 \nz\n\" id=\"DejaVuSans-80\"/>\n      <path d=\"M 41.109375 46.296875 \nQ 39.59375 47.171875 37.8125 47.578125 \nQ 36.03125 48 33.890625 48 \nQ 26.265625 48 22.1875 43.046875 \nQ 18.109375 38.09375 18.109375 28.8125 \nL 18.109375 0 \nL 9.078125 0 \nL 9.078125 54.6875 \nL 18.109375 54.6875 \nL 18.109375 46.1875 \nQ 20.953125 51.171875 25.484375 53.578125 \nQ 30.03125 56 36.53125 56 \nQ 37.453125 56 38.578125 55.875 \nQ 39.703125 55.765625 41.0625 55.515625 \nz\n\" id=\"DejaVuSans-114\"/>\n      <path d=\"M 9.421875 54.6875 \nL 18.40625 54.6875 \nL 18.40625 0 \nL 9.421875 0 \nz\nM 9.421875 75.984375 \nL 18.40625 75.984375 \nL 18.40625 64.59375 \nL 9.421875 64.59375 \nz\n\" id=\"DejaVuSans-105\"/>\n      <path d=\"M 54.890625 33.015625 \nL 54.890625 0 \nL 45.90625 0 \nL 45.90625 32.71875 \nQ 45.90625 40.484375 42.875 44.328125 \nQ 39.84375 48.1875 33.796875 48.1875 \nQ 26.515625 48.1875 22.3125 43.546875 \nQ 18.109375 38.921875 18.109375 30.90625 \nL 18.109375 0 \nL 9.078125 0 \nL 9.078125 54.6875 \nL 18.109375 54.6875 \nL 18.109375 46.1875 \nQ 21.34375 51.125 25.703125 53.5625 \nQ 30.078125 56 35.796875 56 \nQ 45.21875 56 50.046875 50.171875 \nQ 54.890625 44.34375 54.890625 33.015625 \nz\n\" id=\"DejaVuSans-110\"/>\n      <path d=\"M 48.78125 52.59375 \nL 48.78125 44.1875 \nQ 44.96875 46.296875 41.140625 47.34375 \nQ 37.3125 48.390625 33.40625 48.390625 \nQ 24.65625 48.390625 19.8125 42.84375 \nQ 14.984375 37.3125 14.984375 27.296875 \nQ 14.984375 17.28125 19.8125 11.734375 \nQ 24.65625 6.203125 33.40625 6.203125 \nQ 37.3125 6.203125 41.140625 7.25 \nQ 44.96875 8.296875 48.78125 10.40625 \nL 48.78125 2.09375 \nQ 45.015625 0.34375 40.984375 -0.53125 \nQ 36.96875 -1.421875 32.421875 -1.421875 \nQ 20.0625 -1.421875 12.78125 6.34375 \nQ 5.515625 14.109375 5.515625 27.296875 \nQ 5.515625 40.671875 12.859375 48.328125 \nQ 20.21875 56 33.015625 56 \nQ 37.15625 56 41.109375 55.140625 \nQ 45.0625 54.296875 48.78125 52.59375 \nz\n\" id=\"DejaVuSans-99\"/>\n      <path d=\"M 18.109375 8.203125 \nL 18.109375 -20.796875 \nL 9.078125 -20.796875 \nL 9.078125 54.6875 \nL 18.109375 54.6875 \nL 18.109375 46.390625 \nQ 20.953125 51.265625 25.265625 53.625 \nQ 29.59375 56 35.59375 56 \nQ 45.5625 56 51.78125 48.09375 \nQ 58.015625 40.1875 58.015625 27.296875 \nQ 58.015625 14.40625 51.78125 6.484375 \nQ 45.5625 -1.421875 35.59375 -1.421875 \nQ 29.59375 -1.421875 25.265625 0.953125 \nQ 20.953125 3.328125 18.109375 8.203125 \nz\nM 48.6875 27.296875 \nQ 48.6875 37.203125 44.609375 42.84375 \nQ 40.53125 48.484375 33.40625 48.484375 \nQ 26.265625 48.484375 22.1875 42.84375 \nQ 18.109375 37.203125 18.109375 27.296875 \nQ 18.109375 17.390625 22.1875 11.75 \nQ 26.265625 6.109375 33.40625 6.109375 \nQ 40.53125 6.109375 44.609375 11.75 \nQ 48.6875 17.390625 48.6875 27.296875 \nz\n\" id=\"DejaVuSans-112\"/>\n      <path d=\"M 34.28125 27.484375 \nQ 23.390625 27.484375 19.1875 25 \nQ 14.984375 22.515625 14.984375 16.5 \nQ 14.984375 11.71875 18.140625 8.90625 \nQ 21.296875 6.109375 26.703125 6.109375 \nQ 34.1875 6.109375 38.703125 11.40625 \nQ 43.21875 16.703125 43.21875 25.484375 \nL 43.21875 27.484375 \nz\nM 52.203125 31.203125 \nL 52.203125 0 \nL 43.21875 0 \nL 43.21875 8.296875 \nQ 40.140625 3.328125 35.546875 0.953125 \nQ 30.953125 -1.421875 24.3125 -1.421875 \nQ 15.921875 -1.421875 10.953125 3.296875 \nQ 6 8.015625 6 15.921875 \nQ 6 25.140625 12.171875 29.828125 \nQ 18.359375 34.515625 30.609375 34.515625 \nL 43.21875 34.515625 \nL 43.21875 35.40625 \nQ 43.21875 41.609375 39.140625 45 \nQ 35.0625 48.390625 27.6875 48.390625 \nQ 23 48.390625 18.546875 47.265625 \nQ 14.109375 46.140625 10.015625 43.890625 \nL 10.015625 52.203125 \nQ 14.9375 54.109375 19.578125 55.046875 \nQ 24.21875 56 28.609375 56 \nQ 40.484375 56 46.34375 49.84375 \nQ 52.203125 43.703125 52.203125 31.203125 \nz\n\" id=\"DejaVuSans-97\"/>\n      <path d=\"M 9.421875 75.984375 \nL 18.40625 75.984375 \nL 18.40625 0 \nL 9.421875 0 \nz\n\" id=\"DejaVuSans-108\"/>\n      <path id=\"DejaVuSans-32\"/>\n      <path d=\"M 64.40625 67.28125 \nL 64.40625 56.890625 \nQ 59.421875 61.53125 53.78125 63.8125 \nQ 48.140625 66.109375 41.796875 66.109375 \nQ 29.296875 66.109375 22.65625 58.46875 \nQ 16.015625 50.828125 16.015625 36.375 \nQ 16.015625 21.96875 22.65625 14.328125 \nQ 29.296875 6.6875 41.796875 6.6875 \nQ 48.140625 6.6875 53.78125 8.984375 \nQ 59.421875 11.28125 64.40625 15.921875 \nL 64.40625 5.609375 \nQ 59.234375 2.09375 53.4375 0.328125 \nQ 47.65625 -1.421875 41.21875 -1.421875 \nQ 24.65625 -1.421875 15.125 8.703125 \nQ 5.609375 18.84375 5.609375 36.375 \nQ 5.609375 53.953125 15.125 64.078125 \nQ 24.65625 74.21875 41.21875 74.21875 \nQ 47.75 74.21875 53.53125 72.484375 \nQ 59.328125 70.75 64.40625 67.28125 \nz\n\" id=\"DejaVuSans-67\"/>\n      <path d=\"M 30.609375 48.390625 \nQ 23.390625 48.390625 19.1875 42.75 \nQ 14.984375 37.109375 14.984375 27.296875 \nQ 14.984375 17.484375 19.15625 11.84375 \nQ 23.34375 6.203125 30.609375 6.203125 \nQ 37.796875 6.203125 41.984375 11.859375 \nQ 46.1875 17.53125 46.1875 27.296875 \nQ 46.1875 37.015625 41.984375 42.703125 \nQ 37.796875 48.390625 30.609375 48.390625 \nz\nM 30.609375 56 \nQ 42.328125 56 49.015625 48.375 \nQ 55.71875 40.765625 55.71875 27.296875 \nQ 55.71875 13.875 49.015625 6.21875 \nQ 42.328125 -1.421875 30.609375 -1.421875 \nQ 18.84375 -1.421875 12.171875 6.21875 \nQ 5.515625 13.875 5.515625 27.296875 \nQ 5.515625 40.765625 12.171875 48.375 \nQ 18.84375 56 30.609375 56 \nz\n\" id=\"DejaVuSans-111\"/>\n      <path d=\"M 52 44.1875 \nQ 55.375 50.25 60.0625 53.125 \nQ 64.75 56 71.09375 56 \nQ 79.640625 56 84.28125 50.015625 \nQ 88.921875 44.046875 88.921875 33.015625 \nL 88.921875 0 \nL 79.890625 0 \nL 79.890625 32.71875 \nQ 79.890625 40.578125 77.09375 44.375 \nQ 74.3125 48.1875 68.609375 48.1875 \nQ 61.625 48.1875 57.5625 43.546875 \nQ 53.515625 38.921875 53.515625 30.90625 \nL 53.515625 0 \nL 44.484375 0 \nL 44.484375 32.71875 \nQ 44.484375 40.625 41.703125 44.40625 \nQ 38.921875 48.1875 33.109375 48.1875 \nQ 26.21875 48.1875 22.15625 43.53125 \nQ 18.109375 38.875 18.109375 30.90625 \nL 18.109375 0 \nL 9.078125 0 \nL 9.078125 54.6875 \nL 18.109375 54.6875 \nL 18.109375 46.1875 \nQ 21.1875 51.21875 25.484375 53.609375 \nQ 29.78125 56 35.6875 56 \nQ 41.65625 56 45.828125 52.96875 \nQ 50 49.953125 52 44.1875 \nz\n\" id=\"DejaVuSans-109\"/>\n      <path d=\"M 56.203125 29.59375 \nL 56.203125 25.203125 \nL 14.890625 25.203125 \nQ 15.484375 15.921875 20.484375 11.0625 \nQ 25.484375 6.203125 34.421875 6.203125 \nQ 39.59375 6.203125 44.453125 7.46875 \nQ 49.3125 8.734375 54.109375 11.28125 \nL 54.109375 2.78125 \nQ 49.265625 0.734375 44.1875 -0.34375 \nQ 39.109375 -1.421875 33.890625 -1.421875 \nQ 20.796875 -1.421875 13.15625 6.1875 \nQ 5.515625 13.8125 5.515625 26.8125 \nQ 5.515625 40.234375 12.765625 48.109375 \nQ 20.015625 56 32.328125 56 \nQ 43.359375 56 49.78125 48.890625 \nQ 56.203125 41.796875 56.203125 29.59375 \nz\nM 47.21875 32.234375 \nQ 47.125 39.59375 43.09375 43.984375 \nQ 39.0625 48.390625 32.421875 48.390625 \nQ 24.90625 48.390625 20.390625 44.140625 \nQ 15.875 39.890625 15.1875 32.171875 \nz\n\" id=\"DejaVuSans-101\"/>\n      <path d=\"M 18.3125 70.21875 \nL 18.3125 54.6875 \nL 36.8125 54.6875 \nL 36.8125 47.703125 \nL 18.3125 47.703125 \nL 18.3125 18.015625 \nQ 18.3125 11.328125 20.140625 9.421875 \nQ 21.96875 7.515625 27.59375 7.515625 \nL 36.8125 7.515625 \nL 36.8125 0 \nL 27.59375 0 \nQ 17.1875 0 13.234375 3.875 \nQ 9.28125 7.765625 9.28125 18.015625 \nL 9.28125 47.703125 \nL 2.6875 47.703125 \nL 2.6875 54.6875 \nL 9.28125 54.6875 \nL 9.28125 70.21875 \nz\n\" id=\"DejaVuSans-116\"/>\n     </defs>\n     <g transform=\"translate(297.0875 712.792656)scale(0.15 -0.15)\">\n      <use xlink:href=\"#DejaVuSans-80\"/>\n      <use x=\"60.287109\" xlink:href=\"#DejaVuSans-114\"/>\n      <use x=\"101.400391\" xlink:href=\"#DejaVuSans-105\"/>\n      <use x=\"129.183594\" xlink:href=\"#DejaVuSans-110\"/>\n      <use x=\"192.5625\" xlink:href=\"#DejaVuSans-99\"/>\n      <use x=\"247.542969\" xlink:href=\"#DejaVuSans-105\"/>\n      <use x=\"275.326172\" xlink:href=\"#DejaVuSans-112\"/>\n      <use x=\"338.802734\" xlink:href=\"#DejaVuSans-97\"/>\n      <use x=\"400.082031\" xlink:href=\"#DejaVuSans-108\"/>\n      <use x=\"427.865234\" xlink:href=\"#DejaVuSans-32\"/>\n      <use x=\"459.652344\" xlink:href=\"#DejaVuSans-67\"/>\n      <use x=\"529.476562\" xlink:href=\"#DejaVuSans-111\"/>\n      <use x=\"590.658203\" xlink:href=\"#DejaVuSans-109\"/>\n      <use x=\"688.070312\" xlink:href=\"#DejaVuSans-112\"/>\n      <use x=\"751.546875\" xlink:href=\"#DejaVuSans-111\"/>\n      <use x=\"812.728516\" xlink:href=\"#DejaVuSans-110\"/>\n      <use x=\"876.107422\" xlink:href=\"#DejaVuSans-101\"/>\n      <use x=\"937.630859\" xlink:href=\"#DejaVuSans-110\"/>\n      <use x=\"1001.009766\" xlink:href=\"#DejaVuSans-116\"/>\n      <use x=\"1040.21875\" xlink:href=\"#DejaVuSans-32\"/>\n      <use x=\"1072.005859\" xlink:href=\"#DejaVuSans-49\"/>\n     </g>\n    </g>\n   </g>\n   <g id=\"matplotlib.axis_2\">\n    <g id=\"ytick_1\">\n     <g id=\"line2d_17\">\n      <path clip-path=\"url(#p645e42c192)\" d=\"M 47.459375 651.596301 \nL 717.059375 651.596301 \n\" style=\"fill:none;stroke:#b0b0b0;stroke-linecap:square;stroke-width:0.8;\"/>\n     </g>\n     <g id=\"line2d_18\">\n      <defs>\n       <path d=\"M 0 0 \nL -3.5 0 \n\" id=\"m3877610849\" style=\"stroke:#000000;stroke-width:0.8;\"/>\n      </defs>\n      <g>\n       <use style=\"stroke:#000000;stroke-width:0.8;\" x=\"47.459375\" xlink:href=\"#m3877610849\" y=\"651.596301\"/>\n      </g>\n     </g>\n     <g id=\"text_10\">\n      <!-- −6 -->\n      <defs>\n       <path d=\"M 33.015625 40.375 \nQ 26.375 40.375 22.484375 35.828125 \nQ 18.609375 31.296875 18.609375 23.390625 \nQ 18.609375 15.53125 22.484375 10.953125 \nQ 26.375 6.390625 33.015625 6.390625 \nQ 39.65625 6.390625 43.53125 10.953125 \nQ 47.40625 15.53125 47.40625 23.390625 \nQ 47.40625 31.296875 43.53125 35.828125 \nQ 39.65625 40.375 33.015625 40.375 \nz\nM 52.59375 71.296875 \nL 52.59375 62.3125 \nQ 48.875 64.0625 45.09375 64.984375 \nQ 41.3125 65.921875 37.59375 65.921875 \nQ 27.828125 65.921875 22.671875 59.328125 \nQ 17.53125 52.734375 16.796875 39.40625 \nQ 19.671875 43.65625 24.015625 45.921875 \nQ 28.375 48.1875 33.59375 48.1875 \nQ 44.578125 48.1875 50.953125 41.515625 \nQ 57.328125 34.859375 57.328125 23.390625 \nQ 57.328125 12.15625 50.6875 5.359375 \nQ 44.046875 -1.421875 33.015625 -1.421875 \nQ 20.359375 -1.421875 13.671875 8.265625 \nQ 6.984375 17.96875 6.984375 36.375 \nQ 6.984375 53.65625 15.1875 63.9375 \nQ 23.390625 74.21875 37.203125 74.21875 \nQ 40.921875 74.21875 44.703125 73.484375 \nQ 48.484375 72.75 52.59375 71.296875 \nz\n\" id=\"DejaVuSans-54\"/>\n      </defs>\n      <g transform=\"translate(25.717188 655.39552)scale(0.1 -0.1)\">\n       <use xlink:href=\"#DejaVuSans-8722\"/>\n       <use x=\"83.789062\" xlink:href=\"#DejaVuSans-54\"/>\n      </g>\n     </g>\n    </g>\n    <g id=\"ytick_2\">\n     <g id=\"line2d_19\">\n      <path clip-path=\"url(#p645e42c192)\" d=\"M 47.459375 568.01048 \nL 717.059375 568.01048 \n\" style=\"fill:none;stroke:#b0b0b0;stroke-linecap:square;stroke-width:0.8;\"/>\n     </g>\n     <g id=\"line2d_20\">\n      <g>\n       <use style=\"stroke:#000000;stroke-width:0.8;\" x=\"47.459375\" xlink:href=\"#m3877610849\" y=\"568.01048\"/>\n      </g>\n     </g>\n     <g id=\"text_11\">\n      <!-- −4 -->\n      <g transform=\"translate(25.717188 571.809699)scale(0.1 -0.1)\">\n       <use xlink:href=\"#DejaVuSans-8722\"/>\n       <use x=\"83.789062\" xlink:href=\"#DejaVuSans-52\"/>\n      </g>\n     </g>\n    </g>\n    <g id=\"ytick_3\">\n     <g id=\"line2d_21\">\n      <path clip-path=\"url(#p645e42c192)\" d=\"M 47.459375 484.424659 \nL 717.059375 484.424659 \n\" style=\"fill:none;stroke:#b0b0b0;stroke-linecap:square;stroke-width:0.8;\"/>\n     </g>\n     <g id=\"line2d_22\">\n      <g>\n       <use style=\"stroke:#000000;stroke-width:0.8;\" x=\"47.459375\" xlink:href=\"#m3877610849\" y=\"484.424659\"/>\n      </g>\n     </g>\n     <g id=\"text_12\">\n      <!-- −2 -->\n      <g transform=\"translate(25.717188 488.223878)scale(0.1 -0.1)\">\n       <use xlink:href=\"#DejaVuSans-8722\"/>\n       <use x=\"83.789062\" xlink:href=\"#DejaVuSans-50\"/>\n      </g>\n     </g>\n    </g>\n    <g id=\"ytick_4\">\n     <g id=\"line2d_23\">\n      <path clip-path=\"url(#p645e42c192)\" d=\"M 47.459375 400.838838 \nL 717.059375 400.838838 \n\" style=\"fill:none;stroke:#b0b0b0;stroke-linecap:square;stroke-width:0.8;\"/>\n     </g>\n     <g id=\"line2d_24\">\n      <g>\n       <use style=\"stroke:#000000;stroke-width:0.8;\" x=\"47.459375\" xlink:href=\"#m3877610849\" y=\"400.838838\"/>\n      </g>\n     </g>\n     <g id=\"text_13\">\n      <!-- 0 -->\n      <g transform=\"translate(34.096875 404.638057)scale(0.1 -0.1)\">\n       <use xlink:href=\"#DejaVuSans-48\"/>\n      </g>\n     </g>\n    </g>\n    <g id=\"ytick_5\">\n     <g id=\"line2d_25\">\n      <path clip-path=\"url(#p645e42c192)\" d=\"M 47.459375 317.253017 \nL 717.059375 317.253017 \n\" style=\"fill:none;stroke:#b0b0b0;stroke-linecap:square;stroke-width:0.8;\"/>\n     </g>\n     <g id=\"line2d_26\">\n      <g>\n       <use style=\"stroke:#000000;stroke-width:0.8;\" x=\"47.459375\" xlink:href=\"#m3877610849\" y=\"317.253017\"/>\n      </g>\n     </g>\n     <g id=\"text_14\">\n      <!-- 2 -->\n      <g transform=\"translate(34.096875 321.052236)scale(0.1 -0.1)\">\n       <use xlink:href=\"#DejaVuSans-50\"/>\n      </g>\n     </g>\n    </g>\n    <g id=\"ytick_6\">\n     <g id=\"line2d_27\">\n      <path clip-path=\"url(#p645e42c192)\" d=\"M 47.459375 233.667196 \nL 717.059375 233.667196 \n\" style=\"fill:none;stroke:#b0b0b0;stroke-linecap:square;stroke-width:0.8;\"/>\n     </g>\n     <g id=\"line2d_28\">\n      <g>\n       <use style=\"stroke:#000000;stroke-width:0.8;\" x=\"47.459375\" xlink:href=\"#m3877610849\" y=\"233.667196\"/>\n      </g>\n     </g>\n     <g id=\"text_15\">\n      <!-- 4 -->\n      <g transform=\"translate(34.096875 237.466415)scale(0.1 -0.1)\">\n       <use xlink:href=\"#DejaVuSans-52\"/>\n      </g>\n     </g>\n    </g>\n    <g id=\"ytick_7\">\n     <g id=\"line2d_29\">\n      <path clip-path=\"url(#p645e42c192)\" d=\"M 47.459375 150.081375 \nL 717.059375 150.081375 \n\" style=\"fill:none;stroke:#b0b0b0;stroke-linecap:square;stroke-width:0.8;\"/>\n     </g>\n     <g id=\"line2d_30\">\n      <g>\n       <use style=\"stroke:#000000;stroke-width:0.8;\" x=\"47.459375\" xlink:href=\"#m3877610849\" y=\"150.081375\"/>\n      </g>\n     </g>\n     <g id=\"text_16\">\n      <!-- 6 -->\n      <g transform=\"translate(34.096875 153.880594)scale(0.1 -0.1)\">\n       <use xlink:href=\"#DejaVuSans-54\"/>\n      </g>\n     </g>\n    </g>\n    <g id=\"ytick_8\">\n     <g id=\"line2d_31\">\n      <path clip-path=\"url(#p645e42c192)\" d=\"M 47.459375 66.495554 \nL 717.059375 66.495554 \n\" style=\"fill:none;stroke:#b0b0b0;stroke-linecap:square;stroke-width:0.8;\"/>\n     </g>\n     <g id=\"line2d_32\">\n      <g>\n       <use style=\"stroke:#000000;stroke-width:0.8;\" x=\"47.459375\" xlink:href=\"#m3877610849\" y=\"66.495554\"/>\n      </g>\n     </g>\n     <g id=\"text_17\">\n      <!-- 8 -->\n      <defs>\n       <path d=\"M 31.78125 34.625 \nQ 24.75 34.625 20.71875 30.859375 \nQ 16.703125 27.09375 16.703125 20.515625 \nQ 16.703125 13.921875 20.71875 10.15625 \nQ 24.75 6.390625 31.78125 6.390625 \nQ 38.8125 6.390625 42.859375 10.171875 \nQ 46.921875 13.96875 46.921875 20.515625 \nQ 46.921875 27.09375 42.890625 30.859375 \nQ 38.875 34.625 31.78125 34.625 \nz\nM 21.921875 38.8125 \nQ 15.578125 40.375 12.03125 44.71875 \nQ 8.5 49.078125 8.5 55.328125 \nQ 8.5 64.0625 14.71875 69.140625 \nQ 20.953125 74.21875 31.78125 74.21875 \nQ 42.671875 74.21875 48.875 69.140625 \nQ 55.078125 64.0625 55.078125 55.328125 \nQ 55.078125 49.078125 51.53125 44.71875 \nQ 48 40.375 41.703125 38.8125 \nQ 48.828125 37.15625 52.796875 32.3125 \nQ 56.78125 27.484375 56.78125 20.515625 \nQ 56.78125 9.90625 50.3125 4.234375 \nQ 43.84375 -1.421875 31.78125 -1.421875 \nQ 19.734375 -1.421875 13.25 4.234375 \nQ 6.78125 9.90625 6.78125 20.515625 \nQ 6.78125 27.484375 10.78125 32.3125 \nQ 14.796875 37.15625 21.921875 38.8125 \nz\nM 18.3125 54.390625 \nQ 18.3125 48.734375 21.84375 45.5625 \nQ 25.390625 42.390625 31.78125 42.390625 \nQ 38.140625 42.390625 41.71875 45.5625 \nQ 45.3125 48.734375 45.3125 54.390625 \nQ 45.3125 60.0625 41.71875 63.234375 \nQ 38.140625 66.40625 31.78125 66.40625 \nQ 25.390625 66.40625 21.84375 63.234375 \nQ 18.3125 60.0625 18.3125 54.390625 \nz\n\" id=\"DejaVuSans-56\"/>\n      </defs>\n      <g transform=\"translate(34.096875 70.294773)scale(0.1 -0.1)\">\n       <use xlink:href=\"#DejaVuSans-56\"/>\n      </g>\n     </g>\n    </g>\n    <g id=\"text_18\">\n     <!-- Principal Component 2 -->\n     <g transform=\"translate(18.597656 439.72875)rotate(-90)scale(0.15 -0.15)\">\n      <use xlink:href=\"#DejaVuSans-80\"/>\n      <use x=\"60.287109\" xlink:href=\"#DejaVuSans-114\"/>\n      <use x=\"101.400391\" xlink:href=\"#DejaVuSans-105\"/>\n      <use x=\"129.183594\" xlink:href=\"#DejaVuSans-110\"/>\n      <use x=\"192.5625\" xlink:href=\"#DejaVuSans-99\"/>\n      <use x=\"247.542969\" xlink:href=\"#DejaVuSans-105\"/>\n      <use x=\"275.326172\" xlink:href=\"#DejaVuSans-112\"/>\n      <use x=\"338.802734\" xlink:href=\"#DejaVuSans-97\"/>\n      <use x=\"400.082031\" xlink:href=\"#DejaVuSans-108\"/>\n      <use x=\"427.865234\" xlink:href=\"#DejaVuSans-32\"/>\n      <use x=\"459.652344\" xlink:href=\"#DejaVuSans-67\"/>\n      <use x=\"529.476562\" xlink:href=\"#DejaVuSans-111\"/>\n      <use x=\"590.658203\" xlink:href=\"#DejaVuSans-109\"/>\n      <use x=\"688.070312\" xlink:href=\"#DejaVuSans-112\"/>\n      <use x=\"751.546875\" xlink:href=\"#DejaVuSans-111\"/>\n      <use x=\"812.728516\" xlink:href=\"#DejaVuSans-110\"/>\n      <use x=\"876.107422\" xlink:href=\"#DejaVuSans-101\"/>\n      <use x=\"937.630859\" xlink:href=\"#DejaVuSans-110\"/>\n      <use x=\"1001.009766\" xlink:href=\"#DejaVuSans-116\"/>\n      <use x=\"1040.21875\" xlink:href=\"#DejaVuSans-32\"/>\n      <use x=\"1072.005859\" xlink:href=\"#DejaVuSans-50\"/>\n     </g>\n    </g>\n   </g>\n   <g id=\"patch_3\">\n    <path d=\"M 47.459375 680.716875 \nL 47.459375 28.396875 \n\" style=\"fill:none;stroke:#000000;stroke-linecap:square;stroke-linejoin:miter;stroke-width:0.8;\"/>\n   </g>\n   <g id=\"patch_4\">\n    <path d=\"M 717.059375 680.716875 \nL 717.059375 28.396875 \n\" style=\"fill:none;stroke:#000000;stroke-linecap:square;stroke-linejoin:miter;stroke-width:0.8;\"/>\n   </g>\n   <g id=\"patch_5\">\n    <path d=\"M 47.459375 680.716875 \nL 717.059375 680.716875 \n\" style=\"fill:none;stroke:#000000;stroke-linecap:square;stroke-linejoin:miter;stroke-width:0.8;\"/>\n   </g>\n   <g id=\"patch_6\">\n    <path d=\"M 47.459375 28.396875 \nL 717.059375 28.396875 \n\" style=\"fill:none;stroke:#000000;stroke-linecap:square;stroke-linejoin:miter;stroke-width:0.8;\"/>\n   </g>\n   <g id=\"text_19\">\n    <!-- 2 component PCA -->\n    <defs>\n     <path d=\"M 34.1875 63.1875 \nL 20.796875 26.90625 \nL 47.609375 26.90625 \nz\nM 28.609375 72.90625 \nL 39.796875 72.90625 \nL 67.578125 0 \nL 57.328125 0 \nL 50.6875 18.703125 \nL 17.828125 18.703125 \nL 11.1875 0 \nL 0.78125 0 \nz\n\" id=\"DejaVuSans-65\"/>\n    </defs>\n    <g transform=\"translate(293.114063 22.396875)scale(0.2 -0.2)\">\n     <use xlink:href=\"#DejaVuSans-50\"/>\n     <use x=\"63.623047\" xlink:href=\"#DejaVuSans-32\"/>\n     <use x=\"95.410156\" xlink:href=\"#DejaVuSans-99\"/>\n     <use x=\"150.390625\" xlink:href=\"#DejaVuSans-111\"/>\n     <use x=\"211.572266\" xlink:href=\"#DejaVuSans-109\"/>\n     <use x=\"308.984375\" xlink:href=\"#DejaVuSans-112\"/>\n     <use x=\"372.460938\" xlink:href=\"#DejaVuSans-111\"/>\n     <use x=\"433.642578\" xlink:href=\"#DejaVuSans-110\"/>\n     <use x=\"497.021484\" xlink:href=\"#DejaVuSans-101\"/>\n     <use x=\"558.544922\" xlink:href=\"#DejaVuSans-110\"/>\n     <use x=\"621.923828\" xlink:href=\"#DejaVuSans-116\"/>\n     <use x=\"661.132812\" xlink:href=\"#DejaVuSans-32\"/>\n     <use x=\"692.919922\" xlink:href=\"#DejaVuSans-80\"/>\n     <use x=\"753.222656\" xlink:href=\"#DejaVuSans-67\"/>\n     <use x=\"823.046875\" xlink:href=\"#DejaVuSans-65\"/>\n    </g>\n   </g>\n   <g id=\"legend_1\">\n    <g id=\"patch_7\">\n     <path d=\"M 671.696875 80.43125 \nL 710.059375 80.43125 \nQ 712.059375 80.43125 712.059375 78.43125 \nL 712.059375 35.396875 \nQ 712.059375 33.396875 710.059375 33.396875 \nL 671.696875 33.396875 \nQ 669.696875 33.396875 669.696875 35.396875 \nL 669.696875 78.43125 \nQ 669.696875 80.43125 671.696875 80.43125 \nz\n\" style=\"fill:#ffffff;opacity:0.8;stroke:#cccccc;stroke-linejoin:miter;\"/>\n    </g>\n    <g id=\"PathCollection_4\">\n     <g>\n      <use style=\"fill:#ff0000;stroke:#ff0000;\" x=\"683.696875\" xlink:href=\"#m1a7e8a9197\" y=\"42.370312\"/>\n     </g>\n    </g>\n    <g id=\"text_20\">\n     <!-- 1 -->\n     <g transform=\"translate(701.696875 44.995312)scale(0.1 -0.1)\">\n      <use xlink:href=\"#DejaVuSans-49\"/>\n     </g>\n    </g>\n    <g id=\"PathCollection_5\">\n     <g>\n      <use style=\"fill:#008000;stroke:#008000;\" x=\"683.696875\" xlink:href=\"#mcab20100a9\" y=\"57.048437\"/>\n     </g>\n    </g>\n    <g id=\"text_21\">\n     <!-- 3 -->\n     <g transform=\"translate(701.696875 59.673437)scale(0.1 -0.1)\">\n      <use xlink:href=\"#DejaVuSans-51\"/>\n     </g>\n    </g>\n    <g id=\"PathCollection_6\">\n     <g>\n      <use style=\"fill:#0000ff;stroke:#0000ff;\" x=\"683.696875\" xlink:href=\"#m5a40b70ac7\" y=\"71.726562\"/>\n     </g>\n    </g>\n    <g id=\"text_22\">\n     <!-- 4 -->\n     <g transform=\"translate(701.696875 74.351562)scale(0.1 -0.1)\">\n      <use xlink:href=\"#DejaVuSans-52\"/>\n     </g>\n    </g>\n   </g>\n  </g>\n </g>\n <defs>\n  <clipPath id=\"p645e42c192\">\n   <rect height=\"652.32\" width=\"669.6\" x=\"47.459375\" y=\"28.396875\"/>\n  </clipPath>\n </defs>\n</svg>\n",
      "image/png": "[encoded data removed]"
     },
     "metadata": {
      "needs_background": "light"
     }
    }
   ],
   "source": [
    "pca = PCA(n_components=2)\n",
    "pca.fit(train_Resampled_26_2D)\n",
    "\n",
    "# Prints PCA plot (Does only work with a PCA with 2 components)\n",
    "# Code based on https://towardsdatascience.com/pca-using-python-scikit-learn-e653f8989e60\n",
    "principalComponents = pca.fit_transform(train_Resampled_26_2D)\n",
    "principalDf = pd.DataFrame(data = principalComponents\n",
    "             , columns = ['principal component 1', 'principal component 2'])\n",
    "\n",
    "finalDf = pd.concat([principalDf, pd.DataFrame(Outputs)], axis = 1)\n",
    "#print(finalDf)\n",
    "print('Explained variation per principal component: {}'.format(pca.explained_variance_ratio_))\n",
    "\n",
    "fig = plt.figure(figsize = (12,12))\n",
    "ax = fig.add_subplot(1,1,1) \n",
    "ax.set_xlabel('Principal Component 1', fontsize = 15)\n",
    "ax.set_ylabel('Principal Component 2', fontsize = 15)\n",
    "ax.set_title('2 component PCA', fontsize = 20)\n",
    "# Choose the speakers that you want to visualize in the plot\n",
    "targets = [1, 3, 4]\n",
    "colors = 'r', 'g', 'b'\n",
    "# Uncomment if you want to visualize all speakers\n",
    "#targets = [1,2,3,4,5,6,7,8,9]\n",
    "#colors = ['r', 'g', 'b', 'k', 'c', 'm', 'y', 'tab:orange', 'tab:brown']\n",
    "\n",
    "for target, color in zip(targets,colors):\n",
    "    indicesToKeep = finalDf[0] == target\n",
    "    ax.scatter(finalDf.loc[indicesToKeep, 'principal component 1']\n",
    "               , finalDf.loc[indicesToKeep, 'principal component 2']\n",
    "               , c = color\n",
    "               , s = 50)\n",
    "ax.legend(targets)\n",
    "ax.grid()\n",
    "\n",
    "plt.show()"
   ]
  },
  {
   "source": [
    "## Data reduction & visualisation with UMAP"
   ],
   "cell_type": "markdown",
   "metadata": {}
  },
  {
   "cell_type": "code",
   "execution_count": 20,
   "metadata": {},
   "outputs": [],
   "source": [
    "# Data Reduction with UMAP\n",
    "# pip3 install umap-learn\n",
    "import numpy as np\n",
    "from sklearn.datasets import load_digits\n",
    "import matplotlib.pyplot as plt\n",
    "from mpl_toolkits.mplot3d import Axes3D\n",
    "import seaborn as sns\n",
    "import sys\n",
    "\n",
    "# Installing didn't work on my machine, so I provided tha path manually\n",
    "sys.path.append('/Users/lauridsstockert/opt/anaconda3/lib/python3.7/site-packages')\n",
    "\n",
    "import umap\n",
    "\n",
    "sns.set(style='white', context='poster', rc={'figure.figsize':(14,10)})"
   ]
  },
  {
   "cell_type": "code",
   "execution_count": 21,
   "metadata": {},
   "outputs": [],
   "source": [
    "def umapCalc(input_data, n_neighbors, n_components, min_dist):\n",
    "    reducer = umap.UMAP(n_neighbors=n_neighbors, n_components = n_components, min_dist = min_dist)\n",
    "    embedding = reducer.fit_transform(input_data)\n",
    "    return embedding\n",
    "\n",
    "def drawUmap(input_data, input_labels, n_neighbors=15, min_dist=0.1, n_components=2, metric='euclidean', title=''):\n",
    "    fit = umap.UMAP(\n",
    "        n_neighbors=n_neighbors,\n",
    "        min_dist=min_dist,\n",
    "        n_components=n_components,\n",
    "        metric=metric\n",
    "    )\n",
    "    u = fit.fit_transform(input_data)\n",
    "    fig = plt.figure()\n",
    "    if n_components == 1:\n",
    "        ax = fig.add_subplot(111)\n",
    "        ax.scatter(u[:,0], range(len(u)), c=input_labels)\n",
    "    if n_components == 2:\n",
    "        ax = fig.add_subplot(111)\n",
    "        ax.scatter(u[:,0], u[:,1], c=input_labels)\n",
    "    if n_components == 3:\n",
    "        ax = fig.add_subplot(111, projection='3d')\n",
    "        ax.scatter(u[:,0], u[:,1], u[:,2], c=input_labels, s=100)\n",
    "    if n_components > 3:\n",
    "        print(\"ERROR: Cannot draw more than 3 dimensions\")\n",
    "    plt.title(title, fontsize=18)"
   ]
  },
  {
   "cell_type": "code",
   "execution_count": 22,
   "metadata": {},
   "outputs": [],
   "source": [
    "# Trying Data Reduction with UMAP\n",
    "# Results range can get as high as 77% (best try so far)\n",
    "# I have commented out the code for parameter optimisation\n",
    "\n",
    "#accuracy_padded_after = np.zeros(100)\n",
    "######accuracy_padded_before = np.zeros(100)\n",
    "#cnt = 1\n",
    "\n",
    "#for n in (2, 5, 10, 20):\n",
    "    #for d in (0.1, 0.2, 0.4):\n",
    "        #for c in (2, 5):\n",
    "            #accuracy_padded_after = np.zeros(100)\n",
    "            #inputs_train_umap = umapCalc(trainInputsSquaredPost, n, c, d)\n",
    "            #for i in range(100):\n",
    "                #accuracy_padded_after[i] = predictLabels(inputs_train_umap, trainOutputsNew)\n",
    "            #print(\"Params are n_neighbors(n), min_dist(d), and n_components(c) \\n  n = {}, d = {}, c = {}\".format(n, d, c))\n",
    "            #print(\"Av. Accuracy (padding after)\", np.mean(accuracy_padded_after))\n",
    "            #print(\"\\n\")\n",
    "            #cnt = cnt + 1\n",
    "# empirically good combinations:\n",
    "# Acc = 77%: n = 50, d = 0.99, c = 7\n",
    "# Acc = 63.37%: n = 20, d = 0.8, c = 2"
   ]
  },
  {
   "cell_type": "code",
   "execution_count": 23,
   "metadata": {},
   "outputs": [],
   "source": [
    "for n in (2, 3, 4, 5, 6, 7, 8, 9, 10, 11, 12):\n",
    "    pass\n",
    "    #drawUmap(input_data = trainInputsSquaredPost, input_labels = trainOutputsNew, n_neighbors=n, n_components = 3, title='n_neighbors = {}'.format(n))"
   ]
  },
  {
   "cell_type": "code",
   "execution_count": 24,
   "metadata": {},
   "outputs": [],
   "source": [
    "for d in (0.0, 0.1, 0.25, 0.5, 0.8, 0.99):\n",
    "    pass\n",
    "    #drawUmap(input_data = trainInputsSquaredPost, input_labels = trainOutputsNew, min_dist=d, title='min_dist = {}'.format(d))"
   ]
  },
  {
   "source": [
    "## LSTM classifier implementation"
   ],
   "cell_type": "markdown",
   "metadata": {}
  },
  {
   "cell_type": "code",
   "execution_count": 25,
   "metadata": {},
   "outputs": [
    {
     "output_type": "stream",
     "name": "stderr",
     "text": [
      "Using TensorFlow backend.\n"
     ]
    }
   ],
   "source": [
    "#for those packages install tensorflow\n",
    "from keras.models import Sequential\n",
    "from keras.layers import Dense\n",
    "from keras.layers import LSTM\n",
    "from keras.layers.normalization import BatchNormalization\n",
    "from keras.layers import Bidirectional\n",
    "from keras.layers import Activation\n",
    "from keras.layers.embeddings import Embedding\n",
    "from keras.layers import Dropout\n",
    "from keras.preprocessing import sequence\n",
    "from keras.layers.convolutional import Conv1D\n",
    "from keras.layers.convolutional import MaxPooling1D\n",
    "# fix random seed for reproducibility\n",
    "np.random.seed(7)"
   ]
  },
  {
   "cell_type": "code",
   "execution_count": 27,
   "metadata": {},
   "outputs": [
    {
     "output_type": "stream",
     "name": "stdout",
     "text": [
      "Accuracy for 26 size arrays: 98.14814925193787\n",
      "Accuracy for 25 size arrays: 98.14814925193787\n",
      "WARNING:tensorflow:5 out of the last 9 calls to <function Model.make_test_function.<locals>.test_function at 0x7faa48bff680> triggered tf.function retracing. Tracing is expensive and the excessive number of tracings could be due to (1) creating @tf.function repeatedly in a loop, (2) passing tensors with different shapes, (3) passing Python objects instead of tensors. For (1), please define your @tf.function outside of the loop. For (2), @tf.function has experimental_relax_shapes=True option that relaxes argument shapes that can avoid unnecessary retracing. For (3), please refer to https://www.tensorflow.org/guide/function#controlling_retracing and https://www.tensorflow.org/api_docs/python/tf/function for  more details.\n",
      "Accuracy for 24 size arrays: 100.0\n",
      "WARNING:tensorflow:6 out of the last 11 calls to <function Model.make_test_function.<locals>.test_function at 0x7faa4c218440> triggered tf.function retracing. Tracing is expensive and the excessive number of tracings could be due to (1) creating @tf.function repeatedly in a loop, (2) passing tensors with different shapes, (3) passing Python objects instead of tensors. For (1), please define your @tf.function outside of the loop. For (2), @tf.function has experimental_relax_shapes=True option that relaxes argument shapes that can avoid unnecessary retracing. For (3), please refer to https://www.tensorflow.org/guide/function#controlling_retracing and https://www.tensorflow.org/api_docs/python/tf/function for  more details.\n",
      "Accuracy for 23 size arrays: 98.14814925193787\n",
      "Accuracy for 22 size arrays: 94.44444179534912\n",
      "Accuracy for 21 size arrays: 94.44444179534912\n",
      "Accuracy for 20 size arrays: 94.44444179534912\n",
      "Accuracy for 19 size arrays: 98.14814925193787\n",
      "Accuracy for 18 size arrays: 100.0\n",
      "Accuracy for 17 size arrays: 100.0\n",
      "Accuracy for 16 size arrays: 98.14814925193787\n",
      "Accuracy for 15 size arrays: 94.44444179534912\n",
      "Accuracy for 14 size arrays: 96.29629850387573\n",
      "Accuracy for 13 size arrays: 96.29629850387573\n",
      "Accuracy for 12 size arrays: 96.29629850387573\n",
      "Accuracy for 11 size arrays: 100.0\n",
      "Accuracy for 10 size arrays: 96.29629850387573\n"
     ]
    }
   ],
   "source": [
    "def predictLabelsLSTM(trainInputs, trainOutputs):\n",
    "    inputs_train, inputs_test, outputs_train, outputs_test = splitData(trainInputs, trainOutputs)\n",
    "    \n",
    "    inputs_train = np.asarray(inputs_train).astype('float32')\n",
    "    inputs_test = np.asarray(inputs_test).astype('float32')\n",
    "    outputs_train = np.asarray(outputs_train).astype('float32')\n",
    "    outputs_test = np.asarray(outputs_test).astype('float32')\n",
    "    #choose embedding length that is equal to the amount of dimensions\n",
    "    #embedding_vecor_length = 13\n",
    "    model = Sequential()\n",
    "    model.add(Bidirectional(LSTM(units = 100, return_sequences = True, input_shape = inputs_train[0])))\n",
    "    model.add(BatchNormalization())\n",
    "    model.add(Dropout(0.3))\n",
    "    model.add(Bidirectional(LSTM(units = 100)))\n",
    "    model.add(BatchNormalization())\n",
    "    #model.add(Dropout(0.2))\n",
    "    model.add(Dense(10, activation='softmax'))\n",
    "    model.compile(loss='sparse_categorical_crossentropy', optimizer='Adamax', metrics=['accuracy'])\n",
    "    #print(model.summary())\n",
    "    #[print(i.shape, i.dtype) for i in model.inputs]\n",
    "    #[print(o.shape, o.dtype) for o in model.outputs]\n",
    "    #[print(l.name, l.input_shape, l.dtype) for l in model.layers]\n",
    "    \n",
    "    model.fit(inputs_train, outputs_train, epochs=25, batch_size=4, verbose = 0)\n",
    "    \n",
    "    scores = model.evaluate(inputs_test, outputs_test, verbose=0)\n",
    "\n",
    "    return scores[1]*100\n",
    "\n",
    "\n",
    "iterations = 1\n",
    "\n",
    "sampleNum = 26\n",
    "for data in train3D:\n",
    "    accuracy_train = np.zeros(no_iterations)\n",
    "    for i in range(iterations):\n",
    "        accuracy_train = predictLabelsLSTM(data, trainOutputsNew)\n",
    "    print(\"Accuracy for {} size arrays: {}\".format(sampleNum, np.mean(accuracy_train)))\n",
    "    sampleNum = sampleNum - 1"
   ]
  },
  {
   "cell_type": "code",
   "execution_count": 28,
   "metadata": {},
   "outputs": [],
   "source": [
    "def predictLabelsLSTM_test(inputs_train, inputs_test, outputs_train, outputs_test, recLen, channels):\n",
    "    \n",
    "    inputs_train = np.asarray(inputs_train).astype('float32')\n",
    "    inputs_test = np.asarray(inputs_test).astype('float32')\n",
    "    outputs_train = np.asarray(outputs_train).astype('float32')\n",
    "    outputs_test = np.asarray(outputs_test).astype('float32')\n",
    "    #choose embedding length that is equal to the amount of dimensions\n",
    "    #embedding_vecor_length = 13\n",
    "    model = Sequential()\n",
    "    model.add(Bidirectional(LSTM(units = 100, return_sequences = True, input_shape = inputs_train[0])))\n",
    "    model.add(BatchNormalization())\n",
    "    model.add(Dropout(0.3))\n",
    "    model.add(Bidirectional(LSTM(units = 100)))\n",
    "    model.add(BatchNormalization())\n",
    "    #model.add(Dropout(0.2))\n",
    "    model.add(Dense(10, activation='softmax'))\n",
    "    model.compile(loss='sparse_categorical_crossentropy', optimizer='Adamax', metrics=['accuracy'])\n",
    "    #print(model.summary())\n",
    "    #[print(i.shape, i.dtype) for i in model.inputs]\n",
    "    #[print(o.shape, o.dtype) for o in model.outputs]\n",
    "    #[print(l.name, l.input_shape, l.dtype) for l in model.layers]\n",
    "    \n",
    "    model.fit(inputs_train, outputs_train, epochs=25, batch_size=4)\n",
    "    \n",
    "    scores = model.evaluate(inputs_test, outputs_test, verbose=0)\n",
    "\n",
    "    return scores[1]*100"
   ]
  },
  {
   "cell_type": "code",
   "execution_count": 29,
   "metadata": {},
   "outputs": [],
   "source": [
    "no_iter = 10\n",
    "test_accuracy = np.zeros(no_iter)\n",
    "\n",
    "for j in range(no_iter):\n",
    "    pass\n",
    "    #test_accuracy[j] = predictLabelsLSTM_test()\n",
    "#print(\"Test Accuracy:\", np.mean(test_accuracy))"
   ]
  },
  {
   "cell_type": "markdown",
   "metadata": {},
   "source": [
    "## ECHO classifier implementation"
   ]
  },
  {
   "cell_type": "code",
   "execution_count": null,
   "metadata": {},
   "outputs": [],
   "source": [
    "## Still need to check if 2D data array from before works with ECHO"
   ]
  },
  {
   "cell_type": "code",
   "execution_count": 20,
   "metadata": {},
   "outputs": [],
   "source": [
    "# train data\n",
    "trainInputs_array = []\n",
    "trainOutputs_array = []\n",
    "\n",
    "for i in range(270):\n",
    "    ndim = np.shape(trainInputs[i][0])[0]\n",
    "    for j in range(ndim):\n",
    "        trainInputs_array.append(trainInputs[i][0][j])\n",
    "        trainOutputs_array.append(trainOutputs[i][0][j])\n",
    "\n",
    "# test data        \n",
    "testInputs_array = []\n",
    "testOutputs_array = []\n",
    "\n",
    "for i in range(370):\n",
    "    ndim = np.shape(testInputs[i][0])[0]\n",
    "    for j in range(ndim):\n",
    "        testInputs_array.append(testInputs[i][0][j])\n",
    "        testOutputs_array.append(testOutputs[i][0][j])\n",
    "    \n",
    "    \n",
    "# data arrays used for ESN; all the timesteps with its 12 channels (dim) in each recording put into a list\n",
    "trainInputs_array = np.asarray(trainInputs_array)     \n",
    "trainOutputs_array = np.asarray(trainOutputs_array)\n",
    "\n",
    "testInputs_array = np.asarray(testInputs_array)\n",
    "testOutputs_array = np.asarray(testOutputs_array)"
   ]
  },
  {
   "cell_type": "code",
   "execution_count": 29,
   "metadata": {},
   "outputs": [
    {
     "name": "stdout",
     "output_type": "stream",
     "text": [
      "(3419, 13)\n",
      "(3419, 9)\n",
      "(855, 13)\n",
      "Mean test error:  0.049603166081340765\n",
      "Mean training error: 0.20662517019632434\n"
     ]
    }
   ],
   "source": [
    "from sklearn.model_selection import GridSearchCV\n",
    "from sklearn.model_selection import cross_val_score\n",
    "from sklearn.model_selection import RepeatedStratifiedKFold\n",
    "from pyESN import ESN\n",
    "\n",
    "esn = ESN(n_inputs = 13,\n",
    "          n_outputs = 9,\n",
    "          n_reservoir = 300,\n",
    "          spectral_radius = 1.5,\n",
    "          random_state=42)\n",
    "\n",
    "# cross validation\n",
    "inputs_train, inputs_test, outputs_train, outputs_test = splitData(trainInputs_array, trainOutputs_array)\n",
    "\n",
    "print(inputs_train.shape)\n",
    "print(outputs_train.shape)\n",
    "print(inputs_test.shape)\n",
    "\n",
    "train_pred, mean_error_train = esn.fit(inputs_train, outputs_train, inspect=True)\n",
    "test_pred = esn.predict(inputs_test)\n",
    "\n",
    "print(\"Mean test error: \", np.mean((test_pred - outputs_test)**2))\n",
    "print(\"Mean training error:\", mean_error_train)"
   ]
  },
  {
   "cell_type": "markdown",
   "metadata": {},
   "source": [
    "### Parameter optimization + cross validation"
   ]
  },
  {
   "cell_type": "code",
   "execution_count": 24,
   "metadata": {},
   "outputs": [
    {
     "ename": "TypeError",
     "evalue": "If no scoring is specified, the estimator passed should have a 'score' method. The estimator <pyESN.ESN object at 0x0000018E35214550> does not.",
     "output_type": "error",
     "traceback": [
      "\u001b[1;31m---------------------------------------------------------------------------\u001b[0m",
      "\u001b[1;31mTypeError\u001b[0m                                 Traceback (most recent call last)",
      "\u001b[1;32m<ipython-input-24-49d58874a11d>\u001b[0m in \u001b[0;36m<module>\u001b[1;34m()\u001b[0m\n\u001b[0;32m     10\u001b[0m \u001b[0mclf\u001b[0m \u001b[1;33m=\u001b[0m \u001b[0mGridSearchCV\u001b[0m\u001b[1;33m(\u001b[0m\u001b[0mesn\u001b[0m\u001b[1;33m,\u001b[0m \u001b[0mparam_grid\u001b[0m\u001b[1;33m)\u001b[0m\u001b[1;33m\u001b[0m\u001b[0m\n\u001b[0;32m     11\u001b[0m \u001b[1;33m\u001b[0m\u001b[0m\n\u001b[1;32m---> 12\u001b[1;33m \u001b[0mm_scores\u001b[0m \u001b[1;33m=\u001b[0m \u001b[0mcross_val_score\u001b[0m\u001b[1;33m(\u001b[0m\u001b[0mesn\u001b[0m\u001b[1;33m,\u001b[0m \u001b[0mtrainInputs\u001b[0m\u001b[1;33m,\u001b[0m \u001b[0mtrainOutputs\u001b[0m\u001b[1;33m,\u001b[0m \u001b[0mcv\u001b[0m\u001b[1;33m=\u001b[0m\u001b[0mcv\u001b[0m\u001b[1;33m)\u001b[0m\u001b[1;33m\u001b[0m\u001b[0m\n\u001b[0m",
      "\u001b[1;32m~\\Anaconda3\\lib\\site-packages\\sklearn\\utils\\validation.py\u001b[0m in \u001b[0;36minner_f\u001b[1;34m(*args, **kwargs)\u001b[0m\n\u001b[0;32m     70\u001b[0m                           FutureWarning)\n\u001b[0;32m     71\u001b[0m         \u001b[0mkwargs\u001b[0m\u001b[1;33m.\u001b[0m\u001b[0mupdate\u001b[0m\u001b[1;33m(\u001b[0m\u001b[1;33m{\u001b[0m\u001b[0mk\u001b[0m\u001b[1;33m:\u001b[0m \u001b[0marg\u001b[0m \u001b[1;32mfor\u001b[0m \u001b[0mk\u001b[0m\u001b[1;33m,\u001b[0m \u001b[0marg\u001b[0m \u001b[1;32min\u001b[0m \u001b[0mzip\u001b[0m\u001b[1;33m(\u001b[0m\u001b[0msig\u001b[0m\u001b[1;33m.\u001b[0m\u001b[0mparameters\u001b[0m\u001b[1;33m,\u001b[0m \u001b[0margs\u001b[0m\u001b[1;33m)\u001b[0m\u001b[1;33m}\u001b[0m\u001b[1;33m)\u001b[0m\u001b[1;33m\u001b[0m\u001b[0m\n\u001b[1;32m---> 72\u001b[1;33m         \u001b[1;32mreturn\u001b[0m \u001b[0mf\u001b[0m\u001b[1;33m(\u001b[0m\u001b[1;33m**\u001b[0m\u001b[0mkwargs\u001b[0m\u001b[1;33m)\u001b[0m\u001b[1;33m\u001b[0m\u001b[0m\n\u001b[0m\u001b[0;32m     73\u001b[0m     \u001b[1;32mreturn\u001b[0m \u001b[0minner_f\u001b[0m\u001b[1;33m\u001b[0m\u001b[0m\n\u001b[0;32m     74\u001b[0m \u001b[1;33m\u001b[0m\u001b[0m\n",
      "\u001b[1;32m~\\Anaconda3\\lib\\site-packages\\sklearn\\model_selection\\_validation.py\u001b[0m in \u001b[0;36mcross_val_score\u001b[1;34m(estimator, X, y, groups, scoring, cv, n_jobs, verbose, fit_params, pre_dispatch, error_score)\u001b[0m\n\u001b[0;32m    397\u001b[0m     \"\"\"\n\u001b[0;32m    398\u001b[0m     \u001b[1;31m# To ensure multimetric format is not supported\u001b[0m\u001b[1;33m\u001b[0m\u001b[1;33m\u001b[0m\u001b[0m\n\u001b[1;32m--> 399\u001b[1;33m     \u001b[0mscorer\u001b[0m \u001b[1;33m=\u001b[0m \u001b[0mcheck_scoring\u001b[0m\u001b[1;33m(\u001b[0m\u001b[0mestimator\u001b[0m\u001b[1;33m,\u001b[0m \u001b[0mscoring\u001b[0m\u001b[1;33m=\u001b[0m\u001b[0mscoring\u001b[0m\u001b[1;33m)\u001b[0m\u001b[1;33m\u001b[0m\u001b[0m\n\u001b[0m\u001b[0;32m    400\u001b[0m \u001b[1;33m\u001b[0m\u001b[0m\n\u001b[0;32m    401\u001b[0m     cv_results = cross_validate(estimator=estimator, X=X, y=y, groups=groups,\n",
      "\u001b[1;32m~\\Anaconda3\\lib\\site-packages\\sklearn\\utils\\validation.py\u001b[0m in \u001b[0;36minner_f\u001b[1;34m(*args, **kwargs)\u001b[0m\n\u001b[0;32m     70\u001b[0m                           FutureWarning)\n\u001b[0;32m     71\u001b[0m         \u001b[0mkwargs\u001b[0m\u001b[1;33m.\u001b[0m\u001b[0mupdate\u001b[0m\u001b[1;33m(\u001b[0m\u001b[1;33m{\u001b[0m\u001b[0mk\u001b[0m\u001b[1;33m:\u001b[0m \u001b[0marg\u001b[0m \u001b[1;32mfor\u001b[0m \u001b[0mk\u001b[0m\u001b[1;33m,\u001b[0m \u001b[0marg\u001b[0m \u001b[1;32min\u001b[0m \u001b[0mzip\u001b[0m\u001b[1;33m(\u001b[0m\u001b[0msig\u001b[0m\u001b[1;33m.\u001b[0m\u001b[0mparameters\u001b[0m\u001b[1;33m,\u001b[0m \u001b[0margs\u001b[0m\u001b[1;33m)\u001b[0m\u001b[1;33m}\u001b[0m\u001b[1;33m)\u001b[0m\u001b[1;33m\u001b[0m\u001b[0m\n\u001b[1;32m---> 72\u001b[1;33m         \u001b[1;32mreturn\u001b[0m \u001b[0mf\u001b[0m\u001b[1;33m(\u001b[0m\u001b[1;33m**\u001b[0m\u001b[0mkwargs\u001b[0m\u001b[1;33m)\u001b[0m\u001b[1;33m\u001b[0m\u001b[0m\n\u001b[0m\u001b[0;32m     73\u001b[0m     \u001b[1;32mreturn\u001b[0m \u001b[0minner_f\u001b[0m\u001b[1;33m\u001b[0m\u001b[0m\n\u001b[0;32m     74\u001b[0m \u001b[1;33m\u001b[0m\u001b[0m\n",
      "\u001b[1;32m~\\Anaconda3\\lib\\site-packages\\sklearn\\metrics\\_scorer.py\u001b[0m in \u001b[0;36mcheck_scoring\u001b[1;34m(estimator, scoring, allow_none)\u001b[0m\n\u001b[0;32m    426\u001b[0m                 \u001b[1;34m\"If no scoring is specified, the estimator passed should \"\u001b[0m\u001b[1;33m\u001b[0m\u001b[0m\n\u001b[0;32m    427\u001b[0m                 \u001b[1;34m\"have a 'score' method. The estimator %r does not.\"\u001b[0m\u001b[1;33m\u001b[0m\u001b[0m\n\u001b[1;32m--> 428\u001b[1;33m                 % estimator)\n\u001b[0m\u001b[0;32m    429\u001b[0m     \u001b[1;32melif\u001b[0m \u001b[0misinstance\u001b[0m\u001b[1;33m(\u001b[0m\u001b[0mscoring\u001b[0m\u001b[1;33m,\u001b[0m \u001b[0mIterable\u001b[0m\u001b[1;33m)\u001b[0m\u001b[1;33m:\u001b[0m\u001b[1;33m\u001b[0m\u001b[0m\n\u001b[0;32m    430\u001b[0m         raise ValueError(\"For evaluating multiple scores, use \"\n",
      "\u001b[1;31mTypeError\u001b[0m: If no scoring is specified, the estimator passed should have a 'score' method. The estimator <pyESN.ESN object at 0x0000018E35214550> does not."
     ]
    }
   ],
   "source": [
    "esn = ESN(n_inputs = 12,\n",
    "          n_outputs = 9,\n",
    "          random_state=42)\n",
    "\n",
    "# parameter optimization\n",
    "\n",
    "cv = RepeatedStratifiedKFold(n_splits=269, n_repeats=2, random_state=42)\n",
    "param_grid = {\"n_reservoir\": [200, 400, 600, 800, 1000]}\n",
    "\n",
    "clf = GridSearchCV(esn, param_grid)\n",
    "\n",
    "m_scores = cross_val_score(esn, trainInputs, trainOutputs, cv=cv)"
   ]
  },
  {
   "cell_type": "code",
   "execution_count": null,
   "metadata": {
    "collapsed": true
   },
   "outputs": [],
   "source": []
  }
 ],
 "metadata": {
  "kernelspec": {
   "display_name": "Python 3",
   "language": "python",
   "name": "python3"
  },
  "language_info": {
   "codemirror_mode": {
    "name": "ipython",
    "version": 3
   },
   "file_extension": ".py",
   "mimetype": "text/x-python",
   "name": "python",
   "nbconvert_exporter": "python",
   "pygments_lexer": "ipython3",
   "version": "3.7.6-final"
  }
 },
 "nbformat": 4,
 "nbformat_minor": 2
}