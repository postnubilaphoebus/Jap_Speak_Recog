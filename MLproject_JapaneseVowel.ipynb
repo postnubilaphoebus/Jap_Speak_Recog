{
 "cells": [
  {
   "cell_type": "markdown",
   "metadata": {},
   "source": [
    "## Machine Learning Project: Japanese Vowel speaker classification"
   ]
  },
  {
   "cell_type": "markdown",
   "metadata": {},
   "source": [
    "### Importing data into time series arrays "
   ]
  },
  {
   "cell_type": "code",
   "execution_count": 1,
   "metadata": {},
   "outputs": [],
   "source": [
    "import numpy as np\n",
    "import pandas as pd\n",
    "import copy"
   ]
  },
  {
   "cell_type": "code",
   "execution_count": 2,
   "metadata": {},
   "outputs": [],
   "source": [
    "# importing data sets\n",
    "trainData = np.loadtxt(\"ae.train\")\n",
    "testData = np.loadtxt(\"ae.test\")"
   ]
  },
  {
   "cell_type": "markdown",
   "metadata": {},
   "source": [
    "#### Overview: \n",
    "* Training: 270 (30 utterances by 9 speakers. See file 'size_ae.train'.) \n",
    "* Testing: 370 (24-88 utterances by the same 9 speakers in different opportunities. See file 'size_ae.test'.) "
   ]
  },
  {
   "cell_type": "markdown",
   "metadata": {},
   "source": [
    "### Input Formatting"
   ]
  },
  {
   "cell_type": "code",
   "execution_count": 3,
   "metadata": {},
   "outputs": [],
   "source": [
    "# obtaining 270 training time series arrays\n",
    "# arrays are (N x 12); where N is length of time series recording and 12 is number of dimensions (ie channels)\n",
    "trainInputs = np.empty((270,1), dtype=object)\n",
    "readindex = 0\n",
    "\n",
    "for i in range(1,271):\n",
    "    readindex = readindex + 1  \n",
    "    l = 0\n",
    "    while trainData[readindex-1, 1] != 1:\n",
    "        l = l + 1 \n",
    "        readindex = readindex + 1\n",
    "    trainInputs[i-1,0] = trainData[readindex-l-1:readindex-1,:]\n",
    "\n",
    "\n",
    "# obtaining 370 test time series arrays \n",
    "# arrays are (N x 12); where N is length of time series recording and 12 is number of dimensions (ie channels)\n",
    "testInputs = np.empty((370,1), dtype=object)\n",
    "readindex = 0\n",
    "\n",
    "# The last 12 entries of each recording are 1s, indicating 12 channels\n",
    "# They are droppped when reading in the data\n",
    "for i in range(1,371):\n",
    "    readindex = readindex + 1\n",
    "    l = 0 \n",
    "    while testData[readindex-1, 1] != 1:\n",
    "        l = l+1 \n",
    "        readindex = readindex + 1\n",
    "    testInputs[i-1,0] = testData[readindex-l-1:readindex-1,:] "
   ]
  },
  {
   "cell_type": "code",
   "execution_count": 4,
   "metadata": {},
   "outputs": [],
   "source": [
    "# obtaining 270 training outputs (speaker targets)\n",
    "# arrays are (N x 9); where N is length of time series recording and 9 is number of different speakers\n",
    "# the speaker is indicated with a '1'\n",
    "trainOutputs = np.empty((270,1), dtype=object)\n",
    "\n",
    "for i in range(1,271):\n",
    "    l = np.size(trainInputs[i-1,0],0)\n",
    "    teacher = np.zeros((l,9))\n",
    "    speakerIndex = np.ceil(i/30)\n",
    "    teacher[:,np.int(speakerIndex)-1] = 1 \n",
    "    trainOutputs[i-1,0] = teacher\n",
    "\n",
    "# obtaining 370 test outputs (speaker targets)\n",
    "# arrays are (N x 9); where N is length of time series recording and 9 is number of different speakers\n",
    "# the speaker is indicated with a '1'\n",
    "testOutputs = np.empty((370,1), dtype=object)\n",
    "speakerIndex = 1\n",
    "blockCounter = 0\n",
    "blockLengthes = [31, 35, 88, 44, 29, 24, 40, 50, 29]\n",
    "for i in range(1, 371):\n",
    "    blockCounter = blockCounter + 1 \n",
    "    if blockCounter == blockLengthes[speakerIndex-1] + 1:\n",
    "        speakerIndex = speakerIndex + 1\n",
    "        blockCounter = 1\n",
    "    l = np.size(testInputs[i-1,0], 0)\n",
    "    teacher = np.zeros((l,9))\n",
    "    teacher[:,np.int(speakerIndex)-1] = 1   \n",
    "    testOutputs[i-1, 0] = teacher"
   ]
  },
  {
   "cell_type": "markdown",
   "metadata": {},
   "source": [
    "### Transforms the trainOutputs & testOutputs in classes 1-9"
   ]
  },
  {
   "cell_type": "code",
   "execution_count": 5,
   "metadata": {},
   "outputs": [],
   "source": [
    "# Transforms the trainOutputs in classes 1-9\n",
    "trainOutputsNew = np.empty((270,1), dtype=object)\n",
    "idxx = 0\n",
    "for elements in trainOutputs:\n",
    "    for i in range(len(elements[0][0])):\n",
    "       if elements[0][0][i] == 1:\n",
    "           trainOutputsNew[idxx] = i + 1\n",
    "           idxx = idxx + 1\n",
    "        \n",
    "trainOutputsNew = np.ravel(trainOutputsNew)\n",
    "trainOutputsNew = trainOutputsNew.astype('int')\n",
    "\n",
    "# Transform the testOutputs in classes 1 - 9\n",
    "testOutputsNew = np.empty((370,1), dtype=object)\n",
    "idxx = 0\n",
    "for elements in testOutputs:\n",
    "    for i in range(len(elements[0][0])):\n",
    "       if elements[0][0][i] == 1:\n",
    "           testOutputsNew[idxx] = i + 1\n",
    "           idxx = idxx + 1\n",
    "        \n",
    "testOutputsNew = np.ravel(testOutputsNew)\n",
    "testOutputsNew = testOutputsNew.astype('int')"
   ]
  },
  {
   "cell_type": "code",
   "execution_count": 6,
   "metadata": {
    "tags": []
   },
   "outputs": [
    {
     "data": {
      "image/png": "[encoded data removed]",
      "text/plain": [
       "<Figure size 432x288 with 1 Axes>"
      ]
     },
     "metadata": {
      "needs_background": "light"
     },
     "output_type": "display_data"
    }
   ],
   "source": [
    "# Prints histogram of timeseries length (exploratory analysis)\n",
    "import matplotlib.pyplot as plt\n",
    "\n",
    "histos = np.zeros(270)\n",
    "\n",
    "for i in range(270):\n",
    "    histos[i] = (len(trainInputs[i, 0]))\n",
    "\n",
    "#print(histos)\n",
    "plt.title('Counting timeseries length (total 270)')\n",
    "plt.xlabel('Timeseries length')\n",
    "plt.ylabel('Frequency')\n",
    "plt.hist(histos, bins = 20, ec='black')\n",
    "plt.show()"
   ]
  },
  {
   "cell_type": "markdown",
   "metadata": {},
   "source": [
    "### Add length of each recording as a feature"
   ]
  },
  {
   "cell_type": "code",
   "execution_count": 7,
   "metadata": {},
   "outputs": [],
   "source": [
    "# Add length of each recording for TRAINING data \n",
    "# ----------------------------------------------\n",
    "\n",
    "testLen = np.zeros(370)\n",
    "\n",
    "for i in range(270):\n",
    "    testLen[i] = len(trainInputs[i, 0]) / 26\n",
    "#print(RecordingLength)\n",
    "\n",
    "for i in range(270):\n",
    "    lenArray = len(trainInputs[i][0])\n",
    "    rec = np.full(lenArray, testLen[i])\n",
    "    newArray = np.column_stack((trainInputs[i][0][:], rec))\n",
    "    trainInputs[i][0] = newArray\n",
    "\n",
    "# Add length of each recording for TESTING data \n",
    "# ----------------------------------------------\n",
    "\n",
    "trainLen = np.zeros(370)\n",
    "# Maximum Length is 29\n",
    "for i in range(370):\n",
    "    trainLen[i] = len(testInputs[i, 0]) / 29\n",
    "\n",
    "for i in range(370):\n",
    "    lenArray = len(testInputs[i][0])\n",
    "    rec = np.full(lenArray, trainLen[i])\n",
    "    newArray = np.column_stack((testInputs[i][0][:], rec))\n",
    "    testInputs[i][0] = newArray"
   ]
  },
  {
   "cell_type": "markdown",
   "metadata": {},
   "source": [
    "## Data Preprocessing: Polynomial approximation (training and testing)¶"
   ]
  },
  {
   "cell_type": "markdown",
   "metadata": {},
   "source": [
    "### 1) Flattening & Reshaping the Test Data and Training Data. Both are padded using PREpadding. Padding is dropped in the polynomial approximation phase"
   ]
  },
  {
   "cell_type": "code",
   "execution_count": 8,
   "metadata": {},
   "outputs": [],
   "source": [
    "#------ For TRAINING data ------------------------------\n",
    "\n",
    "size_train = 13 * 26\n",
    "PrePaddingTrain = np.empty((270,size_train), dtype=object)\n",
    "PostPaddingTrain = np.empty((270,size_train), dtype=object)\n",
    "\n",
    "idx = 0 \n",
    "for element in trainInputs:\n",
    "    # Flatten\n",
    "    element = np.ndarray.flatten(element[0])\n",
    "    # Pad zeros before  \n",
    "    elements = element\n",
    "    elements = np.pad(elements, (size_train - len(elements), 0), 'constant')\n",
    "    PrePaddingTrain[idx] = elements\n",
    "\n",
    "    # Pad zeros after\n",
    "    shape = np.shape(element)\n",
    "    padded_array = np.zeros(size_train)\n",
    "    padded_array[:shape[0]] = element  \n",
    "    element = padded_array\n",
    "    PostPaddingTrain[idx] = element\n",
    "    idx = idx + 1\n",
    "\n",
    "# Reshape ---------------------------------------------\n",
    "PrePaddingTrain = PrePaddingTrain.reshape(270, 26, 13)\n",
    "PostPaddingTrain = PostPaddingTrain.reshape(270, 26, 13)\n",
    "\n",
    "#------ For TESTING data ------------------------------\n",
    "\n",
    "size_test = 13 * 29\n",
    "PrePaddingTest = np.empty((370,size_test), dtype=object)\n",
    "PostPaddingTest = np.empty((370,size_test), dtype=object)\n",
    "\n",
    "idx = 0 \n",
    "for element in testInputs:\n",
    "    # Flatten\n",
    "    element = np.ndarray.flatten(element[0])\n",
    "    # Pad zeros before\n",
    "    # ----------------\n",
    "    elements = element\n",
    "    elements = np.pad(elements, (size_test - len(elements), 0), 'constant')\n",
    "    PrePaddingTest[idx] = elements\n",
    "\n",
    "    # Pad zeros after\n",
    "    # --------------\n",
    "    shape = np.shape(element)\n",
    "    padded_array = np.zeros(size_test)\n",
    "    padded_array[:shape[0]] = element  \n",
    "    element = padded_array\n",
    "    PostPaddingTest[idx] = element\n",
    "    idx = idx + 1\n",
    "\n",
    "# Reshape -------------------------------------------\n",
    "PrePaddingTest = PrePaddingTest.reshape(370, 29, 13)\n",
    "PostPaddingTest = PostPaddingTest.reshape(370, 29, 13)"
   ]
  },
  {
   "cell_type": "markdown",
   "metadata": {},
   "source": [
    "### 2) Polynomial approximation (Resampling from the data using a polynomial approximation). Zeros are replaced with polynomial approximations."
   ]
  },
  {
   "cell_type": "code",
   "execution_count": 9,
   "metadata": {},
   "outputs": [],
   "source": [
    "from scipy.interpolate import interp1d\n",
    "from scipy import interpolate\n",
    "\n",
    "# Function: polyApprox \n",
    "# ------------------------------------------------------------------\n",
    "# This function performs cubic polynomial approximation on a 3D input \n",
    "# that has an unequal amount of values per sample\n",
    "# ------------------------------------------------------------------\n",
    "# Parameters:\n",
    "# ---------\n",
    "# inputData: A 3D input array with uniform length across each sample\n",
    "# The last channel stores the length of a recording\n",
    "# ---------\n",
    "# sampleLen: Number of samples (eg 270)\n",
    "# ---------\n",
    "# recordingLen: The length of each recording. The input data is formatted s.t. each \n",
    "# sample has the maximum channel length and smaller recordings are padded with zeros (prepadding)\n",
    "# ---------\n",
    "# channelNum: The number of channels (eg 13)\n",
    "# ---------\n",
    "# finalLength: the length the input should be adjusted to. When this is smaller than recordingLength\n",
    "# we have under- and oversampling.\n",
    "# ---------\n",
    "\n",
    "def interpol(xValues, yValues, x):\n",
    "    cs = interpolate.splrep(xValues, yValues, k = 3)\n",
    "    return interpolate.splev(x, cs)\n",
    "\n",
    "def polyApprox(inputData, sampleLen, recordingLen, channelNum, finalLength):\n",
    "    PolyAugmentArray = np.zeros((sampleLen, finalLength, channelNum))\n",
    "\n",
    "    for i in range(sampleLen):\n",
    "        for j in range(channelNum):\n",
    "            if j == channelNum - 1:\n",
    "                for m in range(finalLength):\n",
    "                    PolyAugmentArray[i][m][channelNum - 1] = inputData[i][0][channelNum - 1]\n",
    "            else:\n",
    "                recordingLength = round(inputData[i][0][channelNum - 1] * recordingLen)\n",
    "                paddingLength = recordingLen - recordingLength\n",
    "                yValues = np.zeros(recordingLength)\n",
    "                xValues = np.zeros(recordingLength)\n",
    "                zValues = np.zeros(finalLength)\n",
    "\n",
    "                for k in range(recordingLength):\n",
    "                    xValues[k] = k + 1\n",
    "                    yValues[k] = inputData[i][k][j]\n",
    "                for l in range(finalLength):\n",
    "                    zValues[l] = 1 + l * ((recordingLength - 1)/(finalLength - 1))\n",
    "                #print(recordingLength)\n",
    "                #print(xValues)\n",
    "                #print(\"yValues: \")\n",
    "                #print(yValues)\n",
    "                #print(zValues)\n",
    "                predictedValues = interpol(xValues, yValues, zValues)\n",
    "                #print(\"predictValues: \")\n",
    "                #print(predictedValues)\n",
    "                for m in range(finalLength):\n",
    "                    PolyAugmentArray[i][m][j] = predictedValues[m]\n",
    "    return PolyAugmentArray"
   ]
  },
  {
   "cell_type": "code",
   "execution_count": 10,
   "metadata": {},
   "outputs": [],
   "source": [
    "# Datasets resampled to different lengths (from 10 up to 26)\n",
    "# Len = 26:\n",
    "train_Resampled_26 = polyApprox(PostPaddingTrain, 270, 26, 13, 26)\n",
    "test_Resampled_26 = polyApprox(PostPaddingTest, 370, 29, 13, 26)\n",
    "# Len = 25:\n",
    "train_Resampled_25 = polyApprox(PostPaddingTrain, 270, 26, 13, 25)\n",
    "test_Resampled_25 = polyApprox(PostPaddingTest, 370, 29, 13, 25)\n",
    "# Len = 24:\n",
    "train_Resampled_24 = polyApprox(PostPaddingTrain, 270, 26, 13, 24)\n",
    "test_Resampled_24 = polyApprox(PostPaddingTest, 370, 29, 13, 24)\n",
    "# Len = 23:\n",
    "train_Resampled_23 = polyApprox(PostPaddingTrain, 270, 26, 13, 23)\n",
    "test_Resampled_23 = polyApprox(PostPaddingTest, 370, 29, 13, 23)\n",
    "# Len = 22:\n",
    "train_Resampled_22 = polyApprox(PostPaddingTrain, 270, 26, 13, 22)\n",
    "test_Resampled_22 = polyApprox(PostPaddingTest, 370, 29, 13, 22)\n",
    "# Len = 21:\n",
    "train_Resampled_21 = polyApprox(PostPaddingTrain, 270, 26, 13, 21)\n",
    "test_Resampled_21 = polyApprox(PostPaddingTest, 370, 29, 13, 21)\n",
    "# Len = 20:\n",
    "train_Resampled_20 = polyApprox(PostPaddingTrain, 270, 26, 13, 20)\n",
    "test_Resampled_20 = polyApprox(PostPaddingTest, 370, 29, 13, 20)\n",
    "# Len = 19:\n",
    "train_Resampled_19 = polyApprox(PostPaddingTrain, 270, 26, 13, 19)\n",
    "test_Resampled_19 = polyApprox(PostPaddingTest, 370, 29, 13, 19)\n",
    "# Len = 18:\n",
    "train_Resampled_18 = polyApprox(PostPaddingTrain, 270, 26, 13, 18)\n",
    "test_Resampled_18 = polyApprox(PostPaddingTest, 370, 29, 13, 18)\n",
    "# Len = 17:\n",
    "train_Resampled_17 = polyApprox(PostPaddingTrain, 270, 26, 13, 17)\n",
    "test_Resampled_17 = polyApprox(PostPaddingTest, 370, 29, 13, 17)\n",
    "# Len = 16:\n",
    "train_Resampled_16 = polyApprox(PostPaddingTrain, 270, 26, 13, 16)\n",
    "test_Resampled_16 = polyApprox(PostPaddingTest, 370, 29, 13, 16)\n",
    "# Len = 15:\n",
    "train_Resampled_15 = polyApprox(PostPaddingTrain, 270, 26, 13, 15)\n",
    "test_Resampled_15 = polyApprox(PostPaddingTest, 370, 29, 13, 15)\n",
    "# Len = 14: \n",
    "train_Resampled_14 = polyApprox(PostPaddingTrain, 270, 26, 13, 14)\n",
    "test_Resampled_14 = polyApprox(PostPaddingTest, 370, 29, 13, 14)\n",
    "# Len = 13: \n",
    "train_Resampled_13 = polyApprox(PostPaddingTrain, 270, 26, 13, 13)\n",
    "test_Resampled_13 = polyApprox(PostPaddingTest, 370, 29, 13, 13)\n",
    "# Len = 12:\n",
    "train_Resampled_12 = polyApprox(PostPaddingTrain, 270, 26, 13, 12)\n",
    "test_Resampled_12 = polyApprox(PostPaddingTest, 370, 29, 13, 12)\n",
    "# Len = 11:\n",
    "train_Resampled_11 = polyApprox(PostPaddingTrain, 270, 26, 13, 11)\n",
    "test_Resampled_11 = polyApprox(PostPaddingTest, 370, 29, 13, 11)\n",
    "# Len = 10:\n",
    "train_Resampled_10 = polyApprox(PostPaddingTrain, 270, 26, 13, 10)\n",
    "test_Resampled_10 = polyApprox(PostPaddingTest, 370, 29, 13, 10)"
   ]
  },
  {
   "cell_type": "markdown",
   "metadata": {},
   "source": [
    "## 3) Normalisation (of training and testing (resampled)) between 0 and 1"
   ]
  },
  {
   "cell_type": "markdown",
   "metadata": {},
   "source": [
    "### A function for normalising data that are not padded."
   ]
  },
  {
   "cell_type": "code",
   "execution_count": 11,
   "metadata": {},
   "outputs": [],
   "source": [
    "def normal(inputData, sampleLen, recordingLen, channelNum):\n",
    "\n",
    "    # Find Minimum value and Maximum value of each channel for each sample\n",
    "    minResample = np.zeros(channelNum - 1)\n",
    "    maxResample = np.zeros(channelNum - 1)\n",
    "\n",
    "    inp = inputData\n",
    "\n",
    "    for i in range(sampleLen):\n",
    "        for j in range(channelNum - 1):\n",
    "            for k in range(recordingLen):\n",
    "                if inp[i][k][j] < minResample[j]:\n",
    "                    minResample[j] = inputData[i][k][j]\n",
    "                if inp[i][k][j] > maxResample[j]:\n",
    "                    maxResample[j] = inputData[i][k][j]\n",
    "\n",
    "    # Subtract minimum channel value from the respective sample values \n",
    "    # AND divide by maximum value\n",
    "\n",
    "    for i in range(sampleLen):\n",
    "        for j in range(channelNum - 1):\n",
    "            for k in range(recordingLen):\n",
    "                inp[i][k][j] = (inp[i][k][j] - minResample[j]) / (maxResample[j] - minResample[j])\n",
    "                \n",
    "    return inp"
   ]
  },
  {
   "cell_type": "markdown",
   "metadata": {},
   "source": [
    "### A function for normalising PADDED arrays"
   ]
  },
  {
   "cell_type": "code",
   "execution_count": 12,
   "metadata": {},
   "outputs": [],
   "source": [
    "def normalise_padded_arrays(inputData, sampleLen, recordingLen, channelNum, paddingType):\n",
    "\n",
    "    # paddingType 0: prepadding\n",
    "    # paddingType 1: postpadding\n",
    "\n",
    "    # prepadding: start after padding length\n",
    "    # postpadding: stop before recordingLen - paddingLen\n",
    "\n",
    "    # Find Minimum value and Maximum value of each channel for each sample\n",
    "    minResample = np.zeros(channelNum - 1)\n",
    "    maxResample = np.zeros(channelNum - 1)\n",
    "\n",
    "    inp = inputData\n",
    "    unpaddedLen = 0\n",
    "    paddingLen = 0\n",
    "\n",
    "    for i in range(sampleLen):\n",
    "        if paddingType == 0:\n",
    "            unpaddedLen = round(inputData[i][25][channelNum - 1] * recordingLen)\n",
    "            paddingLen = recordingLen - unpaddedLen\n",
    "\n",
    "        if paddingType == 1:\n",
    "            unpaddedLen = round(inputData[i][0][channelNum - 1] * recordingLen)\n",
    "            paddingLen = 0\n",
    "\n",
    "        if paddingType > 1:\n",
    "            print(\"Input Error: paddingType must be either 0 or 1\")\n",
    "\n",
    "        for j in range(channelNum - 1):\n",
    "            for k in range(unpaddedLen):\n",
    "                if inp[i][k + paddingLen][j] < minResample[j]:\n",
    "                    minResample[j] = inputData[i][k + paddingLen][j]\n",
    "                if inp[i][k + paddingLen][j] > maxResample[j]:\n",
    "                    maxResample[j] = inputData[i][k + paddingLen][j]\n",
    "\n",
    "    # Subtract minimum channel value from the respective sample values \n",
    "    # AND divide by maximum value\n",
    "\n",
    "    for i in range(sampleLen):\n",
    "        for j in range(channelNum - 1):\n",
    "            for k in range(unpaddedLen):\n",
    "                inp[i][k + paddingLen][j] = (inp[i][k + paddingLen][j] - minResample[j]) / (maxResample[j] - minResample[j])\n",
    "                \n",
    "    return inp"
   ]
  },
  {
   "cell_type": "code",
   "execution_count": 13,
   "metadata": {
    "tags": []
   },
   "outputs": [],
   "source": [
    "PrePadding_3D = normalise_padded_arrays(PrePaddingTrain, 270, 26, 13, 0)\n",
    "PostPadding_3D = normalise_padded_arrays(PostPaddingTrain, 270, 26, 13, 1)\n",
    "\n",
    "PrePadding_2D = PrePadding_3D.reshape(270, 338)\n",
    "PostPadding_2D = PostPadding_3D.reshape(270, 338)"
   ]
  },
  {
   "cell_type": "code",
   "execution_count": 14,
   "metadata": {},
   "outputs": [],
   "source": [
    "# Normalised datasets for different lengths\n",
    "\n",
    "# Len = 26:\n",
    "train_Resampled_26 = normal(train_Resampled_26, 270, 26, 13)\n",
    "test_Resampled_26 = normal(test_Resampled_26, 370, 26, 13)\n",
    "# Len = 25:\n",
    "train_Resampled_25 = normal(train_Resampled_25, 270, 25, 13)\n",
    "test_Resampled_25 = normal(test_Resampled_25, 370, 25, 13)\n",
    "# Len = 24:\n",
    "train_Resampled_24 = normal(train_Resampled_24, 270, 24, 13)\n",
    "test_Resampled_24 = normal(test_Resampled_24, 370, 24, 13)\n",
    "# Len = 23:\n",
    "train_Resampled_23 = normal(train_Resampled_23, 270, 23, 13)\n",
    "test_Resampled_23 = normal(test_Resampled_23, 370, 23, 13)\n",
    "# Len = 22:\n",
    "train_Resampled_22 = normal(train_Resampled_22, 270, 22, 13)\n",
    "test_Resampled_22 = normal(test_Resampled_22, 370, 22, 13)\n",
    "# Len = 21:\n",
    "train_Resampled_21 = normal(train_Resampled_21, 270, 21, 13)\n",
    "test_Resampled_21 = normal(test_Resampled_21, 370, 21, 13)\n",
    "# Len = 20:\n",
    "train_Resampled_20 = normal(train_Resampled_20, 270, 20, 13)\n",
    "test_Resampled_20 = normal(test_Resampled_20, 370, 20, 13)\n",
    "# Len = 19:\n",
    "train_Resampled_19 = normal(train_Resampled_19, 270, 19, 13)\n",
    "test_Resampled_19 = normal(test_Resampled_19, 370, 19, 13)\n",
    "# Len = 18:\n",
    "train_Resampled_18 = normal(train_Resampled_18, 270, 18, 13)\n",
    "test_Resampled_18 = normal(test_Resampled_18, 370, 18, 13)\n",
    "# Len = 17:\n",
    "train_Resampled_17 = normal(train_Resampled_17, 270, 17, 13)\n",
    "test_Resampled_17 = normal(test_Resampled_17, 370, 17, 13)\n",
    "# Len = 16:\n",
    "train_Resampled_16 = normal(train_Resampled_16, 270, 16, 13)\n",
    "test_Resampled_16 = normal(test_Resampled_16, 370, 16, 13)\n",
    "# Len = 15:\n",
    "train_Resampled_15 = normal(train_Resampled_15, 270, 15, 13)\n",
    "test_Resampled_15 = normal(test_Resampled_15, 370, 15, 13)\n",
    "# Len = 14: \n",
    "train_Resampled_14 = normal(train_Resampled_14, 270, 14, 13)\n",
    "test_Resampled_14 = normal(test_Resampled_14, 370, 14, 13)\n",
    "# Len = 13:\n",
    "train_Resampled_13 = normal(train_Resampled_13, 270, 13, 13)\n",
    "test_Resampled_13 = normal(test_Resampled_13, 370, 13, 13)\n",
    "# Len = 12:\n",
    "train_Resampled_12 = normal(train_Resampled_12, 270, 12, 13)\n",
    "test_Resampled_12 = normal(test_Resampled_12, 370, 12, 13)\n",
    "# Len = 11:\n",
    "train_Resampled_11 = normal(train_Resampled_11, 270, 11, 13)\n",
    "test_Resampled_11 = normal(test_Resampled_11, 370, 11, 13)\n",
    "# Len = 10: \n",
    "train_Resampled_10 = normal(train_Resampled_10, 270, 10, 13)\n",
    "test_Resampled_10 = normal(test_Resampled_10, 370, 10, 13)"
   ]
  },
  {
   "cell_type": "code",
   "execution_count": 15,
   "metadata": {},
   "outputs": [],
   "source": [
    "# train3D has 17 elements\n",
    "train3D = [train_Resampled_26, train_Resampled_25, train_Resampled_24, train_Resampled_23, train_Resampled_22, train_Resampled_21, train_Resampled_20, train_Resampled_19, train_Resampled_18, train_Resampled_17, train_Resampled_16, train_Resampled_15, train_Resampled_14, train_Resampled_13, train_Resampled_12, train_Resampled_11, train_Resampled_10]"
   ]
  },
  {
   "cell_type": "markdown",
   "metadata": {},
   "source": [
    "## Reshaping arrays for use with SVM"
   ]
  },
  {
   "cell_type": "code",
   "execution_count": 16,
   "metadata": {},
   "outputs": [],
   "source": [
    "# Reshape Training Data to 2D array for SVM:\n",
    "train_Resampled_26_2D = train_Resampled_26.reshape(270, 338)\n",
    "train_Resampled_25_2D = train_Resampled_25.reshape(270, 325)\n",
    "train_Resampled_24_2D = train_Resampled_24.reshape(270, 312)\n",
    "train_Resampled_23_2D = train_Resampled_23.reshape(270, 299)\n",
    "train_Resampled_22_2D = train_Resampled_22.reshape(270, 286)\n",
    "train_Resampled_21_2D = train_Resampled_21.reshape(270, 273)\n",
    "train_Resampled_20_2D = train_Resampled_20.reshape(270, 260)\n",
    "train_Resampled_19_2D = train_Resampled_19.reshape(270, 247)\n",
    "train_Resampled_18_2D = train_Resampled_18.reshape(270, 234)\n",
    "train_Resampled_17_2D = train_Resampled_17.reshape(270, 221)\n",
    "train_Resampled_16_2D = train_Resampled_16.reshape(270, 208)\n",
    "train_Resampled_15_2D = train_Resampled_15.reshape(270, 195)\n",
    "train_Resampled_14_2D = train_Resampled_14.reshape(270, 182)\n",
    "train_Resampled_13_2D = train_Resampled_13.reshape(270, 169)\n",
    "train_Resampled_12_2D = train_Resampled_12.reshape(270, 156)\n",
    "train_Resampled_11_2D = train_Resampled_11.reshape(270, 143)\n",
    "train_Resampled_10_2D = train_Resampled_10.reshape(270, 130)\n",
    "\n",
    "\n",
    "#this is for umap:\n",
    "test_Resampled_26_2D = test_Resampled_26.reshape(370, 338)"
   ]
  },
  {
   "cell_type": "code",
   "execution_count": 17,
   "metadata": {},
   "outputs": [],
   "source": [
    "# train2D has 17 elements\n",
    "train2D = [train_Resampled_26_2D, train_Resampled_25_2D, train_Resampled_24_2D, train_Resampled_23_2D, train_Resampled_22_2D, train_Resampled_21_2D, train_Resampled_20_2D ,train_Resampled_19_2D, train_Resampled_18_2D, train_Resampled_17_2D, train_Resampled_16_2D, train_Resampled_15_2D, train_Resampled_14_2D, train_Resampled_13_2D, train_Resampled_12_2D, train_Resampled_11_2D, train_Resampled_10_2D]"
   ]
  },
  {
   "cell_type": "code",
   "execution_count": 15,
   "metadata": {
    "tags": []
   },
   "outputs": [
    {
     "name": "stdout",
     "output_type": "stream",
     "text": [
      "Length inputs_train: 216\n",
      "Length outputs_train: 216\n",
      "Length inputs_test: 270\n",
      "Length trainOutputsNew: 270\n"
     ]
    }
   ],
   "source": [
    "# Crossvalidation. Currently only splitting in train-test data. Ideally, we want a validation set as well (e.g. 80 - 10 - 10 or 60 - 20 - 20)\n",
    "# Function taken from my Intro to Data Science assignment 3 code\n",
    "from sklearn.model_selection import train_test_split\n",
    "\n",
    "def splitData(inputs, outputs):   \n",
    "    # To avoid overfitting, we divide the dataset into a part for training and a part for testing\n",
    "    # We split the dataset into 80% training data and 20% testing data\n",
    "    inputs_train, inputs_test, outputs_train, outputs_test = train_test_split(\n",
    "            inputs, outputs, test_size=0.20) \n",
    "    \n",
    "    return inputs_train, inputs_test, outputs_train, outputs_test\n",
    "\n",
    "inputs_train, inputs_test, outputs_train, outputs_test = splitData(train_Resampled_26, trainOutputsNew)\n",
    "\n",
    "print('Length inputs_train:', len(inputs_train))\n",
    "print('Length outputs_train:', len(outputs_train))\n",
    "print('Length inputs_test:', len(trainOutputsNew))\n",
    "print('Length trainOutputsNew:', len(trainOutputsNew))\n"
   ]
  },
  {
   "cell_type": "code",
   "execution_count": 16,
   "metadata": {
    "tags": []
   },
   "outputs": [],
   "source": [
    "from sklearn import svm\n",
    "from sklearn.neural_network import MLPClassifier\n",
    "from sklearn.linear_model import LogisticRegression\n",
    "\n",
    "# Implementation Support Vector Machine\n",
    "def SVM(inputs_train, outputs_train, inputs_test):    \n",
    "    # Create a classifier \n",
    "    classifier = svm.SVC(kernel='linear')    \n",
    "    outputs_train = outputs_train.astype('int')\n",
    "    classifier.fit(inputs_train, outputs_train)\n",
    "    \n",
    "    # Predict the test data\n",
    "    labels_prediction = classifier.predict(inputs_test)\n",
    "\n",
    "    return labels_prediction\n",
    "\n",
    "\n",
    "# Implementation Multilayer Perceptron\n",
    "def MLP(inputs_train, outputs_train, inputs_test):\n",
    "    classifier = MLPClassifier(hidden_layer_sizes=(30, 20, 20), \n",
    "                               max_iter=2000, activation = 'relu',solver='adam',random_state=1)\n",
    "    outputs_train = outputs_train.astype('int')\n",
    "    classifier.fit(inputs_train, outputs_train)\n",
    "    \n",
    "    # Predict the test data\n",
    "    labels_prediction = classifier.predict(inputs_test)\n",
    "\n",
    "    return labels_prediction\n",
    "\n",
    "def simpleLogisticRegression(inputs_train, outputs_train, inputs_test):\n",
    "    model = LogisticRegression(max_iter=500)\n",
    "    outputs_train = outputs_train.astype('int')\n",
    "\n",
    "    model.fit(inputs_train, outputs_train)\n",
    "\n",
    "    labels_prediction = model.predict(inputs_test)\n",
    "    #print(labels_prediction)\n",
    "    \n",
    "    return labels_prediction\n",
    "\n",
    "\n",
    "from sklearn.ensemble import RandomForestClassifier, VotingClassifier\n",
    "\n",
    "\"\"\" Creates ensemble classifier with our best performing classifiers\"\"\"\n",
    "# Code based on code from assignment of IDS.\n",
    "def createEnsemble():\n",
    "    # Our best performing classifiers\n",
    "    classifier1 = svm.SVC(kernel='linear')  \n",
    "    # classifier2 = LogisticRegression(max_iter=500)\n",
    "    \n",
    "    classifier3 = MLPClassifier(hidden_layer_sizes=(30, 20, 20), \n",
    "                               max_iter=2000, activation = 'relu',solver='adam',random_state=1)\n",
    "    classifier4 = svm.SVC(kernel='poly')\n",
    "    \n",
    "    ensemble = VotingClassifier(estimators = [('SVM_linear', classifier1),  \n",
    "                                              ('mlp', classifier3), ('SVM_poly', classifier4), \n",
    "                                              ], voting = 'hard')\n",
    "    \n",
    "    return ensemble\n",
    "\n",
    "\"\"\" Returns prediction from ensemble classifier\"\"\"   \n",
    "def ensemble(inputs_train, outputs_train, inputs_test):\n",
    "    ensemble = createEnsemble()\n",
    "    ensemble.fit(inputs_train, outputs_train) \n",
    "    \n",
    "    # Predict the test data\n",
    "    labels_prediction = ensemble.predict(inputs_test)\n",
    "    \n",
    "    return labels_prediction\n",
    "\n",
    "\n",
    "def predictLabels(trainInputs, trainOutputs):\n",
    "    inputs_train, inputs_test, outputs_train, outputs_test = splitData(trainInputs, trainOutputs)\n",
    "\n",
    "    # Predict the test labels\n",
    "    prediction = ensemble(inputs_train, outputs_train, inputs_test)\n",
    "\n",
    "    # Print results\n",
    "    wrong = 0\n",
    "    length = len(prediction)\n",
    "    for i in range(length):\n",
    "        #print(prediction[i], np.ravel(outputs_test)[i])\n",
    "        if(prediction[i] != np.ravel(outputs_test)[i]):\n",
    "            wrong = wrong + 1\n",
    "\n",
    "    return ((length - wrong) / length) * 100\n",
    "\n",
    "#print('Go')\n",
    "\n",
    "no_iterations = 1\n",
    "\n",
    "\n",
    "\n",
    "#sampleNum = 26\n",
    "#for data in train2D:\n",
    "    #accuracy_train = np.zeros(no_iterations)\n",
    "    #for i in range(no_iterations):\n",
    "        #accuracy_train = predictLabels(data, trainOutputsNew)\n",
    "    #print(\"Accuracy for {} size arrays: {}\".format(sampleNum, np.mean(accuracy_train)))\n",
    "    #sampleNum = sampleNum - 1"
   ]
  },
  {
   "cell_type": "markdown",
   "metadata": {},
   "source": [
    "## Comparison of SVM Performance on different data preprocessing methods"
   ]
  },
  {
   "cell_type": "code",
   "execution_count": 17,
   "metadata": {},
   "outputs": [
    {
     "ename": "NameError",
     "evalue": "name 'train_Resampled_26_2D' is not defined",
     "output_type": "error",
     "traceback": [
      "\u001b[0;31m---------------------------------------------------------------------------\u001b[0m",
      "\u001b[0;31mNameError\u001b[0m                                 Traceback (most recent call last)",
      "\u001b[0;32m<ipython-input-17-aa3c26b15ed0>\u001b[0m in \u001b[0;36m<module>\u001b[0;34m\u001b[0m\n\u001b[1;32m     10\u001b[0m     \u001b[0maccuracy_PrePad\u001b[0m\u001b[0;34m[\u001b[0m\u001b[0mi\u001b[0m\u001b[0;34m]\u001b[0m \u001b[0;34m=\u001b[0m \u001b[0mpredictLabels\u001b[0m\u001b[0;34m(\u001b[0m\u001b[0mPrePadding_2D\u001b[0m\u001b[0;34m,\u001b[0m \u001b[0mtrainOutputsNew\u001b[0m\u001b[0;34m)\u001b[0m\u001b[0;34m\u001b[0m\u001b[0;34m\u001b[0m\u001b[0m\n\u001b[1;32m     11\u001b[0m     \u001b[0maccuracy_PostPad\u001b[0m\u001b[0;34m[\u001b[0m\u001b[0mi\u001b[0m\u001b[0;34m]\u001b[0m \u001b[0;34m=\u001b[0m \u001b[0mpredictLabels\u001b[0m\u001b[0;34m(\u001b[0m\u001b[0mPostPadding_2D\u001b[0m\u001b[0;34m,\u001b[0m \u001b[0mtrainOutputsNew\u001b[0m\u001b[0;34m)\u001b[0m\u001b[0;34m\u001b[0m\u001b[0;34m\u001b[0m\u001b[0m\n\u001b[0;32m---> 12\u001b[0;31m     \u001b[0maccuracy_Resampling\u001b[0m\u001b[0;34m[\u001b[0m\u001b[0mi\u001b[0m\u001b[0;34m]\u001b[0m \u001b[0;34m=\u001b[0m \u001b[0mpredictLabels\u001b[0m\u001b[0;34m(\u001b[0m\u001b[0mtrain_Resampled_26_2D\u001b[0m\u001b[0;34m,\u001b[0m \u001b[0mtrainOutputsNew\u001b[0m\u001b[0;34m)\u001b[0m\u001b[0;34m\u001b[0m\u001b[0;34m\u001b[0m\u001b[0m\n\u001b[0m\u001b[1;32m     13\u001b[0m \u001b[0;34m\u001b[0m\u001b[0m\n\u001b[1;32m     14\u001b[0m \u001b[0mprint\u001b[0m\u001b[0;34m(\u001b[0m\u001b[0;34m\"Accuracy Prepadding: \"\u001b[0m\u001b[0;34m,\u001b[0m \u001b[0mnp\u001b[0m\u001b[0;34m.\u001b[0m\u001b[0mmean\u001b[0m\u001b[0;34m(\u001b[0m\u001b[0maccuracy_PrePad\u001b[0m\u001b[0;34m)\u001b[0m\u001b[0;34m)\u001b[0m\u001b[0;34m\u001b[0m\u001b[0;34m\u001b[0m\u001b[0m\n",
      "\u001b[0;31mNameError\u001b[0m: name 'train_Resampled_26_2D' is not defined"
     ]
    }
   ],
   "source": [
    "runs = 10\n",
    "\n",
    "accuracy_raw = np.zeros(runs)\n",
    "accuracy_PrePad = np.zeros(runs)\n",
    "accuracy_PostPad = np.zeros(runs)\n",
    "accuracy_Resampling = np.zeros(runs)\n",
    "\n",
    "for i in range(runs):\n",
    "    #accuracy_raw[i] = predictLabels(trainInputs_array, trainOutputs_array)\n",
    "    accuracy_PrePad[i] = predictLabels(PrePadding_2D, trainOutputsNew)\n",
    "    accuracy_PostPad[i] = predictLabels(PostPadding_2D, trainOutputsNew)\n",
    "    accuracy_Resampling[i] = predictLabels(train_Resampled_26_2D, trainOutputsNew)\n",
    "\n",
    "print(\"Accuracy Prepadding: \", np.mean(accuracy_PrePad))\n",
    "print(\"Accuracy Postpadding: \", np.mean(accuracy_PostPad))\n",
    "print(\"Accuracy Resampling: \", np.mean(accuracy_Resampling))\n"
   ]
  },
  {
   "cell_type": "code",
   "execution_count": 21,
   "metadata": {
    "scrolled": true,
    "tags": []
   },
   "outputs": [
    {
     "name": "stdout",
     "output_type": "stream",
     "text": [
      "[0.51517925 0.10139663 0.08465458 0.0561965  0.04841669]\n",
      "[0.53511747 0.09688439 0.08101894 0.05409792 0.04648686]\n",
      "[0.5557643  0.09271315 0.07727817 0.05165824 0.04444773]\n",
      "[0.57669834 0.08898482 0.07360015 0.04909003 0.04218898]\n",
      "[0.60209645 0.08307486 0.06978759 0.04608506 0.03964042]\n",
      "[0.62910753 0.07696794 0.06495458 0.04328643 0.03685592]\n"
     ]
    }
   ],
   "source": [
    "# Perform preprocessing: PCA\n",
    "from sklearn.decomposition import PCA\n",
    "import pandas as pd\n",
    "import matplotlib.pyplot as plt\n",
    "\n",
    "# Try: all data in one vector\n",
    "trainInputsList = [train_Resampled_26_2D, train_Resampled_24_2D, train_Resampled_22_2D, train_Resampled_20_2D, train_Resampled_18_2D, train_Resampled_16_2D]\n",
    "Outputs = np.reshape(trainOutputsNew, (270,1))\n",
    "for PCAInputs in trainInputsList:\n",
    "    #print(Outputs)\n",
    "    allTrainInputs = np.concatenate([PCAInputs,Outputs],axis=1)\n",
    "    \n",
    "    datasetPCA = pd.DataFrame(allTrainInputs)\n",
    "    \n",
    "    pca = PCA(n_components=5)\n",
    "    pca.fit(datasetPCA)\n",
    "    principalComponents = pca.fit_transform(datasetPCA)\n",
    "\n",
    "    print(pca.explained_variance_ratio_)"
   ]
  },
  {
   "cell_type": "code",
   "execution_count": 22,
   "metadata": {},
   "outputs": [
    {
     "name": "stdout",
     "output_type": "stream",
     "text": [
      "Explained variation per principal component: [0.20321894 0.17451443]\n"
     ]
    },
    {
     "data": {
      "image/png": "[encoded data removed]",
      "text/plain": [
       "<Figure size 864x864 with 1 Axes>"
      ]
     },
     "metadata": {
      "needs_background": "light"
     },
     "output_type": "display_data"
    }
   ],
   "source": [
    "pca = PCA(n_components=2)\n",
    "pca.fit(train_Resampled_26_2D)\n",
    "\n",
    "# Prints PCA plot (Does only work with a PCA with 2 components)\n",
    "# Code based on https://towardsdatascience.com/pca-using-python-scikit-learn-e653f8989e60\n",
    "principalComponents = pca.fit_transform(train_Resampled_26_2D)\n",
    "principalDf = pd.DataFrame(data = principalComponents\n",
    "             , columns = ['principal component 1', 'principal component 2'])\n",
    "\n",
    "finalDf = pd.concat([principalDf, pd.DataFrame(Outputs)], axis = 1)\n",
    "#print(finalDf)\n",
    "print('Explained variation per principal component: {}'.format(pca.explained_variance_ratio_))\n",
    "\n",
    "fig = plt.figure(figsize = (12,12))\n",
    "ax = fig.add_subplot(1,1,1) \n",
    "ax.set_xlabel('Principal Component 1', fontsize = 15)\n",
    "ax.set_ylabel('Principal Component 2', fontsize = 15)\n",
    "ax.set_title('2 component PCA', fontsize = 20)\n",
    "# Choose the speakers that you want to visualize in the plot\n",
    "targets = [1, 3, 4]\n",
    "colors = 'r', 'g', 'b'\n",
    "# Uncomment if you want to visualize all speakers\n",
    "#targets = [1,2,3,4,5,6,7,8,9]\n",
    "#colors = ['r', 'g', 'b', 'k', 'c', 'm', 'y', 'tab:orange', 'tab:brown']\n",
    "\n",
    "for target, color in zip(targets,colors):\n",
    "    indicesToKeep = finalDf[0] == target\n",
    "    ax.scatter(finalDf.loc[indicesToKeep, 'principal component 1']\n",
    "               , finalDf.loc[indicesToKeep, 'principal component 2']\n",
    "               , c = color\n",
    "               , s = 50)\n",
    "ax.legend(targets)\n",
    "ax.grid()\n",
    "\n",
    "plt.show()"
   ]
  },
  {
   "cell_type": "markdown",
   "metadata": {},
   "source": [
    "## Data reduction & visualisation with UMAP"
   ]
  },
  {
   "cell_type": "code",
   "execution_count": 23,
   "metadata": {},
   "outputs": [],
   "source": [
    "# Data Reduction with UMAP\n",
    "# pip3 install umap-learn\n",
    "import numpy as np\n",
    "from sklearn.datasets import load_digits\n",
    "import matplotlib.pyplot as plt\n",
    "from mpl_toolkits.mplot3d import Axes3D\n",
    "import seaborn as sns\n",
    "import sys\n",
    "\n",
    "# Installing didn't work on my machine, so I provided tha path manually\n",
    "sys.path.append('/Users/lauridsstockert/opt/anaconda3/lib/python3.7/site-packages')\n",
    "\n",
    "import umap\n",
    "\n",
    "sns.set(style='white', context='poster', rc={'figure.figsize':(14,10)})"
   ]
  },
  {
   "cell_type": "code",
   "execution_count": 24,
   "metadata": {},
   "outputs": [],
   "source": [
    "def umapCalc(input_data, n_neighbors, n_components, min_dist):\n",
    "    reducer = umap.UMAP(n_neighbors=n_neighbors, n_components = n_components, min_dist = min_dist)\n",
    "    embedding = reducer.fit_transform(input_data)\n",
    "    return embedding\n",
    "\n",
    "def drawUmap(input_data, input_labels, n_neighbors=15, min_dist=0.1, n_components=2, metric='euclidean', title=''):\n",
    "    fit = umap.UMAP(\n",
    "        n_neighbors=n_neighbors,\n",
    "        min_dist=min_dist,\n",
    "        n_components=n_components,\n",
    "        metric=metric\n",
    "    )\n",
    "    u = fit.fit_transform(input_data)\n",
    "    fig = plt.figure()\n",
    "    if n_components == 1:\n",
    "        ax = fig.add_subplot(111)\n",
    "        ax.scatter(u[:,0], range(len(u)), c=input_labels)\n",
    "    if n_components == 2:\n",
    "        ax = fig.add_subplot(111)\n",
    "        ax.scatter(u[:,0], u[:,1], c=input_labels)\n",
    "    if n_components == 3:\n",
    "        ax = fig.add_subplot(111, projection='3d')\n",
    "        ax.scatter(u[:,0], u[:,1], u[:,2], c=input_labels, s=100)\n",
    "    if n_components > 3:\n",
    "        print(\"ERROR: Cannot draw more than 3 dimensions\")\n",
    "    plt.title(title, fontsize=18)"
   ]
  },
  {
   "cell_type": "code",
   "execution_count": 25,
   "metadata": {},
   "outputs": [],
   "source": [
    "# Trying Data Reduction with UMAP\n",
    "# Results range can get as high as 77% (best try so far)\n",
    "# I have commented out the code for parameter optimisation\n",
    "\n",
    "#accuracy_padded_after = np.zeros(100)\n",
    "######accuracy_padded_before = np.zeros(100)\n",
    "#cnt = 1\n",
    "\n",
    "#for n in (2, 5, 10, 20):\n",
    "    #for d in (0.1, 0.2, 0.4):\n",
    "        #for c in (2, 5):\n",
    "            #accuracy_padded_after = np.zeros(100)\n",
    "            #inputs_train_umap = umapCalc(trainInputsSquaredPost, n, c, d)\n",
    "            #for i in range(100):\n",
    "                #accuracy_padded_after[i] = predictLabels(inputs_train_umap, trainOutputsNew)\n",
    "            #print(\"Params are n_neighbors(n), min_dist(d), and n_components(c) \\n  n = {}, d = {}, c = {}\".format(n, d, c))\n",
    "            #print(\"Av. Accuracy (padding after)\", np.mean(accuracy_padded_after))\n",
    "            #print(\"\\n\")\n",
    "            #cnt = cnt + 1\n",
    "# empirically good combinations:\n",
    "# Acc = 77%: n = 50, d = 0.99, c = 7\n",
    "# Acc = 63.37%: n = 20, d = 0.8, c = 2"
   ]
  },
  {
   "cell_type": "code",
   "execution_count": 26,
   "metadata": {},
   "outputs": [],
   "source": [
    "for n in (2, 3, 4, 5, 6, 7, 8, 9, 10, 11, 12):\n",
    "    pass\n",
    "    #drawUmap(input_data = trainInputsSquaredPost, input_labels = trainOutputsNew, n_neighbors=n, n_components = 3, title='n_neighbors = {}'.format(n))"
   ]
  },
  {
   "cell_type": "code",
   "execution_count": 27,
   "metadata": {},
   "outputs": [],
   "source": [
    "for d in (0.0, 0.1, 0.25, 0.5, 0.8, 0.99):\n",
    "    pass\n",
    "    #drawUmap(input_data = trainInputsSquaredPost, input_labels = trainOutputsNew, min_dist=d, title='min_dist = {}'.format(d))"
   ]
  },
  {
   "cell_type": "markdown",
   "metadata": {},
   "source": [
    "## LSTM classifier implementation"
   ]
  },
  {
   "cell_type": "code",
   "execution_count": 18,
   "metadata": {},
   "outputs": [],
   "source": [
    "#for those packages install tensorflow\n",
    "from keras.models import Sequential\n",
    "from keras.layers import Dense\n",
    "from keras.layers import LSTM\n",
    "from keras.layers.normalization import BatchNormalization\n",
    "from keras.layers import Bidirectional\n",
    "from keras.layers import Activation\n",
    "from keras.layers.embeddings import Embedding\n",
    "from keras.layers import Dropout\n",
    "from keras.preprocessing import sequence\n",
    "from keras.layers.convolutional import Conv1D\n",
    "from keras.layers.convolutional import MaxPooling1D\n",
    "# fix random seed for reproducibility\n",
    "np.random.seed(7)"
   ]
  },
  {
   "cell_type": "code",
   "execution_count": 31,
   "metadata": {},
   "outputs": [],
   "source": [
    "def predictLabelsLSTM(trainInputs, trainOutputs, epochs_option, optimizer_option, dropout_option):\n",
    "    inputs_train, inputs_test, outputs_train, outputs_test = splitData(trainInputs, trainOutputs)\n",
    "    \n",
    "    inputs_train = np.asarray(inputs_train).astype('float32')\n",
    "    inputs_test = np.asarray(inputs_test).astype('float32')\n",
    "    outputs_train = np.asarray(outputs_train).astype('float32')\n",
    "    outputs_test = np.asarray(outputs_test).astype('float32')\n",
    "    #choose embedding length that is equal to the amount of dimensions\n",
    "    #embedding_vecor_length = 13\n",
    "    model = Sequential()\n",
    "    model.add(Bidirectional(LSTM(units = 100, return_sequences = True, input_shape = inputs_train[0])))\n",
    "    model.add(BatchNormalization())\n",
    "    model.add(Dropout(dropout_option))\n",
    "    model.add(Bidirectional(LSTM(units = 100)))\n",
    "    model.add(BatchNormalization())\n",
    "    #model.add(Dropout(0.2))\n",
    "    model.add(Dense(10, activation='softmax'))\n",
    "    model.compile(loss='sparse_categorical_crossentropy', optimizer=optimizer_option, metrics=['accuracy'])\n",
    "    #print(model.summary())\n",
    "    #[print(i.shape, i.dtype) for i in model.inputs]\n",
    "    #[print(o.shape, o.dtype) for o in model.outputs]\n",
    "    #[print(l.name, l.input_shape, l.dtype) for l in model.layers]\n",
    "    \n",
    "    model.fit(inputs_train, outputs_train, epochs=epochs_option, batch_size=4, verbose=0)\n",
    "    \n",
    "    scores = model.evaluate(inputs_test, outputs_test, verbose=0)\n",
    "\n",
    "    return scores[1]*100\n",
    "\n",
    "\n",
    "iterations = 10\n",
    "\n",
    "#sampleNum = 26\n",
    "#for data in train3D:\n",
    "    #accuracy_train = np.zeros(no_iterations)\n",
    "    #for i in range(iterations):\n",
    "        #accuracy_train = predictLabelsLSTM(data, trainOutputsNew)\n",
    "    #print(\"Accuracy for {} size arrays: {}\".format(sampleNum, np.mean(accuracy_train)))\n",
    "    #sampleNum = sampleNum - 1"
   ]
  },
  {
   "cell_type": "markdown",
   "metadata": {},
   "source": [
    "# LSTM Gridsearch"
   ]
  },
  {
   "cell_type": "code",
   "execution_count": 32,
   "metadata": {
    "scrolled": true
   },
   "outputs": [
    {
     "name": "stdout",
     "output_type": "stream",
     "text": [
      "Length 14 ; Optimizer adamax ; Epochs 10 ; Accuracy 95.74074149131775\n",
      "Length 14 ; Optimizer adamax ; Epochs 10 ; Accuracy 95.18518447875977\n",
      "Length 14 ; Optimizer adamax ; Epochs 10 ; Accuracy 95.55555582046509\n",
      "Length 20 ; Optimizer adamax ; Epochs 10 ; Accuracy 96.29629611968994\n"
     ]
    },
    {
     "ename": "KeyboardInterrupt",
     "evalue": "",
     "output_type": "error",
     "traceback": [
      "\u001b[0;31m---------------------------------------------------------------------------\u001b[0m",
      "\u001b[0;31mKeyboardInterrupt\u001b[0m                         Traceback (most recent call last)",
      "\u001b[0;32m<ipython-input-32-0e84f7eea6c5>\u001b[0m in \u001b[0;36m<module>\u001b[0;34m\u001b[0m\n\u001b[1;32m     15\u001b[0m                 \u001b[0maccuracies\u001b[0m \u001b[0;34m=\u001b[0m \u001b[0mnp\u001b[0m\u001b[0;34m.\u001b[0m\u001b[0mzeros\u001b[0m\u001b[0;34m(\u001b[0m\u001b[0miterations\u001b[0m\u001b[0;34m)\u001b[0m\u001b[0;34m\u001b[0m\u001b[0;34m\u001b[0m\u001b[0m\n\u001b[1;32m     16\u001b[0m                 \u001b[0;32mfor\u001b[0m \u001b[0mi\u001b[0m \u001b[0;32min\u001b[0m \u001b[0mrange\u001b[0m\u001b[0;34m(\u001b[0m\u001b[0miterations\u001b[0m\u001b[0;34m)\u001b[0m\u001b[0;34m:\u001b[0m\u001b[0;34m\u001b[0m\u001b[0;34m\u001b[0m\u001b[0m\n\u001b[0;32m---> 17\u001b[0;31m                     \u001b[0maccuracies\u001b[0m\u001b[0;34m[\u001b[0m\u001b[0mi\u001b[0m\u001b[0;34m]\u001b[0m \u001b[0;34m=\u001b[0m \u001b[0mpredictLabelsLSTM\u001b[0m\u001b[0;34m(\u001b[0m\u001b[0msample\u001b[0m\u001b[0;34m,\u001b[0m \u001b[0mtrainOutputsNew\u001b[0m\u001b[0;34m,\u001b[0m \u001b[0mepochs\u001b[0m\u001b[0;34m,\u001b[0m \u001b[0moptimizer\u001b[0m\u001b[0;34m,\u001b[0m \u001b[0mdropout\u001b[0m\u001b[0;34m)\u001b[0m\u001b[0;34m\u001b[0m\u001b[0;34m\u001b[0m\u001b[0m\n\u001b[0m\u001b[1;32m     18\u001b[0m                 \u001b[0mprint\u001b[0m\u001b[0;34m(\u001b[0m\u001b[0;34m\"Length\"\u001b[0m\u001b[0;34m,\u001b[0m \u001b[0mlen\u001b[0m\u001b[0;34m(\u001b[0m\u001b[0msample\u001b[0m\u001b[0;34m[\u001b[0m\u001b[0;36m0\u001b[0m\u001b[0;34m]\u001b[0m\u001b[0;34m)\u001b[0m\u001b[0;34m,\u001b[0m \u001b[0;34m\"; Optimizer\"\u001b[0m\u001b[0;34m,\u001b[0m \u001b[0moptimizer\u001b[0m\u001b[0;34m,\u001b[0m \u001b[0;34m\"; Epochs\"\u001b[0m\u001b[0;34m,\u001b[0m \u001b[0mepochs\u001b[0m\u001b[0;34m,\u001b[0m \u001b[0;34m\"; Accuracy\"\u001b[0m\u001b[0;34m,\u001b[0m \u001b[0mnp\u001b[0m\u001b[0;34m.\u001b[0m\u001b[0mmean\u001b[0m\u001b[0;34m(\u001b[0m\u001b[0maccuracies\u001b[0m\u001b[0;34m)\u001b[0m\u001b[0;34m)\u001b[0m\u001b[0;34m\u001b[0m\u001b[0;34m\u001b[0m\u001b[0m\n",
      "\u001b[0;32m<ipython-input-31-7bc35b8e4765>\u001b[0m in \u001b[0;36mpredictLabelsLSTM\u001b[0;34m(trainInputs, trainOutputs, epochs_option, optimizer_option, dropout_option)\u001b[0m\n\u001b[1;32m     22\u001b[0m     \u001b[0;31m#[print(l.name, l.input_shape, l.dtype) for l in model.layers]\u001b[0m\u001b[0;34m\u001b[0m\u001b[0;34m\u001b[0m\u001b[0;34m\u001b[0m\u001b[0m\n\u001b[1;32m     23\u001b[0m \u001b[0;34m\u001b[0m\u001b[0m\n\u001b[0;32m---> 24\u001b[0;31m     \u001b[0mmodel\u001b[0m\u001b[0;34m.\u001b[0m\u001b[0mfit\u001b[0m\u001b[0;34m(\u001b[0m\u001b[0minputs_train\u001b[0m\u001b[0;34m,\u001b[0m \u001b[0moutputs_train\u001b[0m\u001b[0;34m,\u001b[0m \u001b[0mepochs\u001b[0m\u001b[0;34m=\u001b[0m\u001b[0mepochs_option\u001b[0m\u001b[0;34m,\u001b[0m \u001b[0mbatch_size\u001b[0m\u001b[0;34m=\u001b[0m\u001b[0;36m4\u001b[0m\u001b[0;34m,\u001b[0m \u001b[0mverbose\u001b[0m\u001b[0;34m=\u001b[0m\u001b[0;36m0\u001b[0m\u001b[0;34m)\u001b[0m\u001b[0;34m\u001b[0m\u001b[0;34m\u001b[0m\u001b[0m\n\u001b[0m\u001b[1;32m     25\u001b[0m \u001b[0;34m\u001b[0m\u001b[0m\n\u001b[1;32m     26\u001b[0m     \u001b[0mscores\u001b[0m \u001b[0;34m=\u001b[0m \u001b[0mmodel\u001b[0m\u001b[0;34m.\u001b[0m\u001b[0mevaluate\u001b[0m\u001b[0;34m(\u001b[0m\u001b[0minputs_test\u001b[0m\u001b[0;34m,\u001b[0m \u001b[0moutputs_test\u001b[0m\u001b[0;34m,\u001b[0m \u001b[0mverbose\u001b[0m\u001b[0;34m=\u001b[0m\u001b[0;36m0\u001b[0m\u001b[0;34m)\u001b[0m\u001b[0;34m\u001b[0m\u001b[0;34m\u001b[0m\u001b[0m\n",
      "\u001b[0;32m~/.local/lib/python3.8/site-packages/tensorflow/python/keras/engine/training.py\u001b[0m in \u001b[0;36mfit\u001b[0;34m(self, x, y, batch_size, epochs, verbose, callbacks, validation_split, validation_data, shuffle, class_weight, sample_weight, initial_epoch, steps_per_epoch, validation_steps, validation_batch_size, validation_freq, max_queue_size, workers, use_multiprocessing)\u001b[0m\n\u001b[1;32m   1098\u001b[0m                 _r=1):\n\u001b[1;32m   1099\u001b[0m               \u001b[0mcallbacks\u001b[0m\u001b[0;34m.\u001b[0m\u001b[0mon_train_batch_begin\u001b[0m\u001b[0;34m(\u001b[0m\u001b[0mstep\u001b[0m\u001b[0;34m)\u001b[0m\u001b[0;34m\u001b[0m\u001b[0;34m\u001b[0m\u001b[0m\n\u001b[0;32m-> 1100\u001b[0;31m               \u001b[0mtmp_logs\u001b[0m \u001b[0;34m=\u001b[0m \u001b[0mself\u001b[0m\u001b[0;34m.\u001b[0m\u001b[0mtrain_function\u001b[0m\u001b[0;34m(\u001b[0m\u001b[0miterator\u001b[0m\u001b[0;34m)\u001b[0m\u001b[0;34m\u001b[0m\u001b[0;34m\u001b[0m\u001b[0m\n\u001b[0m\u001b[1;32m   1101\u001b[0m               \u001b[0;32mif\u001b[0m \u001b[0mdata_handler\u001b[0m\u001b[0;34m.\u001b[0m\u001b[0mshould_sync\u001b[0m\u001b[0;34m:\u001b[0m\u001b[0;34m\u001b[0m\u001b[0;34m\u001b[0m\u001b[0m\n\u001b[1;32m   1102\u001b[0m                 \u001b[0mcontext\u001b[0m\u001b[0;34m.\u001b[0m\u001b[0masync_wait\u001b[0m\u001b[0;34m(\u001b[0m\u001b[0;34m)\u001b[0m\u001b[0;34m\u001b[0m\u001b[0;34m\u001b[0m\u001b[0m\n",
      "\u001b[0;32m~/.local/lib/python3.8/site-packages/tensorflow/python/eager/def_function.py\u001b[0m in \u001b[0;36m__call__\u001b[0;34m(self, *args, **kwds)\u001b[0m\n\u001b[1;32m    826\u001b[0m     \u001b[0mtracing_count\u001b[0m \u001b[0;34m=\u001b[0m \u001b[0mself\u001b[0m\u001b[0;34m.\u001b[0m\u001b[0mexperimental_get_tracing_count\u001b[0m\u001b[0;34m(\u001b[0m\u001b[0;34m)\u001b[0m\u001b[0;34m\u001b[0m\u001b[0;34m\u001b[0m\u001b[0m\n\u001b[1;32m    827\u001b[0m     \u001b[0;32mwith\u001b[0m \u001b[0mtrace\u001b[0m\u001b[0;34m.\u001b[0m\u001b[0mTrace\u001b[0m\u001b[0;34m(\u001b[0m\u001b[0mself\u001b[0m\u001b[0;34m.\u001b[0m\u001b[0m_name\u001b[0m\u001b[0;34m)\u001b[0m \u001b[0;32mas\u001b[0m \u001b[0mtm\u001b[0m\u001b[0;34m:\u001b[0m\u001b[0;34m\u001b[0m\u001b[0;34m\u001b[0m\u001b[0m\n\u001b[0;32m--> 828\u001b[0;31m       \u001b[0mresult\u001b[0m \u001b[0;34m=\u001b[0m \u001b[0mself\u001b[0m\u001b[0;34m.\u001b[0m\u001b[0m_call\u001b[0m\u001b[0;34m(\u001b[0m\u001b[0;34m*\u001b[0m\u001b[0margs\u001b[0m\u001b[0;34m,\u001b[0m \u001b[0;34m**\u001b[0m\u001b[0mkwds\u001b[0m\u001b[0;34m)\u001b[0m\u001b[0;34m\u001b[0m\u001b[0;34m\u001b[0m\u001b[0m\n\u001b[0m\u001b[1;32m    829\u001b[0m       \u001b[0mcompiler\u001b[0m \u001b[0;34m=\u001b[0m \u001b[0;34m\"xla\"\u001b[0m \u001b[0;32mif\u001b[0m \u001b[0mself\u001b[0m\u001b[0;34m.\u001b[0m\u001b[0m_experimental_compile\u001b[0m \u001b[0;32melse\u001b[0m \u001b[0;34m\"nonXla\"\u001b[0m\u001b[0;34m\u001b[0m\u001b[0;34m\u001b[0m\u001b[0m\n\u001b[1;32m    830\u001b[0m       \u001b[0mnew_tracing_count\u001b[0m \u001b[0;34m=\u001b[0m \u001b[0mself\u001b[0m\u001b[0;34m.\u001b[0m\u001b[0mexperimental_get_tracing_count\u001b[0m\u001b[0;34m(\u001b[0m\u001b[0;34m)\u001b[0m\u001b[0;34m\u001b[0m\u001b[0;34m\u001b[0m\u001b[0m\n",
      "\u001b[0;32m~/.local/lib/python3.8/site-packages/tensorflow/python/eager/def_function.py\u001b[0m in \u001b[0;36m_call\u001b[0;34m(self, *args, **kwds)\u001b[0m\n\u001b[1;32m    853\u001b[0m       \u001b[0;31m# In this case we have created variables on the first call, so we run the\u001b[0m\u001b[0;34m\u001b[0m\u001b[0;34m\u001b[0m\u001b[0;34m\u001b[0m\u001b[0m\n\u001b[1;32m    854\u001b[0m       \u001b[0;31m# defunned version which is guaranteed to never create variables.\u001b[0m\u001b[0;34m\u001b[0m\u001b[0;34m\u001b[0m\u001b[0;34m\u001b[0m\u001b[0m\n\u001b[0;32m--> 855\u001b[0;31m       \u001b[0;32mreturn\u001b[0m \u001b[0mself\u001b[0m\u001b[0;34m.\u001b[0m\u001b[0m_stateless_fn\u001b[0m\u001b[0;34m(\u001b[0m\u001b[0;34m*\u001b[0m\u001b[0margs\u001b[0m\u001b[0;34m,\u001b[0m \u001b[0;34m**\u001b[0m\u001b[0mkwds\u001b[0m\u001b[0;34m)\u001b[0m  \u001b[0;31m# pylint: disable=not-callable\u001b[0m\u001b[0;34m\u001b[0m\u001b[0;34m\u001b[0m\u001b[0m\n\u001b[0m\u001b[1;32m    856\u001b[0m     \u001b[0;32melif\u001b[0m \u001b[0mself\u001b[0m\u001b[0;34m.\u001b[0m\u001b[0m_stateful_fn\u001b[0m \u001b[0;32mis\u001b[0m \u001b[0;32mnot\u001b[0m \u001b[0;32mNone\u001b[0m\u001b[0;34m:\u001b[0m\u001b[0;34m\u001b[0m\u001b[0;34m\u001b[0m\u001b[0m\n\u001b[1;32m    857\u001b[0m       \u001b[0;31m# Release the lock early so that multiple threads can perform the call\u001b[0m\u001b[0;34m\u001b[0m\u001b[0;34m\u001b[0m\u001b[0;34m\u001b[0m\u001b[0m\n",
      "\u001b[0;32m~/.local/lib/python3.8/site-packages/tensorflow/python/eager/function.py\u001b[0m in \u001b[0;36m__call__\u001b[0;34m(self, *args, **kwargs)\u001b[0m\n\u001b[1;32m   2940\u001b[0m       (graph_function,\n\u001b[1;32m   2941\u001b[0m        filtered_flat_args) = self._maybe_define_function(args, kwargs)\n\u001b[0;32m-> 2942\u001b[0;31m     return graph_function._call_flat(\n\u001b[0m\u001b[1;32m   2943\u001b[0m         filtered_flat_args, captured_inputs=graph_function.captured_inputs)  # pylint: disable=protected-access\n\u001b[1;32m   2944\u001b[0m \u001b[0;34m\u001b[0m\u001b[0m\n",
      "\u001b[0;32m~/.local/lib/python3.8/site-packages/tensorflow/python/eager/function.py\u001b[0m in \u001b[0;36m_call_flat\u001b[0;34m(self, args, captured_inputs, cancellation_manager)\u001b[0m\n\u001b[1;32m   1916\u001b[0m         and executing_eagerly):\n\u001b[1;32m   1917\u001b[0m       \u001b[0;31m# No tape is watching; skip to running the function.\u001b[0m\u001b[0;34m\u001b[0m\u001b[0;34m\u001b[0m\u001b[0;34m\u001b[0m\u001b[0m\n\u001b[0;32m-> 1918\u001b[0;31m       return self._build_call_outputs(self._inference_function.call(\n\u001b[0m\u001b[1;32m   1919\u001b[0m           ctx, args, cancellation_manager=cancellation_manager))\n\u001b[1;32m   1920\u001b[0m     forward_backward = self._select_forward_and_backward_functions(\n",
      "\u001b[0;32m~/.local/lib/python3.8/site-packages/tensorflow/python/eager/function.py\u001b[0m in \u001b[0;36mcall\u001b[0;34m(self, ctx, args, cancellation_manager)\u001b[0m\n\u001b[1;32m    553\u001b[0m       \u001b[0;32mwith\u001b[0m \u001b[0m_InterpolateFunctionError\u001b[0m\u001b[0;34m(\u001b[0m\u001b[0mself\u001b[0m\u001b[0;34m)\u001b[0m\u001b[0;34m:\u001b[0m\u001b[0;34m\u001b[0m\u001b[0;34m\u001b[0m\u001b[0m\n\u001b[1;32m    554\u001b[0m         \u001b[0;32mif\u001b[0m \u001b[0mcancellation_manager\u001b[0m \u001b[0;32mis\u001b[0m \u001b[0;32mNone\u001b[0m\u001b[0;34m:\u001b[0m\u001b[0;34m\u001b[0m\u001b[0;34m\u001b[0m\u001b[0m\n\u001b[0;32m--> 555\u001b[0;31m           outputs = execute.execute(\n\u001b[0m\u001b[1;32m    556\u001b[0m               \u001b[0mstr\u001b[0m\u001b[0;34m(\u001b[0m\u001b[0mself\u001b[0m\u001b[0;34m.\u001b[0m\u001b[0msignature\u001b[0m\u001b[0;34m.\u001b[0m\u001b[0mname\u001b[0m\u001b[0;34m)\u001b[0m\u001b[0;34m,\u001b[0m\u001b[0;34m\u001b[0m\u001b[0;34m\u001b[0m\u001b[0m\n\u001b[1;32m    557\u001b[0m               \u001b[0mnum_outputs\u001b[0m\u001b[0;34m=\u001b[0m\u001b[0mself\u001b[0m\u001b[0;34m.\u001b[0m\u001b[0m_num_outputs\u001b[0m\u001b[0;34m,\u001b[0m\u001b[0;34m\u001b[0m\u001b[0;34m\u001b[0m\u001b[0m\n",
      "\u001b[0;32m~/.local/lib/python3.8/site-packages/tensorflow/python/eager/execute.py\u001b[0m in \u001b[0;36mquick_execute\u001b[0;34m(op_name, num_outputs, inputs, attrs, ctx, name)\u001b[0m\n\u001b[1;32m     57\u001b[0m   \u001b[0;32mtry\u001b[0m\u001b[0;34m:\u001b[0m\u001b[0;34m\u001b[0m\u001b[0;34m\u001b[0m\u001b[0m\n\u001b[1;32m     58\u001b[0m     \u001b[0mctx\u001b[0m\u001b[0;34m.\u001b[0m\u001b[0mensure_initialized\u001b[0m\u001b[0;34m(\u001b[0m\u001b[0;34m)\u001b[0m\u001b[0;34m\u001b[0m\u001b[0;34m\u001b[0m\u001b[0m\n\u001b[0;32m---> 59\u001b[0;31m     tensors = pywrap_tfe.TFE_Py_Execute(ctx._handle, device_name, op_name,\n\u001b[0m\u001b[1;32m     60\u001b[0m                                         inputs, attrs, num_outputs)\n\u001b[1;32m     61\u001b[0m   \u001b[0;32mexcept\u001b[0m \u001b[0mcore\u001b[0m\u001b[0;34m.\u001b[0m\u001b[0m_NotOkStatusException\u001b[0m \u001b[0;32mas\u001b[0m \u001b[0me\u001b[0m\u001b[0;34m:\u001b[0m\u001b[0;34m\u001b[0m\u001b[0;34m\u001b[0m\u001b[0m\n",
      "\u001b[0;31mKeyboardInterrupt\u001b[0m: "
     ]
    }
   ],
   "source": [
    "EpochTimes = [ 10, 15, 20]\n",
    "Optimizers = ['adamax','sgd', 'adagrad']\n",
    "Resamples = [train_Resampled_14, train_Resampled_20, train_Resampled_26]\n",
    "Dropouts = [ 0.1, 0.2, 0.3]\n",
    "\n",
    "import tensorflow as tf\n",
    "import logging\n",
    "tf.get_logger().setLevel(logging.ERROR)\n",
    "\n",
    "iterations = 10\n",
    "for epochs in EpochTimes:\n",
    "    for optimizer in Optimizers:\n",
    "        for sample in Resamples:\n",
    "            for dropout in Dropouts:\n",
    "                accuracies = np.zeros(iterations)\n",
    "                for i in range(iterations):\n",
    "                    accuracies[i] = predictLabelsLSTM(sample, trainOutputsNew, epochs, optimizer, dropout)\n",
    "                print(\"Length\", len(sample[0]), \"; Optimizer\", optimizer, \"; Epochs\", epochs, \"; Dropout\", dropout, \"; Accuracy\", np.mean(accuracies))"
   ]
  },
  {
   "cell_type": "code",
   "execution_count": null,
   "metadata": {},
   "outputs": [],
   "source": [
    "accuracy_something = np.zeros(iterations)\n",
    "for i in range(iterations):\n",
    "    pass\n",
    "    #accuracy_something[i] = predictLabelsLSTM(train3D[0], trainOutputsNew)\n",
    "#print(\"Accuracy: \", np.mean(accuracy_something))"
   ]
  },
  {
   "cell_type": "code",
   "execution_count": null,
   "metadata": {},
   "outputs": [],
   "source": [
    "def predictLabelsLSTM_test(inputs_train, inputs_test, outputs_train, outputs_test):\n",
    "    \n",
    "    inputs_train = np.asarray(inputs_train).astype('float32')\n",
    "    inputs_test = np.asarray(inputs_test).astype('float32')\n",
    "    outputs_train = np.asarray(outputs_train).astype('float32')\n",
    "    outputs_test = np.asarray(outputs_test).astype('float32')\n",
    "    #choose embedding length that is equal to the amount of dimensions\n",
    "    #embedding_vecor_length = 13\n",
    "    model = Sequential()\n",
    "    model.add(Bidirectional(LSTM(units = 100, return_sequences = True, input_shape = inputs_train[0])))\n",
    "    model.add(BatchNormalization())\n",
    "    model.add(Dropout(0.3))\n",
    "    model.add(Bidirectional(LSTM(units = 100)))\n",
    "    model.add(BatchNormalization())\n",
    "    #model.add(Dropout(0.2))\n",
    "    model.add(Dense(10, activation='softmax'))\n",
    "    model.compile(loss='sparse_categorical_crossentropy', optimizer='Adamax', metrics=['accuracy'])\n",
    "    #print(model.summary())\n",
    "    #[print(i.shape, i.dtype) for i in model.inputs]\n",
    "    #[print(o.shape, o.dtype) for o in model.outputs]\n",
    "    #[print(l.name, l.input_shape, l.dtype) for l in model.layers]\n",
    "    \n",
    "    model.fit(inputs_train, outputs_train, epochs=25, batch_size=4)\n",
    "    \n",
    "    scores = model.evaluate(inputs_test, outputs_test, verbose=0)\n",
    "\n",
    "    return scores[1]*100"
   ]
  },
  {
   "cell_type": "code",
   "execution_count": null,
   "metadata": {
    "tags": []
   },
   "outputs": [],
   "source": [
    "no_iter = 10\n",
    "#test_accuracy = np.zeros(no_iter)\n",
    "\n",
    "for j in range(no_iter):\n",
    "    pass\n",
    "    #test_accuracy[j] = predictLabelsLSTM_test(train_Resampled_26, test_Resampled_26, trainOutputsNew, testOutputsNew)\n",
    "#print(\"Test Accuracy:\", np.mean(test_accuracy))"
   ]
  },
  {
   "cell_type": "markdown",
   "metadata": {},
   "source": [
    "## ECHO classifier implementation"
   ]
  },
  {
   "cell_type": "code",
   "execution_count": null,
   "metadata": {},
   "outputs": [],
   "source": [
    "## Still need to check if 2D data array from before works with ECHO"
   ]
  },
  {
   "cell_type": "code",
   "execution_count": null,
   "metadata": {},
   "outputs": [],
   "source": [
    "print(trainOutputsNew)"
   ]
  },
  {
   "cell_type": "code",
   "execution_count": null,
   "metadata": {
    "tags": []
   },
   "outputs": [],
   "source": [
    "# Format data for ECHO implenetation\n",
    "ECHO_Train_26 = train_Resampled_26_2D.reshape(7020, 13)\n",
    "\n",
    "trainOutputsEcho = np.zeros((7020, 9))\n",
    "\n",
    "for i in range (270):\n",
    "    for j in range(26):\n",
    "        trainOutputsEcho[i * 26 + j][trainOutputsNew[i] - 1] = 1"
   ]
  },
  {
   "cell_type": "code",
   "execution_count": null,
   "metadata": {},
   "outputs": [],
   "source": [
    "# train data\n",
    "trainInputs_array = []\n",
    "trainOutputs_array = []\n",
    "\n",
    "for i in range(270):\n",
    "    ndim = np.shape(trainInputs[i][0])[0]\n",
    "    for j in range(ndim):\n",
    "        trainInputs_array.append(trainInputs[i][0][j])\n",
    "        trainOutputs_array.append(trainOutputs[i][0][j])\n",
    "\n",
    "# test data        \n",
    "testInputs_array = []\n",
    "testOutputs_array = []\n",
    "\n",
    "for i in range(370):\n",
    "    ndim = np.shape(testInputs[i][0])[0]\n",
    "    for j in range(ndim):\n",
    "        testInputs_array.append(testInputs[i][0][j])\n",
    "        testOutputs_array.append(testOutputs[i][0][j])\n",
    "    \n",
    "    \n",
    "# data arrays used for ESN; all the timesteps with its 12 channels (dim) in each recording put into a list\n",
    "trainInputs_array = np.asarray(trainInputs_array)     \n",
    "trainOutputs_array = np.asarray(trainOutputs_array)\n",
    "\n",
    "testInputs_array = np.asarray(testInputs_array)\n",
    "testOutputs_array = np.asarray(testOutputs_array)"
   ]
  },
  {
   "cell_type": "code",
   "execution_count": null,
   "metadata": {},
   "outputs": [],
   "source": [
    "from sklearn.model_selection import GridSearchCV\n",
    "from sklearn.model_selection import cross_val_score\n",
    "from sklearn.model_selection import RepeatedStratifiedKFold\n",
    "from pyESN import ESN\n",
    "\n",
    "esn = ESN(n_inputs = 13,\n",
    "          n_outputs = 9,\n",
    "          n_reservoir = 300,\n",
    "          spectral_radius = 1.5,\n",
    "          random_state=42)\n",
    "\n",
    "# cross validation\n",
    "inputs_train, inputs_test, outputs_train, outputs_test = splitData(ECHO_Train_26, trainOutputsEcho)\n",
    "\n",
    "print(inputs_train.shape)\n",
    "print(outputs_train.shape)\n",
    "print(inputs_test.shape)\n",
    "\n",
    "train_pred, mean_error_train = esn.fit(inputs_train, outputs_train, inspect=True)\n",
    "test_pred = esn.predict(inputs_test)\n",
    "\n",
    "print(\"Mean test error: \", np.mean((test_pred - outputs_test)**2))\n",
    "print(\"Mean training error:\", mean_error_train)"
   ]
  },
  {
   "cell_type": "markdown",
   "metadata": {},
   "source": [
    "### Parameter optimization + cross validation"
   ]
  },
  {
   "cell_type": "code",
   "execution_count": null,
   "metadata": {},
   "outputs": [],
   "source": [
    "esn = ESN(n_inputs = 12,\n",
    "          n_outputs = 9,\n",
    "          random_state=42)\n",
    "\n",
    "# parameter optimization\n",
    "\n",
    "cv = RepeatedStratifiedKFold(n_splits=269, n_repeats=2, random_state=42)\n",
    "param_grid = {\"n_reservoir\": [200, 400, 600, 800, 1000]}\n",
    "\n",
    "clf = GridSearchCV(esn, param_grid)\n",
    "\n",
    "m_scores = cross_val_score(esn, trainInputs, trainOutputs, cv=cv)"
   ]
  },
  {
   "cell_type": "code",
   "execution_count": null,
   "metadata": {},
   "outputs": [],
   "source": []
  }
 ],
 "metadata": {
  "kernelspec": {
   "display_name": "Python 3",
   "language": "python",
   "name": "python3"
  },
  "language_info": {
   "codemirror_mode": {
    "name": "ipython",
    "version": 3
   },
   "file_extension": ".py",
   "mimetype": "text/x-python",
   "name": "python",
   "nbconvert_exporter": "python",
   "pygments_lexer": "ipython3",
   "version": "3.8.5"
  }
 },
 "nbformat": 4,
 "nbformat_minor": 2
}
